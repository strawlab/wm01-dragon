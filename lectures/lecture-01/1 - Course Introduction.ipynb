{
 "cells": [
  {
   "cell_type": "markdown",
   "metadata": {},
   "source": [
    "# WM-01 Bioinformatics\n",
    "\n",
    "- Instructors: Prof. Dr. Andrew Straw, Dr. Wolfgang Maier\n",
    "- Tutor: Dr. Michael Harrap\n",
    "\n",
    "## In the age of advanced AI tools, why is knowing how to program useful?\n",
    "\n",
    "\"While AI tools like ChatGPT can perform many tasks, programming skills remain invaluable for customization, automation, problem-solving, and innovation. They provide a deeper understanding of technology, enhance career opportunities, and enable more informed and ethical use of advanced tools.\" - ChatGPT\n",
    "\n",
    "## Course content\n",
    "\n",
    "  - Basics of Python programming (Straw)\n",
    "  - Introduction to data science at the command-line (Straw)\n",
    "  - Introduction to key computational concepts in data science (Straw)\n",
    "  - Introduction to biological sequence analysis (Maier)\n",
    "  - Use of Galaxy (Maier)"
   ]
  },
  {
   "cell_type": "markdown",
   "metadata": {},
   "source": [
    "## Who am I (what do I know about programming, data science, and bioinformatics)?\n",
    "\n",
    "Brief intro: [strawlab.org](https://strawlab.org/)"
   ]
  },
  {
   "cell_type": "markdown",
   "metadata": {},
   "source": [
    "## Course format\n",
    "\n",
    "This course will be done in person. Lectures will be recorded and uploaded to ILIAS shortly after class. Discussion and live particiaption will be encouraged. The exercises are be self-paced and the tutor will available during our exercise time to discuss."
   ]
  },
  {
   "cell_type": "markdown",
   "metadata": {},
   "source": [
    "## Feedback\n",
    "\n",
    "We would like to make this course as productive as possible for you. Therefore, we encourage any feedback. This can come after the course is over as part of the official Uni Freiburg course feedback. Additionally, we would be happy to get suggestions and ideas as the course is ongoing."
   ]
  },
  {
   "cell_type": "markdown",
   "metadata": {},
   "source": [
    "## Communication with instructors and tutors during the course\n",
    "\n",
    "We have started a forum room on ILIAS. For questions, use this, or ask during the lecture by typing a quesion in Zoom. This lets other students see them and learn from the answers. Almost certainly you will not be the only one with a particular question!\n",
    "\n",
    "If you email us, unless the content is very personal, we may re-post the question into the forum room so everyone has a chance to benefit from the communication."
   ]
  },
  {
   "cell_type": "markdown",
   "metadata": {},
   "source": [
    "## Team work\n",
    "\n",
    "We highly encourage teamwork during this course! You are welcome to discuss any aspect of the course with your colleagues. If you have any ideas how to better support teamwork, please let us know."
   ]
  },
  {
   "cell_type": "markdown",
   "metadata": {},
   "source": [
    "## Grading\n",
    "\n",
    "There is a requirement of active participation to pass the course. This will be checked by verifying attendance and that you did the exercises. We have a threshold of 80% of assignments submitted to receive a pass grade."
   ]
  },
  {
   "cell_type": "markdown",
   "metadata": {},
   "source": [
    "## [Ten simple rules for biologists learning to program](https://journals.plos.org/ploscompbiol/article?id=10.1371/journal.pcbi.1005871)"
   ]
  },
  {
   "cell_type": "markdown",
   "metadata": {},
   "source": [
    "## Assignments\n",
    "\n",
    "Straw portion of course: Around the time of each lecture, there will be a new assignment posted on Ilias. We expect that you should be able to finish the exercise by the end of the tutorial period, but the deadline is at 23:55. We use Ilias to handle giving the assignments and turning your completed work in."
   ]
  },
  {
   "cell_type": "markdown",
   "metadata": {},
   "source": [
    "## Anaconda and Python installation\n",
    "\n",
    "Straw portion of course: We have installed the Anaconda edition of Python installed on our server https://strawlab-rp2.zoologie.uni-freiburg.de. You are welcome to use this for the entire duration of the class and we ensure that it works for all the assignments.\n",
    "\n",
    "We would like to enable you to run Python yourself. To support this goal, we also recommend that you install Anaconda on your own computer and we will walk through how to do this."
   ]
  }
 ],
 "metadata": {
  "interpreter": {
   "hash": "ccf25074823ae812a85d1e93a88d7cc1917c9d66a77f4dbdd42f55ca58b1eefe"
  },
  "kernelspec": {
   "display_name": "Python 3 (ipykernel)",
   "language": "python",
   "name": "python3"
  },
  "language_info": {
   "codemirror_mode": {
    "name": "ipython",
    "version": 3
   },
   "file_extension": ".py",
   "mimetype": "text/x-python",
   "name": "python",
   "nbconvert_exporter": "python",
   "pygments_lexer": "ipython3",
   "version": "3.11.7"
  }
 },
 "nbformat": 4,
 "nbformat_minor": 4
}
