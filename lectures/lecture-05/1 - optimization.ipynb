{
 "cells": [
  {
   "cell_type": "markdown",
   "metadata": {},
   "source": [
    "# Optimization\n",
    "\n",
    "Let's consider the following code:"
   ]
  },
  {
   "cell_type": "code",
   "execution_count": 1,
   "metadata": {},
   "outputs": [
    {
     "data": {
      "text/plain": [
       "Text(0, 0.5, 'y')"
      ]
     },
     "execution_count": 1,
     "metadata": {},
     "output_type": "execute_result"
    },
    {
     "data": {
      "image/png": "[encoded data removed]",
      "text/plain": [
       "<Figure size 400x300 with 1 Axes>"
      ]
     },
     "metadata": {},
     "output_type": "display_data"
    }
   ],
   "source": [
    "import numpy as np\n",
    "import matplotlib.pyplot as plt\n",
    "\n",
    "# position of flower in 2D\n",
    "flower = np.array([29.1, 19.1])\n",
    "\n",
    "def make_bee_track(t):\n",
    "    \"\"\"Find bee position at time t\"\"\"\n",
    "    pos0 = (13.21, 4.56)\n",
    "    velocity = (3.1, 0.25)\n",
    "    pos_x = pos0[0] + t*velocity[0]\n",
    "    pos_y = pos0[1] + t*velocity[1]\n",
    "    return np.array([pos_x,pos_y])\n",
    "\n",
    "t = np.linspace(0,15,10)\n",
    "bee_track = make_bee_track(t)\n",
    "\n",
    "fig, ax = plt.subplots(nrows=1, ncols=1, figsize=(4,3))\n",
    "ax.plot( [flower[0]], [flower[1]], 'or', label='flower' )\n",
    "ax.plot( bee_track[0], bee_track[1], '.-k', label='bee')\n",
    "ax.axis('equal')\n",
    "ax.legend()\n",
    "ax.set_xlabel('x')\n",
    "ax.set_ylabel('y')\n"
   ]
  },
  {
   "cell_type": "markdown",
   "metadata": {},
   "source": [
    "In the above code, we *parameterized* the bee trajectory by the variable `t` in the function `make_bee_track()`. This means we could get a new point on the track by choosing a new value of `t`. For example:"
   ]
  },
  {
   "cell_type": "code",
   "execution_count": 2,
   "metadata": {},
   "outputs": [
    {
     "name": "stdout",
     "output_type": "stream",
     "text": [
      "[13.21  4.56]\n",
      "[13.52   4.585]\n",
      "[13.83  4.61]\n",
      "[16.31  4.81]\n"
     ]
    }
   ],
   "source": [
    "print(make_bee_track(0.0))\n",
    "print(make_bee_track(0.1))\n",
    "print(make_bee_track(0.2))\n",
    "print(make_bee_track(1.0))"
   ]
  },
  {
   "cell_type": "markdown",
   "metadata": {},
   "source": [
    "Now let's measure the distance between the bee and the flower."
   ]
  },
  {
   "cell_type": "code",
   "execution_count": 3,
   "metadata": {},
   "outputs": [
    {
     "data": {
      "text/plain": [
       "array([21.5384238 , 17.73297556, 14.79017429, 13.29572112, 13.73095975,\n",
       "       15.93858282, 19.32029244, 23.37188672, 27.80202491, 32.45606569])"
      ]
     },
     "metadata": {},
     "output_type": "display_data"
    },
    {
     "data": {
      "text/plain": [
       "Text(0, 0.5, 'distance')"
      ]
     },
     "execution_count": 3,
     "metadata": {},
     "output_type": "execute_result"
    },
    {
     "data": {
      "image/png": "[encoded data removed]",
      "text/plain": [
       "<Figure size 400x300 with 1 Axes>"
      ]
     },
     "metadata": {},
     "output_type": "display_data"
    }
   ],
   "source": [
    "def compute_distance(a,b):\n",
    "    a = np.array(a)\n",
    "    b = np.array(b)\n",
    "    return np.sqrt(np.sum((a-b)**2))\n",
    "\n",
    "n_time_steps = bee_track.shape[1]\n",
    "distance = np.zeros(n_time_steps)\n",
    "for i in range(n_time_steps):\n",
    "    bee_pos = bee_track[:,i]\n",
    "    distance[i] = compute_distance(bee_pos, flower)\n",
    "display(distance)\n",
    "\n",
    "fig, ax = plt.subplots(nrows=1, ncols=1, figsize=(4,3))\n",
    "ax.plot( t, distance )\n",
    "ax.set_xlabel('t')\n",
    "ax.set_ylabel('distance')"
   ]
  },
  {
   "cell_type": "markdown",
   "metadata": {},
   "source": [
    "Given the plot of distance versus t above, we can see the distance is minimized when t is near 5. What is the bee's position when t is 5?"
   ]
  },
  {
   "cell_type": "code",
   "execution_count": 4,
   "metadata": {},
   "outputs": [
    {
     "name": "stdout",
     "output_type": "stream",
     "text": [
      "[28.71  5.81]\n"
     ]
    }
   ],
   "source": [
    "print(make_bee_track(5))"
   ]
  },
  {
   "cell_type": "markdown",
   "metadata": {},
   "source": [
    "We can check back to the xy plot to see, indeed, this point is pretty close to the flower.\n",
    "\n",
    "What if we want to know, however, exactly the closest point? There are several ways to find this. Here we are going to use a \"brute force\" approach which will work on many different problems. Specifically, we will use [scipy.optimize.minimize_scalar](https://docs.scipy.org/doc/scipy/reference/generated/scipy.optimize.minimize_scalar.html). The overall idea of this kind of *numerical optimization* is that we find the best fitting parameter to minimize our \"error\".\n",
    "\n",
    "In this example, we are not so much concerned with the exact algorithm being used, but with the way we call this algorithm.\n",
    "\n",
    "Let's create a function which uses the `flower` location to compute distance:"
   ]
  },
  {
   "cell_type": "code",
   "execution_count": 5,
   "metadata": {},
   "outputs": [],
   "source": [
    "def calc_distance_func(t):\n",
    "    # assume variable 'flower' in our global scope\n",
    "    x1, y1 = flower\n",
    "    # calculate bee position (also assuming 'make_bee_track' in scope)\n",
    "    x2, y2 = make_bee_track(t)\n",
    "    dist = compute_distance((x1,y1), (x2,y2))\n",
    "    print(f't: {t} -> dist: {dist}')\n",
    "    return dist"
   ]
  },
  {
   "cell_type": "code",
   "execution_count": 6,
   "metadata": {},
   "outputs": [
    {
     "name": "stdout",
     "output_type": "stream",
     "text": [
      "t: 0 -> dist: 21.538423804912004\n"
     ]
    },
    {
     "data": {
      "text/plain": [
       "21.538423804912004"
      ]
     },
     "execution_count": 6,
     "metadata": {},
     "output_type": "execute_result"
    }
   ],
   "source": [
    "calc_distance_func(0)"
   ]
  },
  {
   "cell_type": "code",
   "execution_count": 7,
   "metadata": {},
   "outputs": [
    {
     "name": "stdout",
     "output_type": "stream",
     "text": [
      "t: 5 -> dist: 13.295721116208782\n"
     ]
    },
    {
     "data": {
      "text/plain": [
       "13.295721116208782"
      ]
     },
     "execution_count": 7,
     "metadata": {},
     "output_type": "execute_result"
    }
   ],
   "source": [
    "calc_distance_func(5)"
   ]
  },
  {
   "cell_type": "code",
   "execution_count": 8,
   "metadata": {},
   "outputs": [
    {
     "name": "stdout",
     "output_type": "stream",
     "text": [
      "t: 0.0 -> dist: 21.538423804912004\n",
      "t: 1.0 -> dist: 19.17780487959975\n",
      "t: 2.6180339999999998 -> dist: 15.913623755962107\n",
      "t: 9.502603885705089 -> dist: 18.222622377854467\n",
      "t: 5.24770562096323 -> dist: 13.233470063982764\n",
      "t: 6.8729320915536185 -> dist: 13.918754747176704\n",
      "t: 5.437736318938615 -> dist: 13.215989304828\n",
      "t: 5.47123644934229 -> dist: 13.215645882055249\n",
      "t: 5.468503780784455 -> dist: 13.215643128079853\n",
      "t: 5.468493134264144 -> dist: 13.2156431280385\n",
      "t: 5.468493215207842 -> dist: 13.215643128038504\n",
      "t: 5.468493053320446 -> dist: 13.215643128038506\n"
     ]
    }
   ],
   "source": [
    "import scipy.optimize\n",
    "result = scipy.optimize.minimize_scalar(calc_distance_func)"
   ]
  },
  {
   "cell_type": "code",
   "execution_count": 9,
   "metadata": {},
   "outputs": [
    {
     "data": {
      "text/plain": [
       "\u001b[0;31mSignature:\u001b[0m\n",
       "\u001b[0mscipy\u001b[0m\u001b[0;34m.\u001b[0m\u001b[0moptimize\u001b[0m\u001b[0;34m.\u001b[0m\u001b[0mminimize_scalar\u001b[0m\u001b[0;34m(\u001b[0m\u001b[0;34m\u001b[0m\n",
       "\u001b[0;34m\u001b[0m    \u001b[0mfun\u001b[0m\u001b[0;34m,\u001b[0m\u001b[0;34m\u001b[0m\n",
       "\u001b[0;34m\u001b[0m    \u001b[0mbracket\u001b[0m\u001b[0;34m=\u001b[0m\u001b[0;32mNone\u001b[0m\u001b[0;34m,\u001b[0m\u001b[0;34m\u001b[0m\n",
       "\u001b[0;34m\u001b[0m    \u001b[0mbounds\u001b[0m\u001b[0;34m=\u001b[0m\u001b[0;32mNone\u001b[0m\u001b[0;34m,\u001b[0m\u001b[0;34m\u001b[0m\n",
       "\u001b[0;34m\u001b[0m    \u001b[0margs\u001b[0m\u001b[0;34m=\u001b[0m\u001b[0;34m(\u001b[0m\u001b[0;34m)\u001b[0m\u001b[0;34m,\u001b[0m\u001b[0;34m\u001b[0m\n",
       "\u001b[0;34m\u001b[0m    \u001b[0mmethod\u001b[0m\u001b[0;34m=\u001b[0m\u001b[0;32mNone\u001b[0m\u001b[0;34m,\u001b[0m\u001b[0;34m\u001b[0m\n",
       "\u001b[0;34m\u001b[0m    \u001b[0mtol\u001b[0m\u001b[0;34m=\u001b[0m\u001b[0;32mNone\u001b[0m\u001b[0;34m,\u001b[0m\u001b[0;34m\u001b[0m\n",
       "\u001b[0;34m\u001b[0m    \u001b[0moptions\u001b[0m\u001b[0;34m=\u001b[0m\u001b[0;32mNone\u001b[0m\u001b[0;34m,\u001b[0m\u001b[0;34m\u001b[0m\n",
       "\u001b[0;34m\u001b[0m\u001b[0;34m)\u001b[0m\u001b[0;34m\u001b[0m\u001b[0;34m\u001b[0m\u001b[0m\n",
       "\u001b[0;31mDocstring:\u001b[0m\n",
       "Minimization of scalar function of one variable.\n",
       "\n",
       "Parameters\n",
       "----------\n",
       "fun : callable\n",
       "    Objective function.\n",
       "    Scalar function, must return a scalar.\n",
       "bracket : sequence, optional\n",
       "    For methods 'brent' and 'golden', `bracket` defines the bracketing\n",
       "    interval and is required.\n",
       "    Either a triple ``(xa, xb, xc)`` satisfying ``xa < xb < xc`` and\n",
       "    ``func(xb) < func(xa) and  func(xb) < func(xc)``, or a pair\n",
       "    ``(xa, xb)`` to be used as initial points for a downhill bracket search\n",
       "    (see `scipy.optimize.bracket`).\n",
       "    The minimizer ``res.x`` will not necessarily satisfy\n",
       "    ``xa <= res.x <= xb``.\n",
       "bounds : sequence, optional\n",
       "    For method 'bounded', `bounds` is mandatory and must have two finite\n",
       "    items corresponding to the optimization bounds.\n",
       "args : tuple, optional\n",
       "    Extra arguments passed to the objective function.\n",
       "method : str or callable, optional\n",
       "    Type of solver.  Should be one of:\n",
       "\n",
       "        - :ref:`Brent <optimize.minimize_scalar-brent>`\n",
       "        - :ref:`Bounded <optimize.minimize_scalar-bounded>`\n",
       "        - :ref:`Golden <optimize.minimize_scalar-golden>`\n",
       "        - custom - a callable object (added in version 0.14.0), see below\n",
       "\n",
       "    Default is \"Bounded\" if bounds are provided and \"Brent\" otherwise.\n",
       "    See the 'Notes' section for details of each solver.\n",
       "\n",
       "tol : float, optional\n",
       "    Tolerance for termination. For detailed control, use solver-specific\n",
       "    options.\n",
       "options : dict, optional\n",
       "    A dictionary of solver options.\n",
       "\n",
       "        maxiter : int\n",
       "            Maximum number of iterations to perform.\n",
       "        disp : bool\n",
       "            Set to True to print convergence messages.\n",
       "\n",
       "    See :func:`show_options()` for solver-specific options.\n",
       "\n",
       "Returns\n",
       "-------\n",
       "res : OptimizeResult\n",
       "    The optimization result represented as a ``OptimizeResult`` object.\n",
       "    Important attributes are: ``x`` the solution array, ``success`` a\n",
       "    Boolean flag indicating if the optimizer exited successfully and\n",
       "    ``message`` which describes the cause of the termination. See\n",
       "    `OptimizeResult` for a description of other attributes.\n",
       "\n",
       "See also\n",
       "--------\n",
       "minimize : Interface to minimization algorithms for scalar multivariate\n",
       "    functions\n",
       "show_options : Additional options accepted by the solvers\n",
       "\n",
       "Notes\n",
       "-----\n",
       "This section describes the available solvers that can be selected by the\n",
       "'method' parameter. The default method is the ``\"Bounded\"`` Brent method if\n",
       "`bounds` are passed and unbounded ``\"Brent\"`` otherwise.\n",
       "\n",
       "Method :ref:`Brent <optimize.minimize_scalar-brent>` uses Brent's\n",
       "algorithm [1]_ to find a local minimum.  The algorithm uses inverse\n",
       "parabolic interpolation when possible to speed up convergence of\n",
       "the golden section method.\n",
       "\n",
       "Method :ref:`Golden <optimize.minimize_scalar-golden>` uses the\n",
       "golden section search technique [1]_. It uses analog of the bisection\n",
       "method to decrease the bracketed interval. It is usually\n",
       "preferable to use the *Brent* method.\n",
       "\n",
       "Method :ref:`Bounded <optimize.minimize_scalar-bounded>` can\n",
       "perform bounded minimization [2]_ [3]_. It uses the Brent method to find a\n",
       "local minimum in the interval x1 < xopt < x2.\n",
       "\n",
       "**Custom minimizers**\n",
       "\n",
       "It may be useful to pass a custom minimization method, for example\n",
       "when using some library frontend to minimize_scalar. You can simply\n",
       "pass a callable as the ``method`` parameter.\n",
       "\n",
       "The callable is called as ``method(fun, args, **kwargs, **options)``\n",
       "where ``kwargs`` corresponds to any other parameters passed to `minimize`\n",
       "(such as `bracket`, `tol`, etc.), except the `options` dict, which has\n",
       "its contents also passed as `method` parameters pair by pair.  The method\n",
       "shall return an `OptimizeResult` object.\n",
       "\n",
       "The provided `method` callable must be able to accept (and possibly ignore)\n",
       "arbitrary parameters; the set of parameters accepted by `minimize` may\n",
       "expand in future versions and then these parameters will be passed to\n",
       "the method. You can find an example in the scipy.optimize tutorial.\n",
       "\n",
       ".. versionadded:: 0.11.0\n",
       "\n",
       "References\n",
       "----------\n",
       ".. [1] Press, W., S.A. Teukolsky, W.T. Vetterling, and B.P. Flannery.\n",
       "       Numerical Recipes in C. Cambridge University Press.\n",
       ".. [2] Forsythe, G.E., M. A. Malcolm, and C. B. Moler. \"Computer Methods\n",
       "       for Mathematical Computations.\" Prentice-Hall Series in Automatic\n",
       "       Computation 259 (1977).\n",
       ".. [3] Brent, Richard P. Algorithms for Minimization Without Derivatives.\n",
       "       Courier Corporation, 2013.\n",
       "\n",
       "Examples\n",
       "--------\n",
       "Consider the problem of minimizing the following function.\n",
       "\n",
       ">>> def f(x):\n",
       "...     return (x - 2) * x * (x + 2)**2\n",
       "\n",
       "Using the *Brent* method, we find the local minimum as:\n",
       "\n",
       ">>> from scipy.optimize import minimize_scalar\n",
       ">>> res = minimize_scalar(f)\n",
       ">>> res.fun\n",
       "-9.9149495908\n",
       "\n",
       "The minimizer is:\n",
       "\n",
       ">>> res.x\n",
       "1.28077640403\n",
       "\n",
       "Using the *Bounded* method, we find a local minimum with specified\n",
       "bounds as:\n",
       "\n",
       ">>> res = minimize_scalar(f, bounds=(-3, -1), method='bounded')\n",
       ">>> res.fun  # minimum\n",
       "3.28365179850e-13\n",
       ">>> res.x  # minimizer\n",
       "-2.0000002026\n",
       "\u001b[0;31mFile:\u001b[0m      ~/anaconda3/envs/wm01-dragon/lib/python3.11/site-packages/scipy/optimize/_minimize.py\n",
       "\u001b[0;31mType:\u001b[0m      function"
      ]
     },
     "metadata": {},
     "output_type": "display_data"
    }
   ],
   "source": [
    "scipy.optimize.minimize_scalar?"
   ]
  },
  {
   "cell_type": "code",
   "execution_count": 10,
   "metadata": {},
   "outputs": [
    {
     "data": {
      "text/plain": [
       " message: \n",
       "          Optimization terminated successfully;\n",
       "          The returned value satisfies the termination criteria\n",
       "          (using xtol = 1.48e-08 )\n",
       " success: True\n",
       "     fun: 13.2156431280385\n",
       "       x: 5.468493134264144\n",
       "     nit: 8\n",
       "    nfev: 12"
      ]
     },
     "execution_count": 10,
     "metadata": {},
     "output_type": "execute_result"
    }
   ],
   "source": [
    "result"
   ]
  },
  {
   "cell_type": "code",
   "execution_count": 11,
   "metadata": {},
   "outputs": [
    {
     "data": {
      "text/plain": [
       "scipy.optimize._optimize.OptimizeResult"
      ]
     },
     "execution_count": 11,
     "metadata": {},
     "output_type": "execute_result"
    }
   ],
   "source": [
    "type(result)"
   ]
  },
  {
   "cell_type": "code",
   "execution_count": 12,
   "metadata": {},
   "outputs": [
    {
     "data": {
      "text/plain": [
       "5.468493134264144"
      ]
     },
     "execution_count": 12,
     "metadata": {},
     "output_type": "execute_result"
    }
   ],
   "source": [
    "result.x"
   ]
  },
  {
   "cell_type": "code",
   "execution_count": 13,
   "metadata": {},
   "outputs": [
    {
     "name": "stdout",
     "output_type": "stream",
     "text": [
      "t: 5 -> dist: 13.295721116208782\n",
      "13.295721116208782\n"
     ]
    }
   ],
   "source": [
    "print(calc_distance_func(5))"
   ]
  },
  {
   "cell_type": "code",
   "execution_count": 14,
   "metadata": {},
   "outputs": [
    {
     "name": "stdout",
     "output_type": "stream",
     "text": [
      "t: 5.468493134264144 -> dist: 13.2156431280385\n"
     ]
    },
    {
     "data": {
      "text/plain": [
       "13.2156431280385"
      ]
     },
     "execution_count": 14,
     "metadata": {},
     "output_type": "execute_result"
    }
   ],
   "source": [
    "calc_distance_func(5.468493134264144)"
   ]
  },
  {
   "cell_type": "code",
   "execution_count": 15,
   "metadata": {},
   "outputs": [
    {
     "data": {
      "text/plain": [
       "array([30.16232872,  5.92712328])"
      ]
     },
     "execution_count": 15,
     "metadata": {},
     "output_type": "execute_result"
    }
   ],
   "source": [
    "# Where is the bee for this value of `t`?\n",
    "make_bee_track(5.468493134264144)"
   ]
  },
  {
   "cell_type": "code",
   "execution_count": 18,
   "metadata": {},
   "outputs": [
    {
     "data": {
      "text/plain": [
       "Text(0, 0.5, 'y')"
      ]
     },
     "execution_count": 18,
     "metadata": {},
     "output_type": "execute_result"
    },
    {
     "data": {
      "image/png": "[encoded data removed]",
      "text/plain": [
       "<Figure size 400x300 with 1 Axes>"
      ]
     },
     "metadata": {},
     "output_type": "display_data"
    }
   ],
   "source": [
    "fig, ax = plt.subplots(nrows=1, ncols=1, figsize=(4,3))\n",
    "ax.plot( [flower[0]], [flower[1]], 'or', label='flower' )\n",
    "ax.plot( bee_track[0], bee_track[1], '.-k', label='bee')\n",
    "\n",
    "x,y = make_bee_track(5.468493134264144)\n",
    "ax.plot( [x], [y] ,'x', label='closest')\n",
    "ax.axis('equal')\n",
    "ax.legend()\n",
    "ax.set_xlabel('x')\n",
    "ax.set_ylabel('y')\n"
   ]
  }
 ],
 "metadata": {
  "kernelspec": {
   "display_name": "Python 3 (ipykernel)",
   "language": "python",
   "name": "python3"
  },
  "language_info": {
   "codemirror_mode": {
    "name": "ipython",
    "version": 3
   },
   "file_extension": ".py",
   "mimetype": "text/x-python",
   "name": "python",
   "nbconvert_exporter": "python",
   "pygments_lexer": "ipython3",
   "version": "3.11.7"
  }
 },
 "nbformat": 4,
 "nbformat_minor": 4
}
