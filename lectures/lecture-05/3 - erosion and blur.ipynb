{
 "cells": [
  {
   "cell_type": "markdown",
   "metadata": {},
   "source": [
    "## Object detection\n",
    "\n",
    "Tracking (following something over time) typically starts with object detection (localizing the thing in a given image)\n",
    "\n",
    "Background subtraction\n",
    "\n",
    "What is “background”?\n",
    "\n",
    "Thresholding for binarized images\n",
    "\n",
    "Connected component labeling\n",
    "\n",
    "![sensors-15-19369-g001.png](sensors-15-19369-g001.png)\n",
    "Image: [Chao..Perán *Sensors* 2015](https://www.mdpi.com/1424-8220/15/8/19369)"
   ]
  },
  {
   "cell_type": "markdown",
   "metadata": {},
   "source": [
    "## Connected component labeling\n",
    "\n",
    "https://en.wikipedia.org/wiki/Connected-component_labeling\n",
    "\n",
    "![248px-Two-pass_connected_component_labeling.svg.png](248px-Two-pass_connected_component_labeling.svg.png)\n",
    "Image: https://commons.wikimedia.org/wiki/File:Two-pass_connected_component_labeling.svg"
   ]
  },
  {
   "cell_type": "markdown",
   "metadata": {},
   "source": [
    "# Blur and erosion\n",
    "\n",
    "## Operations to help thresholding\n",
    "\n",
    "Before thresholding: Gaussian blur\n",
    "\n",
    "![image25.png](image25.png)\n",
    "Image: Ronneberger..Joffe Chromosome Research 2008\n",
    "\n",
    "Note that this is an example of [kernel based image processing](https://en.wikipedia.org/wiki/Kernel_(image_processing)). This is also called \"convolution\".\n",
    "\n",
    "![image23.png](image23.png)\n",
    "Image: https://de.m.wikipedia.org/wiki/Datei:Halftone,_Gaussian_Blur.jpg\n",
    "\n",
    "After thresholding: Erosion, dilation\n",
    "\n",
    "See [wikipedia on Erosion](https://en.wikipedia.org/wiki/Erosion_(morphology)). Note the similarities to the kernel operations.\n",
    "\n",
    "![image24.png](image24.png)\n",
    "Image: Cereser, PhD thesis 2016"
   ]
  },
  {
   "cell_type": "code",
   "execution_count": null,
   "metadata": {},
   "outputs": [],
   "source": [
    "import numpy as np\n",
    "import matplotlib.pyplot as plt\n",
    "from scipy import ndimage\n",
    "import imageio"
   ]
  },
  {
   "cell_type": "code",
   "execution_count": null,
   "metadata": {},
   "outputs": [],
   "source": [
    "# Here we define a helper function which we call below to make sure\n",
    "# an image is an \"unsigned 8 bit integer\". This way, we know they\n",
    "# take only a single byte per pixel and have a value from 0..255.\n",
    "\n",
    "def ensure_dtype_uint8(arr):\n",
    "    return arr.astype(np.uint8)"
   ]
  },
  {
   "cell_type": "code",
   "execution_count": null,
   "metadata": {},
   "outputs": [],
   "source": [
    "fname = 'short-movie20170810_182130.mp4'\n",
    "reader = imageio.get_reader(fname)\n",
    "for frame in reader:\n",
    "    frame0 = frame[:,:,1] # take only green channel\n",
    "    break"
   ]
  },
  {
   "cell_type": "code",
   "execution_count": null,
   "metadata": {},
   "outputs": [],
   "source": [
    "frame0.ndim"
   ]
  },
  {
   "cell_type": "code",
   "execution_count": null,
   "metadata": {},
   "outputs": [],
   "source": [
    "frame0.shape"
   ]
  },
  {
   "cell_type": "code",
   "execution_count": null,
   "metadata": {},
   "outputs": [],
   "source": [
    "plt.imshow(frame0,cmap='gray')\n",
    "plt.colorbar();"
   ]
  },
  {
   "cell_type": "code",
   "execution_count": null,
   "metadata": {},
   "outputs": [],
   "source": [
    "plt.imshow(frame0)\n",
    "plt.colorbar();"
   ]
  },
  {
   "cell_type": "code",
   "execution_count": null,
   "metadata": {},
   "outputs": [],
   "source": [
    "# get all frames into big 3D array\n",
    "(height,width) = frame0.shape\n",
    "all_frames = []\n",
    "reader.set_image_index(0) # return to start of file\n",
    "for frame in reader:\n",
    "    all_frames.append( frame[:,:,1] )\n",
    "all_frames = np.array(all_frames)\n",
    "print(all_frames.shape)\n",
    "n_frames = len(all_frames)"
   ]
  },
  {
   "cell_type": "code",
   "execution_count": null,
   "metadata": {},
   "outputs": [],
   "source": [
    "mean_frame = np.mean(all_frames, axis=0)\n",
    "median_frame = np.median(all_frames, axis=0)"
   ]
  },
  {
   "cell_type": "code",
   "execution_count": null,
   "metadata": {},
   "outputs": [],
   "source": [
    "plt.imshow(mean_frame, cmap=\"jet\");"
   ]
  },
  {
   "cell_type": "code",
   "execution_count": null,
   "metadata": {},
   "outputs": [],
   "source": [
    "plt.imshow(median_frame, cmap=\"jet\");"
   ]
  },
  {
   "cell_type": "code",
   "execution_count": null,
   "metadata": {},
   "outputs": [],
   "source": [
    "start_row, stop_row = (750,950)\n",
    "start_col, stop_col = (400,800)"
   ]
  },
  {
   "cell_type": "code",
   "execution_count": null,
   "metadata": {},
   "outputs": [],
   "source": [
    "frame = all_frames[0,:,:]\n",
    "\n",
    "plt.imshow(frame[start_row:stop_row,start_col:stop_col], cmap='jet')\n",
    "plt.colorbar();"
   ]
  },
  {
   "cell_type": "code",
   "execution_count": null,
   "metadata": {},
   "outputs": [],
   "source": [
    "plt.imshow(median_frame[start_row:stop_row,start_col:stop_col], cmap='jet')\n",
    "plt.colorbar();"
   ]
  },
  {
   "cell_type": "code",
   "execution_count": null,
   "metadata": {},
   "outputs": [],
   "source": [
    "plt.imshow(mean_frame[start_row:stop_row,start_col:stop_col], cmap='jet')\n",
    "plt.colorbar();"
   ]
  },
  {
   "cell_type": "code",
   "execution_count": null,
   "metadata": {},
   "outputs": [],
   "source": [
    "frame_absdiff = abs(frame - median_frame)\n",
    "\n",
    "plt.imshow(frame_absdiff[start_row:stop_row,start_col:stop_col], cmap='jet')\n",
    "plt.colorbar();"
   ]
  },
  {
   "cell_type": "code",
   "execution_count": null,
   "metadata": {},
   "outputs": [],
   "source": [
    "threshold = 70"
   ]
  },
  {
   "cell_type": "code",
   "execution_count": null,
   "metadata": {},
   "outputs": [],
   "source": [
    "tmp = frame_absdiff>threshold\n",
    "print(tmp.dtype)\n",
    "ensure_dtype_uint8(frame_absdiff>threshold).dtype"
   ]
  },
  {
   "cell_type": "code",
   "execution_count": null,
   "metadata": {},
   "outputs": [],
   "source": [
    "binarized = ensure_dtype_uint8(frame_absdiff>threshold)\n",
    "plt.imshow(binarized[start_row:stop_row,start_col:stop_col], cmap='jet')\n",
    "plt.colorbar();"
   ]
  },
  {
   "cell_type": "code",
   "execution_count": null,
   "metadata": {},
   "outputs": [],
   "source": [
    "blurred = ndimage.gaussian_filter(frame, sigma=6.0)\n",
    "plt.imshow(blurred[start_row:stop_row,start_col:stop_col], cmap='jet')\n",
    "plt.colorbar();"
   ]
  },
  {
   "cell_type": "code",
   "execution_count": null,
   "metadata": {},
   "outputs": [],
   "source": [
    "blurred_absdiff = abs(blurred - median_frame)\n",
    "blur_threshold = 40\n",
    "binarized_blurred = ensure_dtype_uint8(blurred_absdiff>blur_threshold)\n",
    "plt.imshow(binarized_blurred[start_row:stop_row,start_col:stop_col], cmap='jet', interpolation='nearest')\n",
    "plt.colorbar();"
   ]
  },
  {
   "cell_type": "code",
   "execution_count": null,
   "metadata": {},
   "outputs": [],
   "source": [
    "eroded = binarized_blurred\n",
    "for i in range(4):\n",
    "    eroded = ndimage.binary_erosion(eroded)\n",
    "plt.imshow(eroded.astype(np.uint8)[start_row:stop_row,start_col:stop_col], cmap='gray')\n",
    "plt.colorbar();"
   ]
  }
 ],
 "metadata": {
  "celltoolbar": "Create Assignment",
  "kernelspec": {
   "display_name": "Python 3 (ipykernel)",
   "language": "python",
   "name": "python3"
  },
  "language_info": {
   "codemirror_mode": {
    "name": "ipython",
    "version": 3
   },
   "file_extension": ".py",
   "mimetype": "text/x-python",
   "name": "python",
   "nbconvert_exporter": "python",
   "pygments_lexer": "ipython3",
   "version": "3.11.7"
  }
 },
 "nbformat": 4,
 "nbformat_minor": 4
}
