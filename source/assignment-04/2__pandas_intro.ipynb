{
 "cells": [
  {
   "cell_type": "code",
   "execution_count": 1,
   "metadata": {
    "nbgrader": {
     "grade": false,
     "grade_id": "cell-4591728b0e94385d",
     "locked": true,
     "schema_version": 3,
     "solution": false,
     "task": false
    }
   },
   "outputs": [],
   "source": [
    "# You must run this cell, but you can ignore its contents.\n",
    "\n",
    "import hashlib\n",
    "\n",
    "def ads_hash(ty):\n",
    "    \"\"\"Return a unique string for input\"\"\"\n",
    "    ty_str = str(ty).encode()\n",
    "    m = hashlib.sha256()\n",
    "    m.update(ty_str)\n",
    "    return m.hexdigest()[:10]"
   ]
  },
  {
   "cell_type": "code",
   "execution_count": 2,
   "metadata": {
    "nbgrader": {
     "grade": false,
     "grade_id": "cell-b2a0e9ec110c03e1",
     "locked": true,
     "schema_version": 3,
     "solution": false,
     "task": false
    }
   },
   "outputs": [],
   "source": [
    "import pandas as pd"
   ]
  },
  {
   "cell_type": "markdown",
   "metadata": {
    "nbgrader": {
     "grade": false,
     "grade_id": "cell-bfeafe88c3a0be38",
     "locked": true,
     "schema_version": 3,
     "solution": false,
     "task": false
    }
   },
   "source": [
    "Let's get started by making a sample dataframe with fake data:"
   ]
  },
  {
   "cell_type": "code",
   "execution_count": 3,
   "metadata": {
    "nbgrader": {
     "grade": false,
     "grade_id": "cell-710e679d69e83ae2",
     "locked": true,
     "schema_version": 3,
     "solution": false,
     "task": false
    }
   },
   "outputs": [
    {
     "data": {
      "text/html": [
       "<div>\n",
       "<style scoped>\n",
       "    .dataframe tbody tr th:only-of-type {\n",
       "        vertical-align: middle;\n",
       "    }\n",
       "\n",
       "    .dataframe tbody tr th {\n",
       "        vertical-align: top;\n",
       "    }\n",
       "\n",
       "    .dataframe thead th {\n",
       "        text-align: right;\n",
       "    }\n",
       "</style>\n",
       "<table border=\"1\" class=\"dataframe\">\n",
       "  <thead>\n",
       "    <tr style=\"text-align: right;\">\n",
       "      <th></th>\n",
       "      <th>number</th>\n",
       "      <th>color</th>\n",
       "    </tr>\n",
       "  </thead>\n",
       "  <tbody>\n",
       "    <tr>\n",
       "      <th>0</th>\n",
       "      <td>1</td>\n",
       "      <td>blue</td>\n",
       "    </tr>\n",
       "    <tr>\n",
       "      <th>1</th>\n",
       "      <td>2</td>\n",
       "      <td>blue</td>\n",
       "    </tr>\n",
       "    <tr>\n",
       "      <th>2</th>\n",
       "      <td>3</td>\n",
       "      <td>red</td>\n",
       "    </tr>\n",
       "    <tr>\n",
       "      <th>3</th>\n",
       "      <td>234</td>\n",
       "      <td>red</td>\n",
       "    </tr>\n",
       "    <tr>\n",
       "      <th>4</th>\n",
       "      <td>2</td>\n",
       "      <td>red</td>\n",
       "    </tr>\n",
       "    <tr>\n",
       "      <th>5</th>\n",
       "      <td>3</td>\n",
       "      <td>blue</td>\n",
       "    </tr>\n",
       "    <tr>\n",
       "      <th>6</th>\n",
       "      <td>2</td>\n",
       "      <td>blue</td>\n",
       "    </tr>\n",
       "    <tr>\n",
       "      <th>7</th>\n",
       "      <td>2</td>\n",
       "      <td>red</td>\n",
       "    </tr>\n",
       "    <tr>\n",
       "      <th>8</th>\n",
       "      <td>1</td>\n",
       "      <td>green</td>\n",
       "    </tr>\n",
       "    <tr>\n",
       "      <th>9</th>\n",
       "      <td>2</td>\n",
       "      <td>yellow</td>\n",
       "    </tr>\n",
       "  </tbody>\n",
       "</table>\n",
       "</div>"
      ],
      "text/plain": [
       "   number   color\n",
       "0       1    blue\n",
       "1       2    blue\n",
       "2       3     red\n",
       "3     234     red\n",
       "4       2     red\n",
       "5       3    blue\n",
       "6       2    blue\n",
       "7       2     red\n",
       "8       1   green\n",
       "9       2  yellow"
      ]
     },
     "metadata": {},
     "output_type": "display_data"
    }
   ],
   "source": [
    "sample_df = pd.DataFrame({'number':[1,2,3,234,2,3,2,2,1,2], 'color':['blue','blue','red','red','red','blue','blue','red','green','yellow']})\n",
    "display(sample_df)"
   ]
  },
  {
   "cell_type": "markdown",
   "metadata": {
    "nbgrader": {
     "grade": false,
     "grade_id": "cell-0320bf7579e7a5e0",
     "locked": true,
     "schema_version": 3,
     "solution": false,
     "task": false
    }
   },
   "source": [
    "## Q1 Create a Series named `condition` which is true for all rows where the color is red"
   ]
  },
  {
   "cell_type": "code",
   "execution_count": 4,
   "metadata": {
    "nbgrader": {
     "grade": false,
     "grade_id": "cell-c57131439b7d2882",
     "locked": false,
     "schema_version": 3,
     "solution": true,
     "task": false
    }
   },
   "outputs": [],
   "source": [
    "condition = sample_df[\"color\"]==\"red\""
   ]
  },
  {
   "cell_type": "code",
   "execution_count": 5,
   "metadata": {
    "nbgrader": {
     "grade": true,
     "grade_id": "cell-c53eedea62c243e1",
     "locked": true,
     "points": 1,
     "schema_version": 3,
     "solution": false,
     "task": false
    }
   },
   "outputs": [],
   "source": [
    "# If this runs without error, it means the answer in your previous cell was correct.\n",
    "assert ads_hash(condition)=='28612bf01a'"
   ]
  },
  {
   "cell_type": "markdown",
   "metadata": {
    "nbgrader": {
     "grade": false,
     "grade_id": "cell-ac32ae211af0e86d",
     "locked": true,
     "schema_version": 3,
     "solution": false,
     "task": false
    }
   },
   "source": [
    "## Q2 Create a new `DataFrame` named `red_sample_df` which contains only the rows with red color from `sample_df`.\n",
    "\n",
    "Hint: use your `condition` Series from above."
   ]
  },
  {
   "cell_type": "code",
   "execution_count": 6,
   "metadata": {
    "nbgrader": {
     "grade": false,
     "grade_id": "cell-c4be64a1d42e707d",
     "locked": false,
     "schema_version": 3,
     "solution": true,
     "task": false
    }
   },
   "outputs": [],
   "source": [
    "red_sample_df = sample_df[ condition ]"
   ]
  },
  {
   "cell_type": "code",
   "execution_count": 7,
   "metadata": {
    "nbgrader": {
     "grade": true,
     "grade_id": "cell-3c7eee81fa01c6e7",
     "locked": true,
     "points": 1,
     "schema_version": 3,
     "solution": false,
     "task": false
    }
   },
   "outputs": [],
   "source": [
    "# If this runs without error, it means the answer in your previous cell was correct.\n",
    "assert ads_hash(red_sample_df)=='354bd7ec89'\n",
    "assert ads_hash(sample_df)=='21692a4d62'"
   ]
  },
  {
   "cell_type": "markdown",
   "metadata": {
    "nbgrader": {
     "grade": false,
     "grade_id": "cell-98dc0525f2068315",
     "locked": true,
     "schema_version": 3,
     "solution": false,
     "task": false
    }
   },
   "source": [
    "Now let's use the DataFrame `.groupby()` method to find the mean value of `number` for each `color`. (Hint: this will be useful later in this exercise.)"
   ]
  },
  {
   "cell_type": "code",
   "execution_count": 8,
   "metadata": {
    "nbgrader": {
     "grade": false,
     "grade_id": "cell-43c0e1a1816c47a2",
     "locked": true,
     "schema_version": 3,
     "solution": false,
     "task": false
    }
   },
   "outputs": [
    {
     "name": "stdout",
     "output_type": "stream",
     "text": [
      "blue 2.0\n",
      "green 1.0\n",
      "red 60.25\n",
      "yellow 2.0\n"
     ]
    }
   ],
   "source": [
    "for color, gdf in sample_df.groupby('color'):\n",
    "    mean_number = gdf[\"number\"].mean()\n",
    "    print(f\"{color} {mean_number}\")"
   ]
  },
  {
   "cell_type": "markdown",
   "metadata": {
    "nbgrader": {
     "grade": false,
     "grade_id": "cell-9f757e6f5f690e81",
     "locked": true,
     "schema_version": 3,
     "solution": false,
     "task": false
    }
   },
   "source": [
    "# Using Pandas to work with real data\n",
    "\n",
    "<img src=\"data:image/png;base64,iVBORw0KGgoAAAANSUhEUgAABH0AAAKYCAYAAADuT4S/AAAAAXNSR0IArs4c6QAAAARnQU1BAACxjwv8YQUAAAAJcEhZcwAADsMAAA7DAcdvqGQAAAAhdEVYdENyZWF0aW9uIFRpbWUAMjAyMDowNzoxNyAwNjoyNzo1MMKOQsIAAP94SURBVHhe7N0HYNRk/wfwb3vdLR2UtpRV9irDAaL8VWQ4UBDECSIucKHoq+IeKG7U1wE4UFEcqCDKEFGWOPBFUARk700p0EHpHv/8csld7rjZ3nUc3w/G5nJJLnny5Lk8v3vyJKhCASIiIiIiIiIiCijB2l8iIiIiIiIiIgogDPoQEREREREREQUgBn2IiIiIiIiIiAIQgz5ERERERERERAGIQR8iIiIiIiIiogDEoA8RERERERERUQBi0IeIiIiIiIiIKAAx6ENEREREREREFIAY9CEiIiIiIiIiCkBBFQptvNrJRwcFBaGk7Dh+3nsHMrN2IRihkA2KT4hBj+QJqB/VAeXlZQgONpkXIiIiIiIiIiIit6ol6FNUWoTy8nLl05QXyqcFBwfDFGSCKdikBn2KSrPw68E7cChzl/J+sDItGLHxEeiR/DqSY7oCZRX4ffvv+HXrLwhR/pWrYSEgOjoa15x5LZLqJVkCSEREREREREREVA1Bn8PHD+ORGQ8h63g2QoJNCA4KRmFZIS7p1B939r5LvcGsuDQHv6hBnx3K+yHKUkGIjY/EWUmvmoM+JRWY9PMkfL3uS4QhHBXKv9LSUtRPrI9nL34OnZp0QllFqbIq7W41LbgkwSMiIiIiIiIiolORT6MiFRXllqG8vFSdVlJagsy8TBzOzVADQBnK3wPZB3As7yhQrs6iBnFEkGxORZD6Vx03iAyLBIqVDS5Vpit/Q8pDUF5YjhCTBIkAkxosMrcS0lsLERERERERERGdqnwaGZFAS0WFrFKCLuZgjNxyZVL+hQaHIkSZpv4NVv6GhKrvC2lsFBpegTIUIDi0VP1rCitFeUWZNofc4VWmvC63GdS4jsSLlPe2Z8/Evxkf4N+DU7HhyBQcyPkfSovVRYmIiIiIiIiITjk+C/qUlwFbMr/F3/vfUIa3senIp0CFNOUJgslkQlBwkDrIrVfSlkf+yX8ixBSOiLJWSI4+EwlhXZAUfQbiTJ0RERJnnkECR0EmNTgkfQPpg6hQ+/EpRWbQbKzNnIhN2R9gU85k7M35GSUM+hARERERERHRKcp3QZ9S4FDhYmzNnYqtOZ9gb8F3QJDc6lWBClM5SiukBY/5X3BYMAqKC4AS87IhwVHonvw8Lmr9Ifq1fh8Xtn4PPZLeQFxEK7VFj7IIcotyER0VjejIaMTE1ENEeATq1YtVg0ESPSo6oexKSRTKisJRUhCG0OBoiRXVWpIuZWVKavhx0INj6jFQhtrA0Xb6c9D33x8cfZ4ngx6w9LWq5ClfppGj9Xs71BRH2+LLwXg++itfEhERERER6XzWkXNJEfDLnvtw8Pj/EBwUhrioxri03TRk5eXhlQUvIis3S31al3ycPL0rNDQMl3a9DBe1uwgIUSpbFWVawx89UmOuFJmCQ/DzxqXYcGgDLu86SO3/R+aQjQ4NDUGDqCQguBi/7r8dBw5vU+aPQIXpBNomDEd6whhERKsrI40ecJDb7k61p51JfpLhVNx3qr1O5XOSiIiIiIj8y6dBn+UZo7E3+2cEIQzx0c1wcYsvERIcKbVt86DWZ8yVmnJUYOrvH0GeuHXz/92iTz7J6t1/Y87qOXj0sscQFhqmTbVVXJ6HNfljsGvfeoSHRiMoNB/JuAJd6j+MyBhtplrm6NGj+N///oeSklIlaXzX8kOSOSwsDLGx9RATE4O4uHgkJyehXr162hxWcuilwim331WHkpISLFu2DLm5uUrlVu+Qyff0NIiLi0NCQjxSU1ORmJiovWulB4Aq48SJE1i6dKl6/Kxc7498Vnl5BZKSknDeeedW6fON5BhKIPXw4cNYseJP5bUnrYmC1M+XY19cXIxmzZqiR48e2nuVJ+tcsmQJsrOzlXWHKK89z9uyD8XFJUp+TUavXudrU/1PPw5Hjx5T0u9/6jb445yUczA+Pk49L2UfHZ2TQj+eREREREREVVWloI+0urEsXhGMnce+R27RXgQHmRARGoc2DYYo00NQViYVXvNs8lcWCZF+npXp89bPw+4jOzGgy+XqutQnfynrDQsJxdETR/HtylkY2/9hxLiI3pRXlGL/iUU4rsyvPvI9uARxYR3UPoKM8Qy9cleT5BYPqWhLwOfWW0eqARDfB12ClEqjuS+l8PBwtcJZv359dOnSRRk646yzzkL79u1tKpayXfLaH+mjp/vx48dx+eWDsHHjRkRGRqrT/Un2X4aIiAg10NK9e3dcdNGFOP/885X8Z+5ovPIV7AoMHz4CCxcuRHR0tJp+nqSdBL6kwv/ZZ58hPb2jTyr4+jpGjhyJH35YoB5vmebJ9pSWliI2NhaTJk1C794XVPoc0fP1unXrcP31w3Hs2DFLGnujqKgIrVq1wpw5s9U8Wx3nrPWcXIFRo0YhKyurUtvumvmclPXKZ0VGRiAxsYF6Tp5++mk444wz0KFDB2VfzfMKfbuIiIiIiIgqy2ctfYyUeptSWVMq3Upddmf2N8gsWonykhClmlyuvhEbF4e2cbcgKjRZne+Fuc9h1eE/EVQcjIogpZKn/CsuLUaTlKZ44bIXUD86UZ1PfnyXBiJ6HVCp16qc1pmLlYW0mWX5IMcNhaqVXpFbtWqVWjkuLCxUK+i+JodVH6Qlh/65MiQkJCAlJQX9+vXDkCFXID09XVvKPxVN2QY96HPJJf2xY8cOhIaGqtP9yX7/JTAiAZpmzZrh5ptvxtCh16nBJ31eT4ML+rzSMuSiiy7CgQMH1ECLfIardchyUunPyzuhpH1ffPnldEtwxtPPtqcHfKTV0U033WzZZ3f0bZH8d/vtt+GZZ8Yp0+R0qdx26MaNewaTJ09GVFSUGlDyZn36NpWWluHFF5/HDTfcYNk/fzKekzfcMEJtxeVJGnpLPzYySPBPBvlc2WcJvDVq1Aj9+/fHoEGD0KFDe22pqgQmiYiIiIjoVFepoI8sIpU5CcxsO7wVpUqlSZSXl6r97LROaoPw0EhIX83/O/AwMssWobQoVA3YlCgVwaSk+jgz7r9IjE5X1/X2T29hzvrZQDGUdZWqff+cKDqBHq174M2hb6HCBOQU7MDGvNdx9Ij8Cm9SA0Ah4eVIjbgQ7RNvgilU3walgqR80IrtK7BF2TaJMwkJJnVM7YjuLc5S9to8rSboFcyVK1di6NBhfgv6yPHRj5Ne8dYrjlIZLygoUF9LCxhp/TNy5Ci1FYxOX9YX9HVJ0Oeiiy7G9u3b/R70sd92eS37K2mdn5+vHgNp7fTEE0/g4osvUufxZp/NFfEgfPrp53jooYe0YEWp+hnO9kvWLcvJZ8vw1ltvqhV887q8r9Qbt/fiiy/BX3/9pQax3AVbZDn5PLmNqX37tliwYIEaDPNm/4305SS41rt3H2zZskUNgjlLB1ckXaT12wUXXIDZs7/TpvqXMegzbNj1fgv6SBrpaaWns55fZBv0c1JaOHXrdiZGjboNffr0VucT+rJERERERESeqtTPxxXKP3E07yheWfYyHpjxHzw2+xE88t0jeO7H53H0RJb6vgRXTMFKJbQ4FOWl4erfoHLltQSA1KduaRVhB/1nyPSSshJ1C6XlT2FpNg4fX4usgq04nLsBR/I2Y9/Rv5GVvx2lymxBMFkHZd2L1i/G+8vfw3vL3sWUX97Hu7+/g2Wblik1PO0DApxeaZWAglQoZZBggB4QkEq+DDk5OVi4cJF6q9mgQYPVW1yEelyUZesq2X8ZZB/0QfZdpkkrFLnla8OGDbj99tsxbtw4dRlvKtQyryTxDTcMVwMUUmGXQJarNJP39M+QwMLrr/9XDfq5ChS5oi8zZcoHWL16tSXg42x9+jTZBhnCwkLx6KOPqPnAuG3e0te7dOnP2LNnj5q2ldkfIflUtmfz5s3YtGmTOs1VmtYleprI/hjPSfkraa+fk5I35s//ATfeeCOuu+46/PXX3+pyMk+gpAUREREREVWPSgV9dFIJKThegLKiMhTmFaLoRBEKcgvUljY6tY+e8lLLUFFh/mskQST7SqL6Wq2EmiuiQcqmSqfQ+hBqkiEKpuBw82waveIaFaZU7IMiER0SjagQ83hUWKS6uspWSOsiSQ99ELLvUnGUv3qAQCqacpx+/fVXXH/99Xj88cctwYi6Xsl0te96kOStt97G3Xffo84jPMkf+jqF3BolrTPkdh1JM+FoHfq2SCVfAk/St9Gbb76pvufJZxrJ/PJZ0v/Me++9p65XP1by17h9Oj0YJK2SJLBw2WWX4dJLL1OnOZrfU+Z9rsA338xU1yv0dPaGzK9vn3R0PnPmTHV6VbatNpL90Qch+2zMlzJdOnmW1wsW/IirrroKzz473nK+Sv4hIiIiIiLyRJWCPkICNtJSRwZ9XCoruuBgk9qxsz5ISxz5K0uaB2WeoGCHg0kZ9HmE+lSiCnkykXUwvm9k3qYylCnzmIdSddqpTq9s6pVMvcIpgwR/JNgzefI7aofL27ZtVyuZ8l4gMO67vl8ySAV7+vTpePTRR7U5PaOvq23btrjttlFqpVxuE5I0NQdCTibzy3JScZd5pk79GLt37650Or/88itqH0nSYbcs7+xz9WNtMgWrnSW3aNECzz77jPZu5QMr+noPH87E8uV/WFo7yXZ4u06ZX08bWcdPPy20BEECmb7fss+SlkLGZZAnfcnxev3119VzUo615DEGfoiIiIiIyBNVDvqowZlgkzrIeKgpFGEh1v48SsvyUVqRh+Ky49rfXJQiT6nkhCrvBkmYSO0bqLC0EPnF+erfgpICdbykokRdhzmwE6R8RihMQSHKX32Q28Rsd0H/3BDlfWdBnkCvRHpCr2gKSTMZl4qkjEsQRPo3GTx4MH777Xe1Aq+nayDQK9hC9kv6opGWN198MR1ffvmlJS08IfPKOh544AGcdtppaksXaaki0xylmZ7m8vnS701mZiaeffZZdZr+njuyrMwrT8r69ttv1dupZHtlmv6ekWyHfgzVIKwyPmbMPWjYsKHD+b0ly8+ZM0dtnSPboqdtZcnycjz27dunPuJfnxboJB31YyjHSh8X0tHzH3/8gSFDrlSf/CeBHwmIERERERERuVKloI/aqie0AoXlhSg1laI0uBSFpgLsz9qPoPIgKPVLpNTrhmZxl6B5/YvQNK6f8vcSJIaeg81HpqOwJEe9batpYhOkN0pHeuN0dGjUUf17WvPT0CKxpfIp5oCPVIBCIosRFFqEsKgyhESUKn9LUVImna6qm2OpKEm/PZl5mUiIS0BcXBzilApTYv1EdT2yOkeV8VOZsXIp43KbkrT6OXToEO688071ti+ZHkitC9R8otBbpEiekFZOr7wyAYcPH1Yr1Z4EGvT1yN/x459Vn4ymV9qdBcv09ySdJUgifSotWbLU4zTWP/OFF17EkSNH1CCTfKZM198zks+S92U+6cT6nHPOwU033aS+52h+b+jLS9BHWqTowafKnmOynL4f8tj3r776Wp0u+3Cq0Pff/pyUVj/ypDjp6+eXX361HHciIiIiIiJnKvX0LrltSioiBcUF+GXrMqWyXKBMNVf+ysorsDFjPUaccxOaJTaD/BitduGjvC1zKIsp8wA5ZX8jo+QntI4ehdDyRISEl0Gp7mlrETImmyYV1lKszpiA0KB45VWksry0AApCcEg56od3QcOYs5X1yq1fFQhR/n3zzzc4UZiHvh36okSZV24TCzYFIyo0GgnR8VrF0rePJfeUVIoloODN07v0QyRp7g37Q+vJ8rKMHiSQ7ZRWME2bNsVHH32Erl27WCrl3tCX8ebpXcb3/LnfMq/srxwXuUVKWuqMGjUSL774omW7PaEfV7lF7IMPPlT7C9L7+HG0n/q6ZRnpBPr000/HTz/9qE5z9bn6e3PnzsXo0Xerr/W+XuSY2S+nz6+vV4Kg0vdOx44d1fmrEkzRl1+7di2uueZa9albQv+sytL3QfZLHmO+cOFPaNCgQZW31xn92Hnz9C79ffv0dsfRet2tQ5bRj68EeuSclPSQR/537txZfd/b7SAiIiIiolNDpWpQ5r55ghEVFo1L0i/F4DOvVIYh6nBl9ytx6/+NxDuLJ2H/sX1KJQUIi1CGcCBUGULCgHDldXL0GWgSfiW250/BiYqdylrN6zRvkgxSiTFXmP+35zk0jD4XHRvciU4Nb0LXRqOUYSQ6J9+GxnFnKxU2Zc5gE0IqQrBgww/IzDuMEWffiMb1m6B5gxZompiGxvFNkRBdX11nTQV8KksqfN5W6mQZCazIIBVaY2XZUcVTJ5+jV66lMiwtUeSJTNLiR1peyPuulvcV+Rzj4CmZVyrGMhiXd7bN8p6+v3qfPD/8oOShzEyXy9nT0/exxx5T+/iRYJ6sS5Z39dnymXIr05o1a9QOmYWz+WW6LFNSUoz//ve/luCEvg/y10jek+2Sv7It0hJnxIgbfBLwEfrnffPNN5YWR0LWXRWyvAwShMvIyMC8ed9r79Qesu/26e2aUrop6S3no6STfk7q63B2zIXMox8vyS9yW6C0wrvvvvvUp+/J+66WJyIiIiKiU1elWvoczvsHZeVFUhvRKnhKxVb5f6gpHAkRHREWEoHdR3Zh6q8foX/XSxESFKq8b64IynwRYeFom9IW4cp8eUX7sS7zfcSFN1UqNEoFSPrhkXqQbFaQCQXle5ESdQ6aJ1yM8opSBCv/dmRuR2beEXVcSL8+0p9Q5olMrNuzDg9eMlZdR0lZAXJKNqm/jKvzqf+vULYzGonRnZTX5inVqbItffSKn9x2pbeSMVY69cOozyfrLSkpVfZdOU4KCd5IpVHeM67PuA4jmUefXz5PAgxXXHEFPvhgis1neUL/vMq09JG/su0yOPtc43SpFEvLmfz8AmWZcDWtJc1lX1x9niwr80mFWtbxzDPPqC1+ZP9lWU/o8+qtcOS1/tmO0lq2R6bp252amopFixaqrTj094z09b/22ut45ZVX1KCI3prI0frltUyXIIPc1iV9Dv30009KmlQt2CP07ZNAUt++/dTHq8v2yHRH2y6M0/VxR/Pq0+TY5eXl4dxzz1XSdI7Ne76kn5PetPTRyXzSqkvyjf226euQafIZklZyvCR/yjQJ9smxk/f0+RwdR52sTz/Wcv7I+XT11Vfj/fffs/ksIiIiIiIiXaWCPov2DENe4V6lAiKdMZuVlhUjMa4pejR4B+GmOASVBeGF+c9h6a6lCK2QoI+5QlRUXISmjZtiwoDX0CAmUZkWjIKSI1iyb7jWx49JmSZrVCrC5YWoF9ICF6Z9jWCTVIaUinsJ8My8p/Hr7l8QERSh9isk85colWbpt2fiVZPRoF4DdZtyC/fg36KxOHhgv1JJClNqTUqlCkWICW2Ovs2nKZ9Q9cqvt/QKpjdBH0k3qSw2btwIU6ZMUSuZwvbIWSt9EuSSTnUPHDiIv//+Sxn+xt69+9TbbyR4IvPowQg5/DI4qizKdL2SKYED+fvWW2/hyiuvUMbN73lCX7+3QR9ZvwQS/vvf19GmTRs1MGL+TPttte67VKhl/dJPjnR8Ky1FZB2y7fq+ONtXmS7H5sSJPFx88cXqE728pX/OLbfcitmzZ6tBOle3eclnyjKSHhLguOmmG9UnNenbo9PXu3//fvTvf6ml3yGZz35eYT9N0uDjjz9Gr17nO5zfW/r2SBDptttuV4+N5Cl365X35fO9IX3ZzJr1DTp16mT5XF/Sz0lvgj6yH3qgTs7JqKhIbRnj/lvzpZyT0hpKWuisXLkKf/31l9o/j7Sekzwi8+j7Jn+dpaN8hj6PnJPyevLkSbj88sv9kjZERERERFS3VSro8+2/Q5BXuE+pYJiDPuYKSwniYlJxYauPERESD5QCLy14EfP/nY/woDCUlpkfvSxBmpQGKZg09B0tOFOBsooSzPn3OhSUHVJqkyGyVcq8wWrQp35UC/Rv9ymC1ad9KXOXAC8ueB7fr52HqJAodb1S0ZGKW0piCt4eNglJsUlK1SsIx4v24fdDo3HsaKaEnJR/ynwVhYiPbIUBHT5XPqP6b/OqTNBH5pf5JPCxfPnv2lTPyfrliT8ffvghliz5Gbm5OWrgyBj4cUbek+Omb4PcGiR9rDhq2eCMPp83QR8hy8hTi77/fh5atpROvb0jt0zdc88YbNworVDC3O6vTJf9lBYZaWlpaqub+Hi9DyjPgiR6xVsq9AMGXI79++UWR+vTvOzXI9NkfllO3pMAwBdffI7u3bvbzK+P33XXaHz99dfq8ZOgg7Ptkumyv3KcJIghHTe/9tqrls9xtpy3br11JGbNmqUGZuTznO2jkWyTBML0eV0tI/lEtv/ee8fgqaeecjhvVennpLdBHwnkSCBK8oks7w35TCkDpkz5AEuXLlVv0zKek/pxckRPA5lP8mr79u2V83qxmlZ6/iMiIiIiIhKVrB1Ihch2kH/mcSupgFTIE76USorNYDOfVPpKlSlSCSxDOUqV5YyDVCS1WTUnrU+boUxZXlhu21Iny6fJiO2gvlVHSDrqf6VCKn/dDVJ5lEFIJbBnz55q0Ofjj6eiQ4f2aosYqajKvFKB1NPQnl7xlHXJ7ShyG89HH01Vpzlbxhf0dcv2ya1J8leCHPr+uRr0/e7atavaaXGLFs3VyrGkg6tt1tNBWsVkZ2dj165d6nRZp6f0Crt0QHzXXXeor/XPdfT58pkyv/yV4yEttOSpXJJH9e2RQcZXrFiB+fPnq9sn+6i/b0+myTr1AFaLFi3wxBOPq+/JMjJUhbTyEtKKavXq1WoQRz5P3057Mk32Xba5Xr16GDNmjGWfHW2/0LdT309pUVRaWqKO1yayH3r+lG2Vv84GeV8GIcfm7LPPVs7JDzB16kdo1aqVem7r56SjvKIzpo0EirZt24ZPP/1Ufc/ZMkREREREdGqqVNBHKhYOB7tQiucVNJlPqQCq/zdXaNQp6vL64Jp6m5fdfOoWOdpOZXC/xtpDT0f5qwcR3A1SeZRBJxVJIbf3zJs3T/nbSw386LdtyTKSLo7o06WSKYGXL7/8Sh13tUxVVWaf9UHfb9nWpKQkjBlzj9oKQvqycbW98p6khXymtEQ5dChDe8c7+raPHDlSfTy6ns6yftk+ezK/DLK90tJn+fLl+OKLL9X3ZBl9fePHP6e2lpJ16Puhv6czfob8lc996KGxlkfJ289fOebPlse0Hzx40BL0cbVueU/mkU6u77//P2jSpAmKi823vblaTpaRwIbcnrh48VJ1mh44qS1kHzwZjOekHCd9P+RclKBWv3591Vv8PDkn9fSWv9Li6LPPPlfHjec8ERERERFRpYI+8qSs4OCQkwe726UqlH9SMXE4OAi7BBvfVyo88jc4WF7bVnws8xgG6cjZnjrd4baeehUjqUAKqWjKLUvTp3+htv6RW7akoqhXMh3R01jmkdY+O3ZsU/vMETKtttIrwH379lU7Ry4qMgcZnJF91ElrFnmCV2XIevTK+rPPPovk5GQ1oCNkuqOKvKSjnsYyTJo0SQ0A6Nv7+edfqLcDSfrLutwFBPTbonr3vgDXXHONZf1VJR+pb9Ps2XPUlkSyHcZ9NtKnyTISzOjXr586r7Rykf0wBkHs6esV0h/VzJkz1fFACGzIfun7YT4n49TWOuedd57ackgP/Dg7Zvp0WVaCYjt27MAvv/yiTiMiIiIiItI5rwG7UC8uDDFxIZYhOtaEqHrBqBcfrr6vV+DCTNbbPuSvcZCAkJlU7KQCq1RgykvshmJlXuWNCunPxzy/zGe/LhnKys23gYSYlMqSPAFM5kU5YuPDEB5ZYdlO+RsZfeoFfXR6gEduEXrvvXeRmtpIbSmgBxEcVb6Fns6Sxnl5J/Ddd9+p0+tCBTwxMRGxsfUgtwfpAQtn9ECD3JaYn3/CMs1b5nVUoFOndAwfPlxNY0krmeYoYCPzC70Sv2XLFrz66qvqNOnvZeLEiWr669unHwsjfd0yyOdJJ8MSdBIyr/38lSHpItauXaveViQdg8u2CEfr16fJk+TkOPTvf4n6WjoelkCH0PfJnj5N1i/59c8//1Q7sDZP8/6Y1FaSL+S4S1pKp8wNGza0nJPCPq/o9HSTQfKItLwiIiIiIiIyqlTQp2Pcf3BmgxdwRuJ4y3BW8kvoGDMWIUGRaiWkqKIIWzI2o15UrFqZkY5eY6JjEBEegXox9dR5zJWZIBSX5iE2LhLx0Y2RUC9VGRojPkb5G9MM9eLDkFW4QZ1PgjlSD5LKkHTwK+uLrReL6KhoREdGwxRmQubxTLXVj8wbHZqMdmGP4uzUl7XtfBbdGryI9IT/KJ9fqV0PCJJ+UsmUfmfuv/8+tVWBHpDQK9r2ZLosJxVwmf+ff/5RW5IIZ5XSmibbJYPcXlVQUKhuv7tt1eeR/TWZQtRpztLEHX25Bx98AOnp6ZYWHPr67cl0/djIfNOnf4kDB/bj/fenqAEWvaNfWdZ+eX1ZOT7yV9x++21qB9j6Mr6gr2fmzG/U/odkO4WrdJW8VVhYoHZE3q5dO3Xaeeedq97iJWniKnAo69WDPtKH0Ny58/R3tL+BQQ/8NG3aFP/5z31qOhvzoiP6dP2c/PPPlWrLKyIiIiIiIl2lnt7lTl7hcUxeNgnntjofTROaorxCKp3WX63DQsOQVC8JIcFKBRjl+OfwS0iLHag+Sl06c1Y2S+ZUljGhtOI4/j38PlrED0T98DOVyhFwNO8YThTlqesTsk6pIMm0uevm4sJ2F+G0tNO0d2sXqdhJBc+bp3fJvkllrnXr1upTeqTyX1WSZjJIxbFv337qk65kve62RcgycpvR559/hrPOOsuyT87on1OZp3dJx7/yuG55apgxoOEJfX55dLuktWynDO7Ivshny6Pir7zySrf754q+DcuWLVMf464fb5kmf+VzjOS1/r4ccwkWyW1m8rhvY4DFfjmdbKcEueT2qTlzZls+R/5Wlf65sl39+l2IjRs32rT0safPL9skLVeefvop3HXXXZbteeCBB/Hhhx+prbCkDyXhbL9kfgkQyS2J8+bNVae5Sgdv6Me3Mk/vknw5f/73al9MVd0e/TMlfS688CKPz0n9c41PfiMiIiIiIhKVqgman8ilVETKlEpKiQzKeKnyt7gCOfk5mPz7O7i04wD0bN0TTRObIq1BczRLbKYOaQ3SkBqXag74KOv43+7nkRx5PupHdEaYqR7CQ+KVIU79K6+jQhrhtKSx2Ju3AJkFvyvLAInRCWgW3xTNEpR1KoOss2n9pmif2gG3nXu7+jj3xRsXK9ulbGyptp3yV7ZRWYF+i8qpTK+cyt8hQ4aoQRipWEsF0lmFV39PKshSAV+zZq32jv842xZH9Hnlr97vjXj//ffVgJNwtT55T39fWvlIJ9BVJekrlXbprFduaZJ0Mz5a23579OnyVwIq69evt2lRI+wDC7IOmSZ/JYAhgTJ5vLm+Hj0dqkrWJX7++Wfs2bPH0vLIGX07S0vL1D6VLrnEfGuXvszAgQNQv36CJQ3s98tIlpHP27p1q3prmdC3J1Dox1DOrwEDBqjHTT929vlEpx97WUaCVXraEBERERERiUrVBqXVTpCy6Jw1czD5t8l455d3MennSXjn13fw1uI3cXmHgejUtBPKlQpJcTFshyKgRBlKlfENR6eiQXQnNK53rtaHT5nNILdolVeUIiw0Gqc1eBS7sn/ED9uuwfebr8f3267Hgh1DsXD7PSiTR74rnyXLxEXF4fGBj2NH5nY89+N4vDD/RTw39zn176tLX8U/e/5Rtz/QKoxVcfHFF6n9reiBEmeVb326pHV+fgE2bJDb7sytS3xNPkOv6Op/3fXjom+f/NWDJK+8MgHz5n2vBgyMgSBHZDl5X1qdREZGoGnTZpbplSXL6ss/9dST6i1O0lJGPkfyoP265bUeqJFAhwR+ZF8kDeQ9PS2M9HVJMEnWPXTodTjrrO6W9fiKfpylQ2XpZFrfN0fbpJNl5Nautm3bqLeaCdlOIU82k06upWWSq+3U913WJQEwubVM+HLfags9LaXvIwk6ugqqCT2/yHLS8mjt2nXaO0RERERERJUM+qiUusm3f83C1N8/wvSVX2D6ii/w9bqv0Cm1M9o36qAGbI4X7cKG3Oex8sBTWLHvCXX484AyHByHX/aOxrETm9Ak/AplVRUwVYTCVG5S/poQrPw1D8EILlMq71rltUH4mSgO2oOsE9twLG8rMnM3Kp+xR70ZTK0UBpvUdSmvMKrnbdh1dCe+W/MtFm1eiB/+nY+fNv+IXUd2qZtfrvw71emVZrltTCqYUvkWrirxOqmA79+/X3vle3pAQQbpz0WEhHgWXJLWNHI71dVXX612hixBBqk8y7qc7Zs+XdJEgj7S31GLFs0t06pC/1x5bPrYsWPV9ck043tGMk0PCMl26+P6XyNZVgY5HrLf0mfOE088ob3rO/o2Sr86f/+9Wk1TCaIJ+20S+vzynjzSvX///jJV3Qch78txPffcc9XXkib6vtiTdcigH8PFixepAQ4ZdzR/XabnNXm0vbSOknNS339n9HSQfLt3715tKhERERERkVLH0P56T6mDRIdFIzIoEhFBEYgOjUZ0SDSiwqPUgI90pnyi+DAyihdhV84POFCwSB325y/CvrwFOJj/CypKTDCFKqtS6oHT//wcD3/zEJ7+7ik89d3j6vD07Kfw5LwnMG+tufPW0ooimIKiEGKKtA7BEeaNUUjFR6kemQM/yp6FK/9ClX9hyr+okCiEVoQiIlTml7erVpEPJFJplMCPtCjRK9/OyHvm9yvUJwa5mrcq9M+R27JGj74bV155Fa64YgiGDLnSwWCdfvnlg3DBBRfgxhtvwqJFiy2tSvSKs7Ptlff0gISMd+vWTR33Jfnsq6++Cv369bXc5iWBDEdBJdkG/a9x3EjWZzxe0qfL448/pva3JPviaL2VpX/G3LlzceDAAUsgzlV6CglESGueiy++WKaq04Se1pdfPhCxsXGW9djvo07ml0E+d+/e/Vi8eLFleiDR91+CeNLRtX4cnaWz0JeR8/fQoUPqOBERERERkahSrVCCK6XlpWqQx3hLlgR8hCkoBKVFoTBVRKGsWKngagNKI5RBqTQGqeEZWRFW71mNxVsWYdnWn5VhmTr8vHkplm5dgvX7/1XXV1EhlRtlZqkAaYO5MiSDtfIjgR+hVxSNg6vK06lMWrZI+jirdOssaaz8lT5EpMWFP8k2rV69Gr///rvaIfPy5csdDObp0rrnl19+wc6du9RgijwxTo63bKsMzvZPn0cq1zJPfHy82oGzkNe+YPzc559/Xn1Kk9yKJZV7+fzK5Et9eyV4JB1ES2Dlsssuc7qfVaEHkGbPnqMec0/SRZaR7WrXri3S0tLUafp26esz3+JlbmWmT3NGP0YnTuTh669nqNMk/QKNnrbNmzdXb++T/XaVP+Q9WUbSIisrS5tKRERERERUlaCPUncrLy+DhG30CokEfIyVk3L5V16KMgkMGQb1tfqULitpgSMtcsKCwtTWOfIvwmSeprfOqUAZyiqKUVpepA4yXq4MetDH/PnmQbavIqhcllADUzKUKZ8p86jz8vYuG9L5r5Dj5ypgYHyvrExJ0zL3T8OqDP1z5K/cHiSBDXeDtHCR/ZDWILJd+u1HUiF2FQiRQIJeaZYgxWmndUX37uaWPu4CEd6Qz5ftatasmfo4dXkt65c01/96SubVl5MgjKxz3LintXdtj1NV6cd43bp1akfKEojQpzn6HH0/ZNvk2Jlb+ZiPgz6//leOW+/evdXXkv4yj6N00OeXz5Vl/v77L0urFlkmkOj7Wr9+fcu+6dMckfdkkPSWFmRERERERES6ytdolbpIeFgEkhKT1MpJbGwskhskIywkTJtBqYzIP61C4mgwUivpZaUOB70OKE/zio1IQ2xkM8QpQ2xEM0SHpiqfYt4NaWGkdjKtDGUlQExYPOIjlCHKOoTK/WQyb9UaOQUcc4sJ5xVLnV4hd1Qx9yVZv/4Zat4oVfKCh4N94MBRftPpnyPvy9+4uFjcf//96nv+CCZIxVzIo8u7deuutnCR23Lks/T33JHtlHn1v7Ls6NGj0ahRqlfr8ZSedjNmzFA7UtZb18jnO6Knt9zalZKSgosuukh7x5aevvIULyk/9G13daxkHgkkHT6ciTlz5limB6LQUHMH3p6SdHPX2TkREREREZ1aKl87VJZ8evAzeG/YFLx57duYOGwyXr38dfRqd75SUbFWlr2pj+mVRftBva2rFGiZeAkuaPIxLmv/GS7r8DkGtP8a/dq+pcxj3o2i0hwUlmfgRPEhFOAAHhl0F76+52t8csen+Pj2afhwxEe4oENvdV5fV4zrOgk+yHHTgwnOyPHQ//qzrq0fe+O4p4NxGVdkP/X9ldYjcrvaVVddhZ49e/oleCJkm/Rgx/jxz6hPTZOglkyX7fCkkq/PK8Eiadkht0jdeust8o7bffaWnkbSmkge1S6vXbXy0cl78oS3Dh3an3Rrl05/3b17dzU4pHda7Iy8J4Okn2yP3Gom9CBUoNDzgDwhzdN9k2UkXSRQREREREREpKtSrTYhOgGp8aloFN9IHVLqpSBUbeljrbjJE7WkJY6zQWeeT6nMyi/VUufRBpkWIq1zlLpPcJBJWSJMmTccpqBw5XWYMoRCHg0v1h/6FMsPj8LinSOxaMdNWHPkcUSHByMuMk4d6kXE2rREIqsjR46olXs9IOGMXiGV+eR2KgmW1EV6MEP2Q1qOSKfUEux54YUX1PddBR+qSv/c008/HUOHDlUDGFK517dJT2NHjO/pnSTr2yzv+Xq79fywZMkS7N69R330vas8Itug70d0dBQuuUSe2mVurWW/bfJa5pU81KdPH3UZPR1kcEQP+sgtZnKrmfT3JPRAVCCQdBD79u1X+30SztJD6Okt6SItpoiIiIiIiHRVCvpIZUP6yLEZlLpXeWkQSoslYBOM0AilUhdRjqh6JssQER2k/i0pLzD3xqMsk19UAIRVICQqBMERwepgilTmQTGyThxBhbnuo5Al7CtA5tfST1BWdibyTmTj+Iks5OVno7isWHlXKpHl6l9ybNu2beqtUcJV4ECvfEolsy4GfWT7Zf/0gIO0lpGAT48ePTBt2ifqa30ef9LX//DDD6Fjx45qKxcJeEjF3dVn69st80qgY/jw65Ge3tHtcpWlByBmzvxGbXkin6FvgyPyniwjgSy57fOiiy60THdEX8/AgfIUr1hLcMjZ/LKfMsjj+48dO4ZZs2ap0/XtrOuM6bpjxw71tSd5QkjaScsxIiIiIiIiXZVqSlLZkH509AEVwdhy9Cv8fvAeLN11J7YfnYP06KfRI/UFdEt+zjqkPIfuSa+gU+pIyJOf/zn4D6JjotG6vC2O/HUUuWuPI2dtLjL+PIyW5a0RExuDeVvmAiXqp2qDld5iSG0JFBSqVACVQWsFpPbzI/+kImm33KlOKpPi8OHD2L17t9oBsicVTBmkgpmUlKRNrf2k8qzmVy04oAdYpCXFZZddii+++FytMLvbf1+Rz5DPkpYzTzzxhPrEMH0bjRV/e/KebLts92mnnYYHH3xAne6Pbda3JyMjQ21RIwExTwKDetCnffv2aNy4sboemSZ/7Qchf7t1O1N9gpx0pO0uDWRdesuen39e5tEydY08Fl/OS2nRJPvlKr3198vKytUnoREREREREel89vO4VDwkhpBdsAOHC/7AvpxfkF+agXici6bx56NJ3HmG4Vxl6IXkmE7YdWQHvlv9HZ66/Gm0PN4K+74/gEM/HkbGj5nYPXcfOpZ2wv29HsSR3Ex8vGIq1IduSfBHqXtWyF9l0KtDJeX5iIyVlkUlCI8qRVSsMg+f0uWUXkmWx5zLo57lNicJRDirPBunS+ChRYvm6riz+atC1qmvVx93NujzuCKVYtk3GeS2KGm1IkErCbh8/rk14FOdLUb0QIW0hunataultY87slxwsAnXX389wsMj1O12FRSoLD1Npe8cCUJIUFC4Smt5T7ZFghWDBw9Sp+nbJn/tB0lv+SsBpb59+6jzuUoDmVdIh8USMNuzZw8WLVqsTav757qetsuWLcOhQxluz0mdpIukR/v2HbQpREREREREPgz66JWxIJjU27uUapxaWQmPloqM4/42juYdwWcrPsMdve5QljIhv1yp9EaarLd3KUOx3NdlqsDN59yiPn3r6blP4tnvn8Ezc57Gc8rfJ2Y/hu/+/lYNAElAqXn4jWgTdyNa17sJjcOuRpgpRvs0MpJKpB7g+PrrGWoQROjH0RHLMVb+yq1dXbp0UV/rrS58ST5D/zwJAkhQwNGgtyDR/zoj7+nrlH5wRo68FXPmzMaYMfeo71d3wEcY91H2RX/taj+s71doQRjrcfQ1fb3ffz9Pbbnjart0sozM26BBA5x77nkoKipGQUGh2jLJ2SDBLlmmX78L1VvC9Fu8nJHt0LclNzcX335rvsXLk4BZbSb7pO/3V199hcJC6Vzdmm8d0dNB/sotb126dFZfExERERERCZ/VFs2VEyAiNAGNkjohNbEDEmKaoaJcKqom7DqyC0s2LcbCfxcqw0/46d8fMXHRRFzb7Vo0TEhV+9sJCQpBeVm52pmzPsjtWWq1RqnPDe50BSJNUZj37xwsWLcAP6z9AfPWzsXfO1ern9047hy0rz8SXVJH4bTGd6J9g+EICY5St0/ZCu0vCb11yC+//IpVq/5Sgzjubt3RK6DSUiY6OhqdO5srmP4IOhgrs/KEKnmylqNB3w99flcksCLzjxo1ChMmvIIWLVqo02XR6g742NO3X98fZ/RjIPPJ4K98bV43sHbtWmzevEUNMHnT51N2djauu+469OrVC71791b+XuB06N27D84/v5f6qHy5VUvW4ep4yufraSDb9fffq7F//371PX276yL92C5evFjdp5iYGLcBVT0t5NgkJCSonYMTERERERHpfFbTlYqH/NDeOfUW9EyaggtbfIpujR5BcIi5EvbzhqWY8PMreHH+83jlx5fxzPxxKCwuRNv67cyVHeWfdAStV2Jk0Ml7KmVrG8QkIjw4HLGRsagXUQ8xYTGICjcHdiRwVIEyw1B3K4D+JBVjaRUhf1988UW1I2M9zZ1VtvUKqSwnrTMkYNKqVSv1PX8GTOQz/+//eqJ///64+OKLccklF6t/5fWFF16oPqJatk0G2Q5n2y+kAi37PGPGDBw7lq2+Nu+XNkMtYMz3jujvy1/zuOsASWXpnyMdOB89eszSEsmTz5I8IoHBnTt3qp0RezrI/J4ElnRy/OT2p4MHD2LOHPPj2+sqPf+az8mX1ICmTNMHVyStJL2bNWuG5s3Nt1wSEREREREJn9fWzZ0ph6idKMutXnqFJSI0AigGQpV/wWXBCCoJQkhwiLoFamVS+edRRU8eD6awPjHMWimS4JB8pnXwXzCirpK00oM0Tz75JFatWqU+Wlu/pcbZMZDpUiGVZWU477zz1OnuKqSVpW9LvXr18Oabb+Lzzz/D9Olf4IsvvlD/yuuvvvpSfeqT3BokTxFztS369ktfM5s2bcakSZPU4IS/tr8ukzSR9CouLsHPP/+svC43BMjcn6N6PpFAkRwXTwcJ4Ojrd3dc5H35DPkrt5DNm/e9Ol3P23WJMV0feeRRtXWVtKSTNJf9cZbmehpJPpb5+vXrq74mIiIiIiLS+amGJJUR20qbBGgkYGMcZJpOwjVuKauU5YpLi1FaVqoOJcp4mZM+g8iWHtgRb731NqZO/VitaEvrCpkulXVXpGIpLQqkT5xBg8yd9LpbprL0Cq1sl9zeJfRpRvfee5+6PbJdQg8E2NMr1rKv0veJ9Jmyd+9ep/OfyvRjKrcZyVPdpINgmeYs+GBP5pM0rcygc/dZ+vuSp6OiIrFlyxb89dff6jR/5Ul/MJ6Tr7/+OqZNm6aek5KfJW+62hd5X0jQUzol189JIiIiIiIinZ+CPlKJsa20ScVGfbS7UlHRB1Owdx2vSpUwOjwGzVObIzUxVR1kPDos2jxDgDNWij0ly0jFUphv6arA+PHP4eWXX1aneVLRlnmk8iktN+TWLuk3pEOH9up7sk5/0LdFPluv3Nrvv2xT27Zt1Kc+yXbJ9sk8jvbDuD5pVSJ9wEyY8Ko6Tdit+pSmH9NZs2apHXxL2slgn/41TbZH8oDJFKw+fe6bb75Rpzs6/v5SmTSRc1AP5uhp/fTT45Rz8hXtHDUH2PS/jsjnyiDzSyDzzDPPQIsWLWvdMSIiIiIioppVbfdCSOuc8JhwBIUGISQiBGFRYSgoKdDedU8qM0GhwLCe1+Pjmz/F+zd+oA7TRn6Ou/qNBkK0GQOQsSInFTx5LYEc+ets0EmlUa9Y/vHHH+rtUG+//bb6WueqQi/T9SCdVELldqs77rhDfU8PJvmTqwq8vs333HMPUlJSbPqDcbQ/+r6UlkrrkCj8+OOPWL36H3V+vRJ+qtPTISMjA3///bcaINOPs6tjURNke+R4lpWZt1kecy5PAnN2/H3JuH5Pz0kZRHCwebvF77//rvZP9e6776pprc8j++AsvWUeWV5fp5yTcg7I7MzHRERERERk5Pegj7TuERd1vhhPX/wMnr38OTx92Ti8MPBF3HbB7R5vgV4BCjWFIjIkEjERMeog4+Gh8ujqwKVXECV4IxU8SQsZ1yuGjgZdZmYm5s6dh+HDb8ANN4xQK5nyxCNj5dJViwL5bHlfWtHIbVbnn38+zjvvXHV5PZhUU+TzZTvatWunPiGqsNB9ax/zvpqXPXLkCF566SX1PamI62lyKtPTYM6cuWoHyXKrkUyrzWkj2ya3oMntegsXLlSn+Tv4oecvyUdxcXHqa8l78tfVIOSclPQdNux6jBhxI1as+FMN+Bi32dn2y77q56QsI0GuXr3Ox1lnnaW+V9PnJBERERER1S5BSkWhxmtzUoGRiszDDz+CTz75RK1oCnmCzX333at2OCybqVea7Ll6r7aR1gBSMVu5ciWGDh2mPqLaXQVV9k1aE8TGxqqPGw8LkxYB2psWMsE8n6wzM/Mwtm7dplaE5fHZcpuOtG7RK4yyTv1z3aWrPq/0G/Ldd9+hZcsWlmPmCX09x48fx0UXXYzt27fbtGpwRpaRINesWd+gY8eODj9Tn7Z582YMHnyF+iQynbN8oe+PHAcZ/+CDKeoTwWoyH11zzbVqHzr6o/NdbYdst/Tj8t///hfDhl2nbLfzY1hZ0j/Mr7/+pnYo7G57apKehyQ/Sf66/PKBShnysTLF8+3Vz0np1FwCMfqTs9yR5STgc+utt2iBVO0Nlf5CzskS9Zw8fDhT7Xvo8OHDaksqCdhIsEryr6zLeG66I/PIMo0aNVLOyW/VJ3d5c04SEREREdGpodqCPvIx8s9cMwpSx6XiIi2B5D0Zr2zQpy6pTNBH33dZVp6oJK1SJA3tk0M/lDJvkJKuJSXFamVUT0/5HH1d7iqXMp9eCZUKtRyLl19+CSNHjvS6cql/pj+CPkJf/113jcaXX36JmJgYtSNcZ/unzy/rkoq3tJL44Yf5Nu9Vt9oQ9NHz5po1a3DttdchNzdXnS7rdnWs9DRzNU9l6et1tX/6e7L90qn3vHlzvQqC6PvtTdBH3ybzOVmsfY6zc9I8XeaRfCnnY2XPSXlf/uot2p5//nnceOMIr89JIiIiIiI6NVRbLUEqK+aOnM2PF5ZOnPVbv8wVI3JGr8xJxTQmJlptfSGPWZcAgXEwT49WxyMiwtXgh1QOpUIolVO9gqlXHp2R9+UzZX6pnObk5GLo0KFqwMfdsjVBzz9jxoyx9O2jb6P+npG8J4OkiaTXP//8owYbhaP5TxXmfFahduB87NgxS96RwRU9rWV+CeaFhsrfqg6hlsCGbJer4yLv6XlVWtHIrVP+pu+znJMSmHR9TprHJQArrx2dk/JXX6cjxnTQg7BXXXUVRowYoU5ztSwREREREZ26+NNwHaBXuqVyJwENaS3gbpD5pFKpVyiFVAzdVSyFHvCRyqXcGtavX1/1cdK62lbB1CvD7du3Q69evdz27SP0SrakkaTVlClT1Iq0vu+nGj2tpCXZkiVL1TSQtJH0cEZfRv7KIH0+ScupgoIiZSiswiDLF6jrk/XLtujH2BHjdshT3ObMmaNOd7XtVaVvi/x1dP45GlydkzI4on+Ong5yTsqTyi655GK89tqrynT1bafLExERERHRqS0g+vSpS6TSJ60DvLm9qzpI+hor1hI0kdt7eve+ANOmTVNbM1T2GOjL+ev2LqG/t3HjRgwZcqUarNLnlfecbbe8J/lNggwPPviAkgcfrvR+VkVN396l58sffliAO++8U90GT/KlpJWks8zbp08ftGrVEiUlpcq0ym+PPNJcWvts3LgJv/zyi5pXZPs82UeZJyIiEtOnf67etqfnC1f0ffe2Tx9/09NW3xY5J+Uc6tu3r9pvkbQaqom8SkREREREdQeDPtWstgV99MOvV9xl2+SvbNcVV1yBiRPfVjub9aTy7Ix+7PwZ9BH658gj5b/+eobHffvIII9xT0lJVvv2ady4cZX2tzJqS0fOt912G2bO/EYNKOhp52zdkn6SRpKnGzZsiF9+WaZ2Nq68owxV2R7z8tIJ+UUXXYKcnGzzVO14OaLnJSk7pNy4+eabMWHCKy6X0dW2oI++zTLo56RMk/HLL78cb7zxX/Wc9GTfiIiIiIjo1FZ9tVqqVaTCKINU2vUKprQkkAqvBB4efvghfPjhB5bKZXUGQCpLtlPce++9aoe+ErTQt1t/z0jfb6n0h4eH4cCBAza3sZ0q9LQ5dOgQVq5cpQbk9KCXs6CCLCPv6QGorl27qgEfWU5a6sj7lR305Zs2bYpOnTqqAUj5HPk8me6Ifiz1gNmvv/6qPrHO1TK1jb7/ep6VbZdjkZ9/Qg1myTn53nvvWoKw8j4REREREZErDPqcQvRKpVQWZdAr9SaT+SlWEiSRW2I+++xT9TYnfZm6UrmU/ZHt7dChg9q3j/TvoreScLYPenBDggVSwV6w4EesW/evOk3eOxXo+yl94cijxKXDYQmEuSLpKekqJEg4cOAAdVym6fmqsoN+HMVFF12kBjxkuieBDplHgiL79u3DwoUL1Wn6umoj2TYZjPsufyXf6n0knXVWD3z99Ve47777LMvIfERERERERO6w5hDA9AqlDEIqisZKpUyX1hDSeW+LFi3w0ksv4vvv5+Hss89W5xfuKtm1jb6v9947xtDax7wP+ntGemVb3pOgj7R2eemllyzvnQokL4h5875XgwySFsbAiyP6PNIKR27tkn5mhK/TTII+yclJ6nHUt9MZ2Sb9WEq+llv8RG0JkMh2GQch26ufk3rn49LaTvZXgpcvv/wyFiz4Ad27d7csd6rkSyIiIiIiqjoGfQKMXpkUUpmUQSqTUmGWyqK0aJFKpVTWpUVEjx498OqrE/Dzzz/jpptuUud118qjNpP9lTSQPoDOP/98r1v7SJrIrUGLFy9R55dbjQKZ3spn7dq12Lx5s9pqR46/7Luz9NLTUtJVghOnnXYaEhIS1PckHX1BX09aWhrS0zupwSj92BrzuJG+zXprnzVr1mLPnj3qe86WqQ76Z8u2yT7IIGkng4yXlZWqrXrkvIyOjlEDPK+99pqSBxfhlltuUpd1d0yIiIiIiIgcqVVBH6nYSCXSONTlAERNkEqhVDKl4it9rUhlUp7CJeMiJSUF55xzDh544AHMnDkTP/64ADfcMBwxMeYnAckgldG6TK9kSyfg5tY+5n5e9On25D1JL3lfxqXyLZVuUZWnUNUFehBhxoyZOHbsmCVApgeDHNHTUgbpLHvw4EHqdFfLVIa+vv79L1FvOdPp2+yILCODtNo6ciQTs2bN0t6pOXp6yXbJeSj5S85LKd/kvQYNkvB///d/eOSRh5XtnYmffvoR118/DBEREbK0uo66fk4SEREREVHNqFVBn/r166NZs2Zo0qSJMjRWx+Pj47V3yRNSuZTWA9LSQTrCPeus7kqlfLDaCew777yD+fPnK8P3agXz9NNP05YxLycVUFcV6rpC9l9Iax/p20cq2p5Ums2tLsrU1i7//PMPpk+frk73dTCjNpHjLekjLb1kP/UWJa7oeUxaUcmTzqRFlT/JrWOpqalqkEQ+Vz7fFdl+2ReZf/bs2Za8XVOM56SUaRJ0HThwIB56aCwmT56kno9z587B2LFj0blzZ3UZOQ7u9pOIiIiIiMidWvHIdiIiIiIiIiIi8q1a1dKHiIiIiIiIiIh8g0EfIiIiIiIiIqIAxKAPEREREREREVEAYtCHiIiIiIiIiCgAMehDRERERERERBSAGPQhIiIiIiIiIgpADPoQEREREREREQUgBn2IiIiIiIiIiAIQgz5ERERERERERAGIQR8iIiIiIiIiogDEoA8RERERERERUQBi0IeIiIiIiIiIKAAx6ENEREREREREFIAY9CEiIiIiIiIiCkAM+hARERERERERBSAGfYiIiIiIiIiIAhCDPkREREREREREAYhBHyIiIiIiIiKiAMSgDxERERERERFRAGLQh4iIiIiIiIgoADHoQ0REREREREQUgBj0ISIiIiIiIiIKQAz6EBEREREREREFIAZ9iIiIiIiIiIgCEIM+REREREREREQBiEEfIiIiIiIiIqIAxKAPEREREREREVEAYtCHiIiIiIiIiCgAMehDRERERERERBSAgi4fPLhCGyciIiIiIiIiogARVKHQxomIiIiIiIiIKEDw9i4iIiIiIiIiogDEoA8RERERERERUQBi0IeIiIiIiIiIKAAx6ENEREREREREFIAY9CEiIiIiIiIiCkAM+hARERERERERBSAGfYiIiIiIiIiIAhCDPkREREREREREAYhBHyIiIiIiIiKiAMSgDxERERERERFRAGLQh4iIiIiIiIgoADHoQ0REREREREQUgBj0ISIiIiIiIiIKQAz6EBEREREREREFIAZ9iIiIiIiIiIgCEIM+REREREREREQBiEEfIiIiIiIiIqIAxKAPEREREREREVEAYtCHiIiIiIiIiCgAMehDRERERERERBSAGPQhIiIiIiIiIgpADPoQEREREREREQUgBn2IiIiIiIiIiAIQgz5ERERERERERAGIQR8iIiIiIiIiogDEoA8RERERERERUQBi0IeIiIiIiIiIKAAx6ENEREREREREFIAY9CEiIiIiIiIiCkAM+hARERERERERBSAGfYiIiIiIiIiIAhCDPkREREREREREAYhBHyIiIiIiIiKiAMSgDxERERERERFRAGLQh4iIiIiIiIgoADHoQ0REREREREQUgBj0ISIiIiIiIiIKQAz6EBEREREREREFIAZ9iIiIiIiIiIgCEIM+REREREREREQBiEEfIiIiIiIiIqIAxKAPEREREREREVEACqpQaON0KinNQc6yt5D57RwUHDyEsvwS7Y1QBMe1QPgZtyD1oZsQq00losqYia3978YJ7VXokMVIH5WuvaKAULQHx+ZORuZP81B8OAtlRWXm6aZImBLbILzXWDS/5UKEmacSEVVJ7pQe2DFrt/aqH1J/+Awp2iuiUxuvuWoTllW1C1v6nILK936ELdd3xM5XJyFv+15DwEeUoDxnCwp25yJEm0JERCcr/OtRbLj6LOz58GMU7D1iDfiIsgKUHV6Lwgww4ENERERENYZBn1NM+ebx2HTnY8jPNVROHAg/+3JEaeNERGSrcNFwbHliKoqNMfOTRCHqvF7aOBERERFR9fNB0Gc9dt/cEP/0dzc0xtprOmHddedj87NjsPub73BsXw7KtbVQNShdjt3PTkKxJd5jgqndaDR+Zz06/XAIpylDlxmr0fzBcWjQp7k2D9VW0mzSen71wO7t2htE5F9ZH2H3G4sM31+hCO05Ac0/3YwuWlnaafoyNLv1edQ/m+186rryzW9h89Cmalm7ZugV2Le5WHuHTlK6Bvse7II18r10eRdsnr7mlLnOq+v5hPk8QNWKc/IIMif0xNoByjYMaIH1E+ajUHuHiKpHNbb0KUP58SMok1uH/vgaWR/cgT2j2mHd4NOxacK7OHaoQJuP/CVvxtPIPaa9gAlhg2ajwxtPIql5ouVWruCYVMT3vQNJjbUJRERkUIzMd19CgSV4Hovoe1egw5M3IL5BnOVLNSS+HepfNRT1eZ9sHbcSe559AQXZ5iZdFdl/4MizTyNLfUX2st4dgSPrD0PtLLLkMAqmjcCe9epbAa6u5xPm80BVG87J4rm34cCSHSiX782yApQsGYXdc7PNbxJRtajx27sqig6icMk47Lm5Lf59cDyOZNayXxa2j8d6iY5rw9ZF2vQ6Zz+yf1tnLvRF/WFoOLIb++0hIvLKMuT+mauNA0EdH0HTSxrxXulAtX8Z8i0/lmiO/YG8/dp4wJGOUK3XPOuneFM73Im8dRnauC4D+X/t1MYDWF3PJ6dcPq9L6v45mf3PSmv9Q1WGwn9+08aJqDr4/jq14Wi01Jq32w470f7jVWj7+idIuf4mRLVKRbBJW0ZVgtL1k7Dv5h7YumAbb/vytdJfkL9DG1eYul/BX6CJiLy1+TcUGtqlR5w3BBHaOAWgxr0QVV8b19U/BzFsDetAC8R0tn82SwqizmyhjQewup5PmM8DVO04J+NP644gbdzMhIjTztXGiag6VOOPk5GISGmCqA4XI3X4S2g7cTW6fLcZLR68GZHxodo8irKDOPFmL2x6dxVKtUnkA7u3wdjfaHj7btoYERF5bO92Q1naBBEd4rVxCkzd0eypxyzXKUHx56DBU88gQX1F9hLumIYG6cnmCl5oMiJHTEOzU+KJyXU9nzCfB6racE6GDXwfjfq0NP/Yb4pEaJ8pSBvI706i6lSzLdJD4hDX90W0m74aTYecbtiYMhTPHoQtU06dDgCrW1AIOxclIqoa5QqWLSYDXnC7Mcp1yl611XLX6d+iSTt+fzoV0hVNXl2LrtLCe85atBva9ZS59bGu5xPm8wBVK87JBkgauxxd5inbMG8n0sdeyhayRNWslnwXN0DiqB/Q9oF+toGfWbdhL58eQERERERERETktVr1A0xEv8/Q/OpWhvs+dyPrpZdh7TKTiIiIiIiIiIg8Ueta3cbe8j7iG2ovxKGpOPwbW/sQEREREREREXkjqEKhjVfSeuy+uS+yDmkv5eldU59ErPayMsp/uw3/Pj/H0p9PUKeX0WHCjXB9d3ExircuRcaCj3Fi1ToUZx1Bud7bZmg9mBJaIPLcO5A0dADiYlytSR6NeDdOaK88k4aEiSuQ1kp76UjRHhxb9AmylyzEib17UX68QHt8oQnB9RIQ0lTZruF3IeX0Zj7qIsJ3+5HxZEMcXKW9sBzfAuR+/zAOfP0Tio9mo7zM/HZQ1Jmo/9r3aNrc/NohSYu5k3Hk58Uo2ncAZUXawghFcFxDhHW8HHFX3IqUzt48Btl2f0OHLEb6qHSg9ACyvnsJGXOX2OYJUyRMiW0QPXA8Ugf3QORJiV6AE6s/weHPvkDe9u3aNsqxaoSw7sq23XQLEpLc3+9e+NsYbH/1G5QUAcGN+iN53GQ0bOqb++Rzp/TAjlm7tVce5MFKKj30GzJmTMLxVattjrX1vBqBxMHXuE+PNWOx7pFPoS8efP6n6PLohdorF+yWCx/2P3S4wVUGMyv+bhA2vLdCe+Xj9CnNQc6yt3B0vnI+79qJsnwtY0maNExHzEUPInnguYgOd5IvPSJl2jwc/HYaTvy9HiU5xy2PPA0Kj0dwcnvEnH8nEq++GLHh2hseK0bBuo9w6GMlf9uUR3IOtkD4GRci9sIbkeR1eWQ4b4zrlfMtpinC/m8w6g+4E0ktItW5/cln+Xb7eKy/e5JNR/ju9UPqD5/B/pkpHrP7zOgHDqFNPxkz5olNKM3T98v7sskRc5q9ipzf7ddt/o6qd9VNSD2nfeW+o6qz3FdYj7/t9UBQVAOEtr8WiSMfRIqn+XDRcPzz2iLthfF4eEjb98yf5qH4cJZ137XvofBuQ9Dg6htRv6EX54XP0tPuGs5DztPA7tqj20ScNv4q7YUDNZLX/VS2VjGfOC6ztP3tdDkSho5BUps45Nl891exrDHycvttr0EM22H8frT/HnB53eVC0SZkTHsVWb/9z/Z8Vo5XSJPTEXX2Tag/uLeb6/uTleetQ+b0N09er1JOhKSejZj+o5B8sZfbaqHls+nvIm/DTiVZDPlMyqHmfRB96Sik9uqMMJv11/A5eRIn3+t63mzdF/Wudld/qWJdsVquuWru+sXn9Sw/74vvyyq7/OFFHnWcdp6q7Dnqij/S3jfX7LUy6IPS+dh29S3I0x+La1IyyndKRnGyJ4Ub3sW+l59H3mH9ssEFUwIirv0UrW/o5iRh7ApHj7ioUJZuw+F3/4OMBStRpl+TuRCUfA1SX30VyZW8aLfy3X6cfELdiYJx5+HQiizLyWHh8lhJAXYP9r43DyUeHKqg5AFIHvc2Uj06MRwU9Fcdwa5HhiN7j+sPC2p2H5pPegRx2jaX752OHU885Do/Kfko+r5flS/YBtoEBxxVFqOHoPGXk5Hk6qz0kN+DPspF1sFXRuDw8j0nH+eThCK05wto+tANLi6Sl2PndUOQk6O9jLsBzb6cAPunxNo79kY69vx4VHulaPkY2k4agyjtpWPFSr5toeRb7aTz8LPcUwreFS9j9+vvojDXzQkd2gwxd12N8jdfQ74+ycMLkPLMJdj7/Ghkb3ZwjtmTMm3QJKTd3MezC9OiVdj78A045sG65Qku8Q9OQdqZLvK5pvCv8dj96vsoyHZ3cptganc/mrz8ABK8DlZ5wNf5trYEfc5cht3P3OE+Tyj5IWrkXLQe3Nrz4EmWsu7n70H2+sPu80Rsd9R/+ms07ejpBUs1l/s3h+PQi8OQ4fb4hyLsss/Q8u5e7jsUrWxlvvQAjky9HQdne/L9L+fFHUh9/GE0cPn97+v0rIVBHz/mdb+WrZXNJx6XWeY8Ur/JPGQurp1Bnzjle2DXK+6/H4NieyHp1U/RyO2PYMp37s8PYsfrX7vP70qlKrTHC0h7dChi3B0v5dr80ItKmq/YYalMO6V8l8fe/x2aX+B5QLp056fYNe4xz+olcq1w+zQ0v0wPqNeWoI8X1zsK+W6Iv/89NO3hKJ0qW1esnmuumr5+8V09y8/74reyqvqDPlU7Rx3zS9r78Jrd42vCahXSDzHttXFRthx5K7VxG0dwdOIF2PzAOM8OmijLQuEX1fNksPK9H2HL9b1w4HvPAj6i4vDXOHDnLcjI0ibUOqXInzLIcUEk2vVBgsMz4ggyxp2BnRM9u1AVFYfnIeOeM7Dlu23eH6uytdg9dpjbgI+o2POGcoE5ExJjLPxrLDbd+R/3+UnJRyfeGITdLjoaz12i7Ks2bnFiAXId5uVaJku5SBjR14OKk64EJcvHYueIa3Fgr7M06YmYroZQTc4vOL5dG3dqpZJehoCP2DEXxw5r404tQ96/1pPOdPYVPgj4FCBrykXYMm6SRxdAKNmDPMPFh6fKN7+ETbcOQ5YnlRIhZdqsYdgy+lEcdVdulK7B7tGDcNTDdVdk/4Hsd95CVoE2waFi5Ezvjy1PTPLgi06UoWzzBOy59S5k+rqc80u+rQWylf0ada1neULJD/nvXYrtS7O1Ca6Vb34Lm2TdHgR8RIVSgB19qCe2/3ZEm+JKDZT7d/TCIY+OfwmKvx+GHR+t1177WNZ8bL+pO/bN8vT7X86LSdh396M4pk05WTWnZ03wa173Y9laSeWZ070os8x5xFqJql1KFw1Xvwc8+X6syF2Gw/+5HYfztAlOFC66BVtf9iDgI8oKlPL8aRxYeECb4IR6bko54UHARyjf5bkvX4At0z2pN5i/DzfcNdbzeolcK0zsi23fuL2wqUZHkPliD8+vdxTy3ZA1ri92rdYmVFl1XHPVousXi8rWs/y7L4FTVvnjHPVT2vv4mr12tvRR2P6CAIRd/Qs63tJWe6VTLoCe7ImDq7Sunk0JCO81Cg0GXIN6LZsgQo2eFaP4yE7k/fwSDnz8A0ot5UYHJH6wFE0bay+dcdr02L3yzeOx6YFJKNY+Myi5D+KvuQv1e3RGdIM4c8St6Cjydyhffu88guyt1i6rg8/9CJ0ev9R3Ubkq7IdNFDUiFsElueYvSol8jngdDS85CzHSpFbZl7xcE2KS4s3zWtgdJ6EsGzXwESRf0RexWlqU5x1E7rrpOPLB2zhxQG+6JmKV7V2ubK+r1gZ2v2QYyWdd/SxSB/ZCvfhIdTuzf3sWB978CsWWc1P5jCGDUDL7U/PxUvPSvUi5+mrENk9EiOSjfUtw8JUxyDIcJ1e3HtrnYbMo1HtqB1qdo72sAr+19JGK8yglLQ2JqebdEQ8iuUcnRKrNp+W8+hc5Cybj8MwfUGK5tUAR3Q+pUz5DSoL22sD+1k23v8I4aWURefsmtBtsn88MbG4J80WaKwX6lN7YNWu7IV+GIvSM29Bg+EgktEk1N/0szUHBvnXIXjgZx+YuOelC1d3+2pcZ6q8Bza9E/dtGI7FjO61MK0Dhrr+QNe81HP3pD5QaPiOo8Wg0f/dJS6s1e3nTL8T2aess+xDc5mak3PkgEjtIHlfI9m/9H47MfAZZ8gsoWiHhtaVIc/Ho3txpF2Dn9E2WdQbFdkQ95XxLusBazsm5fWLrbGS8YdsiM6jjC2j32i2+eXSrH/OtDZtfw/3Qwk7Y5fsgkwkVeuRAWh9c8jwaXqeXnVI2/YnMD+7BkRUHrfmz/s1I+/xFuNyd7a9iw39etZaDlnJvEGKa2ObpY5/ejyPGiz1TDyR/OhuNnH5A9Zf7NumktuJ6HKk36GW4sivZf+PoZ48j4/vV1sqbqSdSvpyF1BjttSPetuCQvHjHvThhqKjIr+BxIx5G4v+daf4eUpy878o+P/Qn2vR2VLZVR3oK2zT19JdyK9vlvW3p46+87u+yVVWZfGJfZunlZz9rPinN3oe8jV/j2LQpOL7L/uLf1a/nXqpSSx+TcuzKlGNnfqXm99ueQYpe9irlSJ6SLw++Nh4njlrPi5DL5qLT3d21V3ZKF2L7dTfguJ4+plRE3/Q2UvVrTkVp9mbk/v4xMj/7TK1sBSv5ra2S35x+p+TNxjalopVnOTf17/GbEWepNyj5IGMjcmY8jcM2rfRTEPfSSrTo6uz7ULlO+Ogi7Jph/T40l0P/QfJVQxGnXyc4yGdBje9Diw8eUc5SR6r5nJSyxr6ViXouPo7kAf0t5elJ1wtKOgX3eA/txw1ycE3sbV2xeq65asv1S9XrWX7eF7+XVdXV0sc/56i/0t7X1+yyHbVSbIs22phZaYajaGEDpDw9AwmNQ2HqOg4tv9mIDmPvR1IHveAWYQhr0A71r5qKjs/fYE4k1UbkzvfTL3ya4HZPouV9/RAc2h7x4/5G50++QNpl56KelgFU4YmI6jAEzd9ajuSOJm2ikjn++AKZpdqL2qTQXBAFJQ5Bow9/Q+urzrV8+cq+OCqIChfdhwzDhaq+bNtRQxBvSIvgmFTEn3M/Wn+4Ga1u7wXl2k+T67ZVjTPBbcYibcafaHvDJZZCSbYzvu+baD1GOTbmKQrlM2aZAz7q9k1do+SlO1Bf/3KTfNTkEqS9ruQ3Q0fjFf/+gGNOjlNsnwFKUWIn+hIo10K1mPJl//pjhoLdhJDz30fbD5W82/cMreIs5Lw6A0nDP0D6zGVI7ppgfereiUU4NHY8chykS/DZFyHSms1R8s9il7/KOGwtpSj4dZZSdDuX++cvWsBHoVTqYqqY5uWbX8b+2YaLD1MrxD23GunPP4mUDvqXhCIkDpHNz0XqqC+QPuNn5YI31fA0QjdK12DvhHcNlZJYRAybjQ7vvIXGp+uVEhGJCPmMu79Fp0++Qnwzay6r2D/J0mrtZFtwbLH1yyOo5WNo+daLyvbreVwh29/hYjR9cjk6Tf0CSfe97zLgIxWpfV9bv+iC2zyG5p8vQUulXDCWc3Ju1zv9DrT+ZDWaXmx9QmPFhuewzycd9fs339Y0vRIc1OxmNFHKpvZ3G8tOKZvOReNxC5FymqEl3bE5yF6jjTsivyC9+F9rwCf6dDR4TS/3Ts7TjZ/8E+2euwFh+vlbtgJHJs93+st3TZT7lnSSW0cmb0H6k8YyXNmV+DOQcvdspA1K06YoypYjd5FnLUU8o+VFS6XSBFOP/6Lt53PRXL7/9e8hhXHf244bjajzn0FThwGfmv0erU7+yuv+LVsrw77MUo5dpxfQSi8/DfkkJL6JekxbvrNGzScR0dobtYoe8JHbJr8w53dj2auUIzHKd0Cbt19FlKF2U/qbUkHUxk/y6xfIs6RPLOo9vgJtjNecipB45fr+shfRbvoWtLz7BaQ+7CLgI2n+8lhrwMekfC89rn+PG+sNSj5IkbJiLtLfeQGRlvTOQM47b8NZ4yT1OmGWoTKpXPsnvCblkNRLDGWqMZ+p1wnnI16pu1T1x3JfUcsaQ8AnKLY/Gqrn4nCb8tT+eiGh6xAk3+so4OO96rjmqj3XL3YqUc/y774ETlnlj3PUf2nv+2t2fVtqvfJ8vSMQOyFdkfbudqS/dIfbDveCu45GnOFaz12F0xci+n2ETrN+RnOH97gaNUDDKy6zzuP0lrZaILofGr492bN+h0qX4+DURYZfVXsgye2yYYgZ/BXaSMBMm4Ky7ch+612nX7aOSKHU8nXn90uG9bsL9eK0Fxr117yPXWyfkt+SLuqsvRDbUOTsFqVWT6LV49cgNFyuuk0IbjQADf/7hk/68/GX8jUvI9NYseg4Hq0fvdx1fwYhrdHopV/RsJu1OKzY/y4OzNilvTII6Yfodtq42LEY2U4P6i7k/GX9FTGq2wXWL/PN83DU6XL7kfuPNUgcdPrgKqb5ERx637bCEH3fbLRw189NeHukjnvcTd9DVoXznkL2fsuHIOTij9HWad9jmoReaD5pHhIaWyNp5asew/4/HH2BrEXRfm1UEXbulXDVuCE4qQ8a93P1a6JdutS/AU1eH+P6l3ClnEu8ewJiLffa5ePE7OkuA3ie8Hu+rQXUi6xJL7ro70X5Drn8EsP3zFEUbjAccDu2+S0FcU/ORhMXFwsi4szn0bCf9Xe68j8+QIaj87AGy/2gxko+fPcrNHbah00Y4oZcD+PXQtFG333ZOsqLbcYNddMnTBgiezyJto8OdVxhrcH0rAn+zev+KFu9d1I+Ua490l68xU1fNOZ80uhiw4VsrRKLyNuXov3dLvpAShiKhLOMt3n/g3wnd0zkbttgrZxF9EPsOa7yeyRiL7sFSS6+1GzT3ITIkQvR6lzX3+PBTW9B2vAe1muP3dNwxOHvxfbXCUqZOv4npLnr+0y9TvjaZUWtWjkqa96dioYuyxrz9ULaS5PR0F1LWY9UxzVX7bl+ccibepaf9yVwyip/nKP+THtfX7Mr82h/67aQMA93pDnCkrRRkZ8D//+oq2yby4NvFZzaVPka0uWj3BBVrT2iEDXyDfe3QGiKf3gVuYafccKvfdPF7QC2IvpNREo3a/FdseMNHPIwqu5ZodQTUcYGZXHXKZUFN823FVEdTzMcp30o3quNOhBx7ltI/24/TvthP7p8+IHPntzlH9nI+OwLwznRAfXv97TpagOkPPwCoi0zl6Ho6xcctFaLR4PzemjjYhVO/M/JMT08B3mWmE9vxN3fHxF6wpetQJ6z5fJ+xIkd2rgi4kxji65KWP8ajm2wfEsolbhH0NTtLRLeWolDM1YYLnAvR8rdPT3bbgl8P3qHoVVZLo5/4vzXSF1FQRULGJt0US6gr3sc9T0p60J6IvEC64WAq9ZynqmOfFuzPCvPFN3Ps9nv8jxnLVhs81tQp/vR2OktC0ZhqD/wKmteK1uO4w7K5Joq99UL5QkTkOjus5J7ISpZG1c4/VHJa/Z5MQ3xd1W9+X+NpWcN8Hder46y1T37fJKC2HsednvtUbuZEDZkBtp40Kl24ulnaWMiF2XHtVFXSoy3KlaGXZrXH4HkwZ59j0cMuAFRlou+DJz41UGzMrvrhOBuT3pYptYu9mVN6KAXPC5rfKY6rrlqzfWLI97Vs/y7LwFUVvnjHK3GfFTla3ZFlepCdAqKuxINLvG08C1G1p+Giy30QNwV7h+1bRWPlOuuNfwal4/8X5dp466F9BjifaEUmYhQT5aJiQ3ME6d0EfI2WgtEdLwBKe76vDKKuQoN+hru1i1c5LDT6rCefQ2/spehYKXjY5q/eC6KtHG1tU7CIMR2sER9kL/M2jeQUfn/lhia4PdAvX6Ob5fwVNbS+YYvvChEXzG8ypW4k2xfgBOGCy1Tr5u8a53U6h7U72QNRWL3AmSf9OtpG4QZKrrFv36OqtzKZJMupt6I7+95Ose27mj95dRVazlPVFO+rUlR17kPRqtCQg3p6sL6Wciz5DcToi4eCo8vfVp1sd7ipSjZtVEb09VcuR968aMeXigra/dHIZ43C7mGDuTR8nokVbm/p5pLz5rg87xeLWWrl/JmI9dYZqWNQFIdDBDY6o3EUV09Oq2CQzw7ADFNW2hjirJlyF7gSefxTtileegFw133d2YU0gXhhtv6S3ZvOOna49jCObbXCZde5XmZWmtk48jPyw1lTWfEDfKm7yDfqI5rrlpz/eKIV/UsP+9LAJVV/jhH/ZuPfHvNLupM3TXIZP2thWpQZKzrJtE2ViF/q6GwaHwO6rlqm+ZI+kBEG27BKl/zk4snm1CVrF+BQsPhCks/1+sCMeG8i5QqpE6pXKxYro0bJPdFlOECyvExzUb2qnXauAkRZ0lrnXgk/l83bZpExn/CUQcF4NGVhouWln0R722es7EfJzZmaOMKU0/UO9v3X3jF61YZ+i5S9rdrT23cU7ZpA6zDieX2v3x3RWx3Q3Dj0HvYdf1A7F5xwGHwzDW7dClbhIMDG+Kf/h4Or/xguLB03VrOrerKtwEkf+0qw8VPGU681szxcXI43I4ThvQu2b9VG9OdwuX+yl9t+nwJO/MS5dKyqvg9WhXVU7Z6ad0KGPuQD1XySZW+pgJU8Ln9DX0AKuXym6dj/fhPkav/GuQNuzQvmdXXQdnmbDgfx4x3Dx7aZtfaawvy/jU8ZdTUC/V88LCO6rcMJzZro6JxX8QZKp3VozquuWrR9YsjXtWz/LwvAVNW+eMc9Xc+8uU1u1mtDfrkZxoSUhHSuLU25k4BCjf+iP1TxmDbA+dj3XXtsXaANZEtPXzXkPK8HTi29HXsfHYoNt3YCeuubGrNAA6eUlSnHV6FQkOr+aAmHVBPG/ec3S1YLu7/pqrJ3/CPUv3TmRDawv5peR7o2sPmF5myrUqFRRu3SkdCT8N9vo4e3Z43C8c3aOOmHojVOjcN6zcIlrtvHbbIWIjcP62fGH725VWsdK1CgbEP+YadEOXNr8QeytmoB7hEc4S31Ea9ENa5m03H4Y76KUm46VlEGzrWMz9i9Qysu3EYdi9eh2KPf0WwS5caVH35NnDkbdZPLj84hcv94zu3GC7iKpkX7fF7tEqqq2z1xvGNxkd/mxDWuvpbU9QJMTcidYi1w1MoV8gly8dix5UdsHHCuzh2yMlziR2wTXNf24gi/alDomE763VKXbJ7I0oMFfzKlTVVVR3XXLXn+qXq/LsvgVNW+eMc9X8+8t01u1mtDfqc2GWsBXqQ0UoP4Minw7B+cGtsuv9GZM76GnkbtqAsJ1vtBb2mle78FDvu7oJ1V/fEnldeQc4fS1F4+AjK8gMqzGPreI7Nl6zngTtbkc0MAQJP7/8mr5XmWTtqA5ogrJk26pUOCDO04nHWb1bsWecrZ7VuN/L/tO2Es3jpPOsv5u0GIFH/aSFmCOp11MYdtchY8xPyLQumIaqnN7dBOKKcn8byI7W1Xy6CyvONIYYWCDdmeU+1UtJeGxUO+ymJGYQ2Uz5CvUTD7QqKisNLkPXqhdgwpAs2TfgUOXnu+vywS5caVJ35NlBYH2vuB6dwuV9RZsw1lc2Ldvg9WiXVVrZ6wS/5JEDF3rIUzUecbltZKctC0ZJx2HNza6y9dRj2Lt/jtry2TXNfq57rBL8rLTEErStf1lRNdaRl7bl+qTr/7kvglFX+yFfVkI98ds1uVkuDPuuRv8X4Rd0RkS5iPoV/jcem67tj3xdLUGJsh1YblG7DofFnYf1dY5G7/bBNgUqVcQAlzh/SQbXN0d2OH3Hb9SKbx7YWrfrR0HO9bR8WkecNMVxwxyO+m/XpaWX/+9bmNgWbR7XHnY96Ve5Pow47vMtxh6MJl6LVxyvRZFgfhNrfNVtyGIVLxmLnde28a0bfbSJO++FQpYc2/bT11BbO8m1A6odUB8fE42H8Vdp6/Inlvm8xPavEWdlKfhCGuKE/oOPkCYhtnmDXj1MZyg8swVG5xh56hRe3PaQhYaKDsszTYeqTtebx6uQDgXT9EmjXYnWJv9Leh9fstTPos38B8o3NsNIuQbyT+0oLF92MrU9PQmGuIdgTmoyIc0Yj6an5aPvxanSca03UVOOt2f5WugZ7RvfGoeV7bJp8Bzc6G3HXv4tm76xC2+k7rQd94mibJsTkSCOEetNJK9WsxDQnHfBdiFjjY1s3L0GW/oNC6RzkrtbP55M7Yo7qO9DaEXTOT8i1PD7V9lHtprOvgOWJiKei5ObO770OaYQGN3yB9Fl/I+3WaxARb1fylBWozeh3jrgWB/Z68AvCsQOBdTuU03wbiDLkuqGWY7nvW0zPKnFVtpJfhLS4AS3f2Yj0yZORcEZLBNv+8I2K7D+QNa4HNk1c5kHAPhOl7CaAdIF0/RJo12J1iT/T3kfX7LUw6FOMYzOmWZ7aI8L/z8mz6bOmY8+kH2BtqW5CyPmT0GbGWrR/6kk0PucMRKWkIswPfXC4V4ycD27DsT0l2mtF9OlIfGkDOn34HVoMH4z6zZsgKr5O3vnrmXpxNhmsZI/9U148U7h/nzYmYmGqk+1ma7+QGONvV7tRvFMb9co2FGdqoyIqzmmHdInde1p/tStbjjytm4Ty//2EAv2c7jgIDexP/uQrUc/SL0MGTizXoj42j2qPQlQPbzvs9ICfCvXgKGPPQ1tRWJmnQezeJo1NLYKVtHdL+SJJuOottJ++HR3fmoDYVsk2v6RW5C7D4f/cgowsbYKFcm4boyIHNqHqD5OsnOrOt4HANr9t9+3TR07hct83edEOv0erpMbKVo8xAOGNkBZDkPb8cnT55k80ll++w43RnxIUfz8MO6ac3H+P7bmZj+JdvmzqZvd9uG8jjDcd1xk+Kmt8yi/XXLXn+qXqqnNf6nJZ5Y9ztAbyUaWv2c1qX9Bn/7vIWGToxDmiH+o7eTxp7sw3DP13KDvT7U20fvRKRFufB11zSufg8DxDD0+mVkh4fjaadrUtVANacgeEVfkkW4+C3YZWXHGnIaranyZwaohq3sYmbxbvtDSh8dz2tSg2HC5Tm25OO1IOvmAwoizXa9b+eY7+ushywRbe7WIHT2JqjPizO2jjyoXJ8llqvrJ5VLtSbsR218arxK6vFz8V6tHNjfeh7VPS3rP7c43Kt/5rUzEJ7+BNAoQhrM0NaDlxLdInj0NUrOFC+sQiZHywVHuh64jwRtqoKFxTYx0jVne+DQS2+S0fRRu3aOM+cAqX+yflxW1rtLEq4PdoldR82Xqy2BbGXrV9HYA4RYQ3Q5L88j1zJZpc1t5Q8SlD8exHcNCucnrSubnZl091sfs+PLQe+f7sQshf7MuaPetQtd6rKqM6rrlqz/VL1fl3XwKnrPLHOVqT+cjba3az2hV/KF2D3U+/bHg8nAlhAx9FisNmPra3cshtIA0evqr2NMlfucTaWkFh6jcBae1Orr4Gtl6I6WTIiIeWIMfb8sLuVr/grhed2rfs+FP3PobHowIlfy3wut+CvOVLDBfHblrbhPRDdDttXFG2ZrFSmTE+fasz6vV1fA9CTJ8B1lu8tHxlfFR7UKeLkOiTphrpiGprqP4X/oV8X7aK0ESddb7h1s4yFKywBr48U4yjKwyPqlfSLrqn7W1xngppcQfavvuqTZ9L5X/Nt3vEc2PEnmbsEXU7TvyySxuvZtWdbwOAbX5Tcs+fc33YR8kpXO7b58UVcyoRoLHH79GqqE1lq0WXs6zfX4riDX94uU1kIbc93P0Tmg8yfB+VrVbKdLvH6tudmxVrvkemzwIz9t+Hv+L4z94HF2ueXVlzeAGy/XC941p1XHPVouuXKvPzvgRMWeWPc7R25CPPrtnNak/Qp/QADj1zNbL2WyMlQY3vQOMRznpwzkaZsc1f8mmIrk03WZ/ItTkxwttXZ2dCtUUYknr1NvwCsxE5M5Z7UWDY3+qnVMbO66WNk8+FXI7Y0w1f+LunIXONF4Vi6XJkLjA0B3bb2sa2U2Yc+gW5iwxP32o5EPWd/Rrd+BJEWX4N2oi8X2Yib41eIJgQcVY/nxVuNrehYTeO/1C1x/U61GoIYgy/bpX/8R4OOWme6VDWZzj2h6FAdNEPmkcShiK+qyEv5By0+aVbxPbsY3MLVNGCSThWE79uVnu+DQCtLkG0sdbvbZq5dAqX+yH9ENPBkBcPfYrMP6qarvwerZLaVraK5L6G7y+gYvUXyGDP0FUQhrj+Vyj/tyrNtIuM2p+bhd/j2Lwj2ouqs/0+LEP+t+/Wwc6+w5BwVg+b652crxdWeyW/Oq65as31iw/4dV9qqqzKz1W+udwr3zweR1drL9zwxzlaa/KRB9fsolYEfcozl2D3/Rfg0CrDb2LR/dBwwpOIM6amK0X5yiF0zZvM4UxFaeUu4CoKjREqR44g4+NPHR6kuiy4372IM1QuSheNxd7NnqVh+ebncfBHw61+DW9G8rl1qbVUMQp+HoP1gxvjn/6NsfbWkTjkSae4NSYMKdeNMBRgGch9+2XkeFSASR9W/0GOIbQceum9SHJz/tp0yox1ODbpG8t5HH7ulUr1xJl0JPS0RtiLvnlMnmys6YZ6vav4S6xB8AXDEG2IoJcueAz7PPqlXUmTKf/18H70dKQOMfZxtAJHXp/p4ROkjuDQK88ZWhZGIfqqW33b0Whc6smdzKffjviWhi+ZY1/g0NST+1Lwv+rPt3VfdzQY0NlwYe1Nmrl36pb78UgZPsyQF3Nx/P3nq5yuNZqefn3UdXWojWVrOhL7WG9Rlj7tMt/2sHKdNRMZP9bZe1GqTUiSfSth5dwcMshQ6SlDwWf3Oe37wmvpD6B+R+v3YcWON3Bgge+CSjb8eE6G9X8QsYaypvyXJzwua3ylWq65as31iw/4dV+qq6xqjFDjD1E7Vrm9tbA8czq2Pz7J5tZ8l/xxjtbWfOToml1Ro0Gf8rx1yJg4EOtvHoasrcaAT08k//cjpCRorx2yyyA5s5Hl9Bc1qXzfhQ0P2GWO8lJDk10n7Do2K9rk4X3ASakwZAMULpzmPKJYtAp7x/TEQWPQS1HZAFPt0h2NRva3pmHZdmQ9Pgh7NxRoExwr3TAem8a+ZwiCpSDuvofr1mMy1z+N7S9/jRL1fkV5tOg8HPrPfT5sUuwH6Q8juYc1lSv2T8Lu+19DlsvHABYga8pF2DXbULjXvwGpNztrpWdg9ytCuSU42gEx57t+vExsnwHWQs3Ysq5lX8T7MuIRcikaXmOoIJetw9GH78LhTBfnZ+kBHJmopMms7e7LGE3YwPFIaGwtNcpX3YttL85Bgav8Ii0kx52HjH+slzlBHZ9AU7snnunK17yEbRNnuX2sY3nmu8haZS0sg9r0UC6Z7TVHozEjbW6dKJ51NbZ8ugpus3jRJhwcfxb+fdFHvyJWd74NADFXv4p44y94HqWZKEDu9yOxfuhdLsqyU7fcD+76uE1exKH3PEpX+fFr531jnKRpdaanbeeUJVv/Uq6g6rbqKFu9FTP0MdSL1l4oyn8Z7bbsLN35LrbccS9O1N1eZ710BAcnjMT+de4exV6AozOmG/JpGiI6n3ycgs95FsmnGX5KOrEIh+5x812uUuoQK5RzaWh/F8GHBmh01z0Is2SzfORPvBDbf3a/7bkzr8WW6a5uC6nGczKkJxobyxrs9qisUa953hiIHVVu2aiolmuuWnT9UmX+3ZfqKaviEdkiRRtXFM7Gse+cBWTkfHwUm279j5dloT/OUf+mvW+v2as16FOAwox9OL76O+yfMgabb2uDdVdfiIPfrzQ8fUvZoDaj0XTKLDRq6u6XqHg0uMDYBDAXx5/vga3f/41CLXHK8w4qn/cudtzZFVtenoVSY8BHHN7u/tceu0pp2aKx2Ll8j3YwlX3atQB7H++JrXPt7h/ueg3qGYJSFTtewI4x45G5L0c7uJIefyNjyjCsv3oAjhqDXpqSvVu1sbotrPd7SBvSynqsTqzG0QfaYv3415G58SCK9TOjNAcFG2dh9+NnYb0E6CxXqiaEDZmGtK51qZWPkiOXLzn5pD+xALl+uDvId+KR/MQM2wvkrROw++qzsO2zH5F9RM+/5vMre/F4bLmxLXbP2mT9opVOy596HvU9ai2RjtgzDQW9Lm2Asg3auDP2t6hows++3EULocqJGfqGTZpUHJ2FA7eeiy1KWWVMk9Lsv5H52RhsvL479n1vSBOPpKPZhDcRbflyLUPpL7dhy/UDsev733A823rRVZq9Gcdmmj/n0Ios6+dIC8knbnHSt9kuHHj/beR9fxd2XN0Fmya8i2O7DOef8kVafMRcJm28dZzh1+1YxFx6ucMvi+B2j6OJ8dxWyuHCLwZg/Y0jsfePv1GQZ71IK83eh+w/lAqwUl6uvfICZEg5+vsrOOBt/yQOVXe+DQAhXdH0kdGGCyDnaYaio8jf+KPy3a18Xw1ujR0T56EkezaOzHBeUTlVy31zXpyKuEQHeXGmch7b5cXjqz9T933diGHI2fyN0zStvvS069djw0vYOXOdtn5zGXFwQh9sfKdWf5HZ8XfZWgkhF6LpaGPlWsrOQdh45xjsX73Zch0rxzNPyyPr7xqH/Fz7C9nAVf7HU8hcMg+ZD3XHv7cOw+7FfyPfcKykXDJf45+BfYutrdmCWl6PRGP/3RYN0PChVwz5QPsuv7krNk38TPk+PGq9ZpPzaNdvyFC+zzcNbYXN4yahMHs1jk1zUdFv9Qia3dbTEJxVzu+Xu2P9fY8iY+M+6zHVrv/Va4VrlfL0w2XI/+YVF0H06j0npaxpcmmqg7LG7ppBS6OD8r0wRDkGP67E8c98c1tbdVxz1Z7rl6rz675UU1mV0PtSm9uvCj64EFuV78w8fdu177Zd9yl1+nFTte82E4KjDVf8hzYrZ5cLfjhH/Zf2vr9mD6pQaOOVtB67b+6LLEMngZURFN4S0aM+QvPL2tvcH+faeuwZeRGOGfoBci0W0d3a4MSqv7TX/ZD6w2dwUOW0kTf9Qmyfts51YVL/ZqR9/iKMjZOKl96MTa/84PwLwk5Q436ILFmEfO2pA6FDFiN9lI9+dd4+HuvvnmT5xS/6gUNo00974UbGkw1xUG/g1HA0Wk59shK/vB5B5osX4sAvB70qlOWYRYyYgbZDuzrMwFYzsbX/3ZZe/j1Nu0rtm4dpmTulB3bMsm/aGIV6T+1Aq3O0l1XgeP1ecLW/WfOx/Z5ROH7UywvM6NPR4PnZaOJNp+VrxmLdI58qRbyVp8fv2Bvp2PPjUe2VSEPCxBVIc3jBV0WVSZPoVggL2Y5irZ1q8PmfosujF5pfOFG++S1sefwFFHr5a25Q4hA0ensykpy0kCxRyqONXpRHZlJRnI/2o1ydf8XImT4Iu6et9nLdZqaLZqLzf87VXlVRdeTbRcPxz2uLtBd+ym+VLq+9Lwcrm99Usdej2VevuegUuHaW+yddt3SbiNPGX6W9cMDmmHt4PCqdFweg0acfIDlSe23D3+lpVv7HXfj32Vmuz2dTT6R8OQupJ7WqtD0mbtO2DuR1d2Wrhdf5pDJlp1ImN26C4v36d39nNPhkIZr44mlsXm6/7TWIZ9fTKo/K0C3K9f35yvW99tJT0cp2TFG2w9Wxquy5KUzdkTRtLho7LfQq/30YNvQPdBzRQntlq1rPSVXly5qYR1ej9fmGyJrKrsz15Hq7Wq65asf1i2/qWf7cl+ooq7JxeNxZOLDC88cfBCt5uXGzCdjrVTnkj3PU92nvj2t2T77//ciE4EZ9kPDgQnSYuRytvQr4iHQ0mzQbCc2sDaucCm2P+HE/o9WlaYad3okiD+rMMUOno2GPBEMUz4FjX+LIUtsrCYmWt7m3P0yGAL1jJpi6jkOLSS8jylBYl+7fpo0FggZIenQFWt07AKEeHC4RFH8OEl9bg/YeXqjWNrF9rrD5FV1V/0ok1IVOYhMuRauPl6Fhz2au871FKELSxyLt8x+8C/iIrhfZ9DovF4ExfTypuCnJ2ftS5ewxqN8Hsf4I+AhJkw9nI7Gdm7JAE5R8DRpP+RqxidoERfmRvcpXg2vB7cag/ZSvkODh58AUidA+76Ptx64rJaHnvYG0u5XzL9xtgWRmSkDEsNlo6zLgI8IQN/QHdHztaUQle3hyKyTQH3P3z+jgq4CPqM58GyDU/Pb5PCSd4WmaKSTP9ZyAltNcBXzEqVfuW6h5cSUa9WmJYA9PuaDkAUiZ8LaTgI+onvQMPkcpK642PgbbgbIVyPr6X+1F3eCvsrXypOycjTYPX+PZ8ZQyeYRyQX/rmYZjeQAlB7XRgNIWjZ77GAnpyR6XS/Kd2+gdd11DKPRz89KOHlyf6+S7YjSaTP3GRcBH6N+HYxEZ7+FJKsd1yBdoMcxxwEdU/zlpLmvaSt709JohtJnynT4HzU8K+FRStVxz1aLrlyrz575UR1klrWTnI7mrJ8fbhJDz30ebp69CvSTD7Tge1ev9cY76Pu39cc1ejddUoQiOawBT07MR03s0kp6aj3YzdqLLh18grW9nhFW2SX14N6S9twUtHxyNmFZNEWxI66CoBgjreI0aVOo462c079EIwY2aGQJLu1C01V0VTDRAyri/0UL5jKim8YYLOBOC67VF5KXjkDZtM9r0ti/owhB5yVSkT52NpEvPRli9SGtGVi4mTMldEKUs22zqNnR+6Q7EhjdGWJL14FbsXgvP4511QRhiLvkA6bM2q2kpx8sUZTw5JD2bIuL0m5D0wp9In/4tmnZ0evVb+7V6BC0f0b8wJcA5AA1fqkO3j4S0RsMn/0TnGQuROmQAIpIb2Jxftnl4Czq9+gASjM929NiFiD3L0Dyz4QAkeBq46XoFYuK0cYWp+0Cb1nY+p5Q3Td/YiPTJnyBRzum4eoYvJ7v8+8lbSkWhMaLaGK5A9m/0rOlzQi+kyedMnWkuO+KM5Y4itJ5alsYOmYwWX25G+tjLEekuX4XEIe4y5fz7bhvavDAOcad3QajN9ssXULy63rjrP0HLbzai/Q3dPA7Eh3S8E20/2aKs+1UknCPrdrDNan55CI1fX69sR2UC/R6otnwbQJR83fh5Jc8q+S1FSzOTzYWGfH+b83ai8t3d/pudSH/yBuU7S3vbpVOs3DcKaYTkscvR6UsnedF4Try1GZ0/+QCpLdzte3Wkp3IBe8tPaPvKOMSedF2lrPuc0UidvA0db+mkTa1D/FG2VolynXjBW8rx/Fu5wNeOp/Hcs9keLXjXuZvhAQhHUbzTrnuBABHS8BKkvbpWK8uvQWRTJ+WSkh9TXvlbOX/eQnKSh8F7OTfvWYJ05dxsfP1N5nWfdB5pdYi7Z6L1jO3Kd8WTaODh+kM6PoB20+X7UPmu7dgWJuP1v92623yjfNeO6uMmn9XEOanlzZkbnJQ1xu8FqWf96fvv9Gq65qo11y8+4L99qYaySrl+a/TSGks+tz3f9WvUPkgctxIdHzWXzWFx9Q154iBKDmijbvj+HPVx2vvhmt0Ht3cREREREREREVFtU40tfYiIiIiIiIiIqLow6ENEREREREREFIAY9CEiIiIiIiIiCkAM+hARERERERERBSAGfYiIiIiIiIiIAhCDPkREREREREREAYhBHyIiIiIiIiKiAMSgDxERERERERFRAGLQh4iIiIiIiIgoADHoQ0REREREREQUgBj0ISIiIiIiIiIKQAz6EBEREREREREFIAZ9iIiIiIiIiIgCEIM+REREREREREQBiEEfIiIiIiIiIqIAxKAPEREREREREVEAYtCHiIiIiIiIiCgAMehDRERERERERBSAGPQhIiIiIiIiIgpADPoQEREREREREQUgBn2IiIiIiIiIiAIQgz5ERERERERERAGIQR8iIiIiIiIiogDEoA8RERERERERUQBi0IeIiIiIiIiIKAAx6ENEREREREREFIAY9CEiIiIiIiIiCkAM+hARERERERERBSAGfYiIiIiIiIiIAhCDPkREREREREREAYhBHyIiIiIiIiKiAMSgDxERERERERFRAGLQh4iIiIiIiIgoADHoQ0REREREREQUgBj0ISIiIiIiIiIKQAz6EBEREREREREFoKAKhTbuM6WHfkPGjFeR8/smlOZlo7zMPD0oPB4hTU5HvevfQbNz4s0TiYiIalLRHhybOxmZP81D8eEslBVpX1qmSJgS2yC811g0v+VChJmnembRcPzz2iLtRRoSJq5AWivtJVXd9vFYf/cklGgvox84hDb9tBc+MxNb+9+NE9qr0CGLkT4qXXtVzaplf4mIiCgQ+bilzxEcnXgB1t98FTLn/w/FOdaAj6goykbJ9hXKRQsDPkREVPMK/3oUG64+C3s+/BgFe49YAz6irABlh9eiMAPeBXyIiIiIiGoJHwZ9jiDjyZ7Y+/0muGw6FNEPsd21cSIiohpSuGg4tjwxFcV68wmHohB1Xi9tnIiIiIiobvFZ0Kfwu1txaFWu9koR2gwxd89Huxl7cNoPh5RhJ9q/MxNJt9+IxBBtHvK78s1vYfPQpvinf0OsGXoF9m0u1t4h8o3C38Zg/eDGSh5rjLW3jkFmlvYGWZWuwb4Hu2CNch7+c3kXbJ6+BuXaW1RDsj7C7jcWGY5DKEJ7TkDzTzeji/qddQidpi9Ds1ufR/2z2c6HiIiIiOom3wR9Shdi/2crrC18ovuh4Ye/ofVlZyAyRr9YjkRE83PR+JL/Y+/R1WYl9jz7AgqyzT9jV2T/gSPPPg3Wycln8j7B7pe+Rol6S0wZyg98jQMvfAKGFm1lvTsCR9YfNpeRJYdRMG0E9qxX36IaUYzMd19CgeVOrlhE37sCHZ68AfEN4izfUSHx7VD/qqGozx8qiIiIiKiO8k38ZeW3OKH3dAgTIoe/gYZJ/GW0xu1fhvxj2rju2B/I26+NEylyp/RQW4KZh+HI0KZ75O9fUWjoAkVUbP4V2dp44JAOXfU0aoj1U7yJ2OxE3jr7VM1A/l87tXGqfsuQ+6e1ZWpQx0fQ9JJG/EGCiIiIiAKOT65xc9b8aWgi3w31+jXQxqlGNe6FqPrauK7+OYhprI0TVdUZ5yHCpI1rgtqdx67abbRATOcUbVyXgqgzW2jjVO02/4bCQm1cEXHeEERo40REREREgcQnQZ/C/fu0MUXyaYiO0caphnVHs6ceQ2R8qPoqKP4cNHjqGSSor4h8IOZGpD1yDULDJfJjQnCja9DosRv5pCM7CXdMQ4P0ZATJi9BkRI6YhmY19ORnUuzdbnn0NdAEER0YpiQiIiKiwOT71uzBIeaKDdUKwe3GoN30vWqnpF2nf4sm7VgdJ9+KOPctpH+3X8lj+9Hlw7eQxKjiyUK6osmra9FVOgiesxbthnblrUS1hkk5PtooEREREVGAYb2DiIiIiIiIiCgAMehDRERERERERBSAGPQhIiIiIiIiIgpAQRUKbdxj8ojnHbN2a6881G0iTht/lfbCiaI9ODZ3Mo78vBhF+w6grEh/FnQoguMaIqzj5Yi74lakdPbm0bryqOW7oT9RPnTIYqSPSlc+axMOvjUGx1ZuRenxApgTQfmctvejxZv/QT31tb0CnFj9DY4snIkTf29CaV42yrVNDAqPR3Bye8Rc9CCSB56L6HDzdG+UHvoNmXM/Rs5v/0Nx1hGUW3sa9UA/pP7wGeyfEYRFw/HPa4u0F0D0A4fQpp/2wgHbY2tYZ2kOcpa9haPzF+LE3r0o19PMFAlTYhtEDxyP1ME9EOl13xhams6dhrwNO5WPOa4dCw95kq9ccpI/Sg8g67uXkDF3ie2xcLu/sj+f4PBnXyBv+3YtD5sQXK8RwrorefemW5CQVIl+lYzpv2snyvItG6SsOwEhTQeg3lU3IfWc9u67J7HLEx5pOBotpz6JWO2lkW2eSUPCxBVIa6W9VGXj4Nh0ZPyrn88dkPjBUjT15ily+1/DxpETUKS9DB/2P3S4obn2ylZ53joc/e5zZP1PKUcOHjKklbUcSRg6Bklt4lyUI+ux++a+yDqkvfSQ8/PLNp95nW+rs2xUSFmUMWMSjq9aZ5P/g6IaILT9tUgc+SBSWkSaJ/pNMYq3zsPBb6cp5e16lBjKBkt5e/6dSLz6YsS6K2+3j8f6uycZOm/2hJMy1VM255l+Xmj79PEbyN1kPY9lf0KanI6oC0Z78f1hl0e9yFMZTzbEwVXaCxfntlktLSPtjql+7ql599NnkW38bg+tB1PDdER3H4HEoQMQF+NpGez8HPGElEWZ099Elt13upxHIalnI6b/KCRf7OH3ZrXsrz3DsbL/3o9pirD/G4z6A+5EUiXLAp+mj065tsuY9urJ69TPsbNvQv3BvauQJkRERHVPLWnpU4Dc70di/dVnYc+HHyN/+15DpUaUoDxnLwr/mISMh87AuhtH4uDOAu29SshSLuRG9EXGkrUosQR8RAkqYpsiWntlVYy8ZY9i07WtsfWxB5G1VLmYyLEGfERFUTbK9v4POR9eha3Kfuz4+YDhMfZuSABq/FlYf/NVyJg1D4WHDRfQtUDhX+Ox6fqO2PnqJORu2IIyY5qVFaDs8FrkfjgIW66/Fgf2FmtvuFe681Nsu7GtOU3/UI6FtwEff8lahl2je2D3h1+ffCyM+zv6JeSUatMV5Xuna/szDjmSTpY8XKZcLCv5d8k4pZLWFVsXHdGme6IYBSvs0t8SxBCy7iMo3vAxjj57AdZfOxC7V3iR96pFPFIu7m3o4H0j8pbs0sY9k7dkniXgA3RGvYsdBHyy/sJ+5Txad/WF2P+5Vo7YpJW1HDk4piPW3/casqwrraWquWws3YZDWlmUOX/pSfm/Il/Ja38r6XdXW2yYuAyGp577VHnmEuy+rys2jrlLK29tywZLefv5jdhxZQdsmrIEBYZzsVbKXmbdp79tz2PZn5LtSy3fH9sWbKtl57CdWlVGaox51/67veS4ml9yZ92Fndd1VfKL//KuSt2Wnvj3ugtx0MF3upxHJdvnIWviIGwe4uX1gs7P+yvf+5uHGo6V/fd+zhYUzH8F++9qjXXelqV+SR/lu/LnMUpZeYHjdernmFJm7LyuHdaPn4682l5mEBER+UgtCPocQca4M7Bz4jyUGC8cXag4PA8Z95yBLd9V4sK4bC12j70XJ3KNFSeriDP72SaKcnFy4JGu2P7SVBQ6WeYkJXuQ+/IF2O7JhasegFq+p3YEPOyULhqOLU9M8mjfK3KX4fB/bsfhPG2CC4WLbsbGe8Yi77CHB726qPljGLL3uN+uij1vYPczM9WL6cK/xmLTnf9xvz9lWTjxxiDs3uxJcKwYOR9dhC3jPEt/UZG7ElnjemCTHyvklRF8wTBER2gvFEVLPkWuNu7eehxdslEbB4I6DUdysvZCU/jXo9hw42XI9Pg8KkPZ5gnYM3q8TaW0dqmBsvGOXjjkURqWoPj7Ydjx0Xrtte+Ub34Jm24dhqzNWZ4dS+WcKpw1DFtGP4qjWdq0Wmcfsp/xcJ+U74+8N3thw4vza9U5bFGrykir/Mm9Pcu7an65FlvGvOWfcz9rPrbfJOfRDpsfhpzSrhe2TF/j1Tnrv/1Vvnem91e/9wuyPSl4tLL01ruQ6cn556f0KVx0C7a+/LVnZWVZAUqWP40DCw9oE4iIiAJbpW7vsuddU3EjpVLzZE9lWUP1L7QZogY+guQr+iK2gfn2i/K8g8hdNx1HPngbJw4YW+bEIvqB5WjTr4H22hHb5tnB0bGoOJGrriMoeQAa3PcYkjq3RFgIUJq9AyUhLREZY55XVbpGqQhdiqz92tWJun1j0ODCvohpkqouJ7/GF2ZsRM6Mx5Hx/WrrhUnE5Wg8430kOWuabL9uRVBsd8Td9gySz+yAqHhzk+nS7M3IXTQJGTO+QZGh8h/UeDSav/sk4lw1fa7S7V0mBJnKUKF9pL5tKT06KWkUpmxYDvKU43LwtfE4cdS6XSGXzUWnu7trr05Wvnk8Nj0wCcWWRUwwtRuB5NtHI65lE0SotzYoabrrLxyd8RSOLduAMsO8YUPmo/0oXz3y2jZ/2JBjffWzSB3YC/XkWBQdRfZvz+LAm1+h2HJhqeTBIYNQMvtT8/6YEhDe616kXH01YpsnIkS5gC7etwQHXxmDrK3WfB7U6WV0mHAjnDcwVy68p/TGrlnbrfn9pHUrlG06vuEHHP38FeSsP2w4NzxPJ6e39HnI/e1dZlkTu2L39xnaqxTEv7oGzT25U8LmtgYTIu9aj3YD49VXukIJTir53HzuKfmp+ZWIH3ETEjtYzyMpR05snY1DdvnV1a1iVrb5xNvbPE7KZ25vxan+sjHIZFLOdT1dQhHa83Gk3mDNa6XZf+PoZ3ZlnKknUr6chVRjmVkFDssG5VjWv200Eju2sykbsua9hqM//YFSQyXPozJROLz1SnvpK3Zlr8oUidAe9yD5qqGIa2P+/tDzZeb7b+L4LmNQyN05XDO3d9moyTLS4S17oQhJH47E629Cgp5flG3K37EMmZ+9hOy/bYMkwUqatVXSzBCPtuPleZ83G9tuvQt5lu9p5Tw64zY0GH6z7Xeber3wNA4vWGn4bktB3Esr0aKrkz2ulv1VyvNpF2Dn9E2W5YJiO6KecoyTLuiMaEO5I3k2443nbYJ4QR1fQLvXbnG+fn+lT+lCbL/uBhzXD5QpFdE3vY3US85CjHYbl3od9fvHSrp8pgazPEkLIiKiQOGbenMlFS66DxmGSk1Q4hA0+vA3tB01BPHaxYUIjklF/Dn3o/WHm9Hq9l5Q6iaaXK9/ESxXAz4mhJz/Ptp++AEan24O+IiQeLuAjwjpirQJbyI6OhRhl32BdrP+VLZvOOo31wM+IhIRKWcg5e4f0Pb2HtbbWAq/R/bPzrctb/p9NgGf4G7/RdvP56J53zMsFVUREt8O9a96Cx2mzUZCY8vOo2L/uzgww7vbZLyjB3zM+65vmxrwESFxiDn9DrR5+1VEGa6cSn/7Gse08ZPtwv7/Git1SoXg3pVIf+NFpHTQL/qEkqbNz0XjsUvQ4ZXbEWbZ7TIUz34QB/ZrL/0kuM1YpM1QjvUNl5grMyI8EfF930TrMcbWYEoenGWuzKj5d+oadBh7h5I/tKCMUmUJa3IJ0l6fgYSG6gRVxb8/4JiLX13LN7+M/bMNAZ/o05H4yt9261Yo21Tv9OFo/upatHvuZoSFatMlnWZd7Vlrs2qS0PtS63YjA3lLV2rjrmX9MNNa0Ym4DPX72wZ8RES/j5A2pJVSQemFpMnb0Pmdt9D0HNvzSMqRepJfP56BuPraRIV3rY6qR02UjXrAx5yGW5D+pG1eC4mXMm420galaVMUZcuRuyhbe1FFpWuwd8K7NmVDxLDZ6KAcy8an6wEfYS4bUu/+Fp0++QrxzSyZXikTJ1laltQ2Qc1uRpOpm5V0vR9JHazfH3q+bPnO32hxa09D2SJl3V3Yt117WcvUdBlpT8+3nV59EanG/KJsU1SHIUh7Xjl/xt1g+C5RytlVj2HvUh/lXwnUvjzWGtAwKcf18dVIf/7Jk7/b1OuFuUh/5wVEWu4nz0DOO2/Dg4ayKn/srwRd931tDfgEt3kMzT9fgpZXnYt6duWO5NnWn6xG04uVclebXrHhOez7zVmZ48f0+fUL5FmikrHKelegjbLNesBHqNdRl72IdtO3oOXdLyD1YQZ8iIjo1GG9LqtupctxcKr+y7zC1ANJb09GsssOHMMQM/grtLnPcEFZth3Zb73r8YWSCO6mXJQ+ernnnQMmXIVWX25Hx7v7uF0mYsDthttYylCwcpk2bm8ljiyw3rKC6CFIfXqo6/WHd0PahPGINARAin7yd4U1FpG3L0V7V/ueMBQJZ0VpLxQ5/yD/sDZub/17yNEbhSiCz5+EVpe47nw2pOMzaDnSEEwrW4ec+b6/rUQX3OkFtHz9ASRYLkJthfW7C/XitBcatYXBxy7yb0hXJF3UWXshtqHIaWXuCA69b6z8piDuydlo2tEawHAk4swX0X7CaMNFvlLZevcpZNaW25fSb0ecIV7gOjioW4mcP/TWQXLuDkaiw3wYhrhRS9H586/Q2F2noiE9kXRJB+2F4tAvyHWWX2tCDZaNQY1vQJN3XaWhks5Drofx1Cja6Fnwzp3CeU8h2xAED7n4Y7S9oZshUOhAQi80nzTPJhguFdv9f3h3a5D/pSH+oRfRwOUxjETsVV+ag5faFPUYfjwTtW1var6MPFnUKHfnfhgie0xAS+M5ImXktLd98h1avuZlZFoCtSZEjlyIVue6ammnpGPTW5A23PDdtnsajnj41eb7/bX73qmvlAWvj3HTaq4BEu+egFhLED0fJ2ZPd5hf/Zk+uds2WH8gieiH2HPcnGeX3YIkH7VOJCIiqgtc1bX9qviHV5FrqPGFX/smGiVoL9yI6DcRKd2sQYaKHW/gkNNfl+xEXIDk+73/hSc4xNVFhEFIGkINDRHK83O0MTu7FyPfsP+mc4c7vw3MKGE46p9jCLAcWoU8b2p1XpHbC2agzeDWbjNK4ulnaWMiF2XHtVE7x1f8AmsMIhH1Lr3Qo0xoG0wDSjat8EtFSComaS/eghiXx6InotpooyLuOqWi7P6WkqiOpykpqtuH4r3aqL31r+HYBmvlN/jcF5HmrMm/neB2T6KJsSXGiVk4Mt2frcG80RyJvQyVupxvkPWHNu7M+lnIs5wnSn4ZcKmL/BKmnKfaqBsxqcZHhznPrzWhxsrG6H5oOGECEt19VnIvRBn6VHJaxnllJQ7NWGGouF2OlLuNrV5ckNaYj94Ba3ufXBz/xPMWE7VLGOJuNlailfRd/QWO1qKdqRVlZBVE9HsDDTpaPwWHZuJYlX9DyEbGZ19Yv9vqj0DyYNcBDV3EgBsQZdmcDJz4dY027hse76/N944Jkdc9jvqelKchPZF4gfU7x3ELrWpMnxLjba5EREQkaijoU4ysPw0X+OiBuCvc9alhFI+U6641/AKcj/xfnbWosWXqNQYNPaxA+VX2UVir9cqFTaee2pg7YQhPTtLGxSGUWBtC+FhvJHrYd05wiGe17ZJcY9Py0xHVVRt1xy6YhmP7/XILR0iPIe77A7EXmYhQT5aJifUoLXOXL7ENjLkMdJwsduhdhtZgQNH/5ihnSO0QNXC4YdvycWLJfGuLFgeOLZxjqChcjnhP80udVXNlY+jFjyLFo7JRWbuvvzm2L8AJYxC8102eBcF1re5B/U6GTL97AbJrU+stb9i3RCtbjuOeBu6qQW0oI6umARpecZnhc3wQaMmbjdyN1m/00AuGw+PLjJAuCDfc1laye4PLMtF7nu1v1tL51rLW1BvxDm6jdSa2dUdraxxHLbT8nD4xTVtoY4qyZcheUHtuayYiIqoN/H995dAq5G81hDwan4N63ja1TR+IaEPz8fI1P3lwq4iyw8aFiGqdbORtMtz/ZjoL0d4GOmIGoV47bVzsWIzs2tJSIGaoTUu18lXf4ehJvwrrFiJr2VFt3MuKQp1Vc2VjTSpet8rQQa0JEV09DYLr4pH4f920cbEOJ5b7qq+W6hdz1vmGlktA0Sa912XyheCze9u09i3Z+lfVWo6uWwHL0+cVJbP64p/+DT0czpffMKwObfN5KzX3+7sfJzYafj0qW4SDAx1tq5PhlR8MgWoHLbT8nD7B5/a3+TEh/83TsX78p8j15jHyREREAaxmgj6HV6HQcEdAUJMOqKeNe86u+birfmR8TZ5atfo77H37Vmy5uzvWXdcGaywXKIanqbiS2tSmr4rCf5drY+4Uo+hwpjYu2iDC10+d8aOIlEbamFiNfE9/YC3djRJjHU7JM549Ia6uWYmCHdqoaNgObnqocSAeMe0Nt3gpFeCCddpojQtDYi9DHxOuOjv/41ucsDTnUo73pd48LUvJMtl/I/Ob8djx7GBsuK4T1g1ubK1I2D9Vqbao62VjJeVsNGbQ5ghvqY16IaxzN9tAiY/6GqoRrdrb7EtZxm4ft/44xYV0RLjhFkUc2Y0CbbQyjm/07nHr1c7t/q5CgeG3Bl/ze/rE3IhUY19YKEHJ8rHYcWUHbJzwLo4dqsrRJSIiqvtqJuhzPMfmAiCkcWttzDuRzYwV22rol6NoEw5OuAj/DmmHbY/dgaPzv0f+9r0oyznu/T3kyX0RZWiyXPbbZ551uJv1GY79YbhZp2OfOtX6IcrmF+yjOD5/oUcXg4Xz3jMEAJRjf6aL587Xacq5YbxvLbV1JSr9QGwLY60/H+UOn7dcM4LPHWXos6QM+T866vizGJlLFljzRssrkGjshsepYhSseA1bbm2B9UMvxf4PJiH3j/+hOOcIyow/NddWdbVsrKLyfOMNiC0Qbtx8T7XqAGPPV77pa6iGhIQaKrAKP7T+OLXZ3aJ4eHuVbheuKPPky7smudvfEimK/aY60if2lqVoPuJ024vasiwULRmHPTe3xtpbh2Hv8j2GW6eJiIhOHTUT9PGLAyjx22O8i5G3YCTWX30BMpasRan1PoQqSEfKIMNTKU7MwsFnpqPA1RVJ0SrsHvskCiwXZ1GI7j/EpqJT67W6EwmGTiXLfxmN7QsOuAz8lG54Gjs+MHby2g/x/Tzvb4CUS/oDO7Wx2qA74s5J0caVCsHG2Sd3VFu6CDmr9ECACZGXjFByuxtZy7D7vq7YMm4C8g+wM08rf5aNtdjhXQyUUA1IQ8LEQzjth0oOU5+s+Vas3SY63jYPhzYuf5PxV/qEIW7oD+g4eQJimyfYBk1RhvIDS3B0/FlYP/QK7F7h+pqDiIgo0ARQ0KcRQj1qCeCtYuR8dBG2vzkPJYZgT1B4S0Re+hBSX1iGth+vRyfLRcliJBha8LgSMfgFu0cN/wdbrh+IXYv/Rn62tTlyafZmHJs5BhtHDEKW4ZHGwd1eQdM6F/xogEZ33WP7WPE3u2P9fY8iY+M+FFruwS9A4a7fsH9CH2x86D3D48tjET36DaTwcateCW1k6OiyFki4YoT1sd9ly5G7yLb/lfKfv7C27DL1QGxvN/k8aya23jEMWZuzDMGeUIS0GoCEkZ+g+cer0G7GHmvF4YFAbSnmiL/KxlouuTkCppgw2bX8Id/yafpmorS2dyLubn+PHfBj5//+TZ+QFjeg5TsbkT55MhLOaIlgQ//uoiL7D2SN64FNE5f55WEQREREtVHNBH3qxdl8cMmejdqYdwr379PGRCxMlbkPxo3yzc9j34xNhopkLCKGfYcOM5ej3T33I+X0dohKSbTpn8dz6Wg2aTYSmllveKrIXYnsVy/FlqEtLP2P/Du0F/Z8+DWKcq0Bn6Bm9yHtae8fPV8rtHoEbV8ZjTDLbpehbPNUHLy/GzYN1vtGaoFNd16FzCUbUGbZ7VCEXT0Drfp59qjXukk5N4wHdd9G5Gqj3ji+x9iyJwrB0dpobdH4VsR11MYVBQunGSoZxchcttRyzgWfM9JNkO8IDr3yEE4Yz4/EIUidugWdJn6AtCsvRnxKE0TG1IE2cXWobPSl4ChjO66tKLR/+o8ndm8zdAYt66zDnfYfPmB7G0olb/MkZ5T0NcaZk1pW6bs0JMbY9iQfxbtqW9M6d/tr971zYBN8eUdwTaRPSIshSHt+Obp88ycaD+uD0HBj9KcExd8Pw44ptbwvJiIiIh+pmaBPcgeEVbliux4Fu62VPMSdhihjR4U+oVQ+P/vA5qkyYUNmoO0NZyOsclGek4V3Q9qkFWh8SWvPfmk0JSBiyBdoO+kR7x+bW4uEdHwS7T/8GHGNLe09XAqK7Y6EcSvQ/hbPHiFfd3VEuLGv68zNrm/5c6gY+Tt3aeOiMyI7a6O1RjwaXNDTmud3fIujej0gbzqyV+vndhSijB0/O7L9HRz9x/C7dHQ/NHx7MlIaet8Fdo2rM2Wjb0U3N/ZGvw/FO71/llL51n9tgj7hHbprY3VP8fLFMD54KLzjOdoY+cSan5BvaOYR3PZsJ7cMeSaqeRubMqp4cy172prb/bX73ilc49OOnWs0fcKbIemGL5A+cyWaXNbecJ1VhuLZj+BgbW+VRURE5AM1VH/uhZhOhl9dDi1Bjrc//OxfgHzDU7KCu14ES9+wPrMMef8aK0/D0HCU74MO5ds/RObCbVrLBhOC6zWAyfCrVFB4PExNz0bc9Z+gxZdr0H5UH0TW4YCPWTGOfzceufu1qo0pEqa4eENTbHM6hHW8CYlPLUSHz+cirUejmsqw1agxYk8z9GJbthzH/+dlBbh0EY4b823Lvoivhfe5hPUfiWhLgGMj8paYA1XFS2ejUN/8iEsQd67rFjr5f/5iU9mPHD4RKXX22e51pWz0LdsO3stQsGKRl7/AF+PoiuWGFpmdEd2zrvb7lY2jvxsrxWlK+pyK9+f5T9avPxn6LTYhsnsvbbySuivfyYbTtmLN9549mKGauN9fu+8dbMeJX4w/HFRRbUifkEZocPdPaD7I+P26GnnLbW8tJiIiCkQ1VIcOQ1Kv3oZfXDYiZ8ZyLy7yi3FsxjTDL6FRiDqvihdtDtk9SanFGfB5NSJvNrY/Pknrs0bZj7tXotPX/6Lzd/st/Y90/W4TOr//HVoMvxhxdeEWFQ8UL70du2dtN1fSIi5AytTN6PzlJnSZp/eNtB9dlHTo+NpLaHpOZ9+1rKoDYvsMMFSA83Hi28+86nvA/kln4Wdf7r4T5JoQ0g9x3axbVrTkU+QqFd4jP1sr7yF9b0aSNu5MaZ6xLUwTRHSoy51815Wy0cdaDUGMoS+08j/ew6Es7YUn7J9qmHYJ4mt56yZnytc8j6OGoG1Qy+uRaGwI5Ux+rnL03SvfPB5HV2svTkVZH+HwggzthSJ6EOIvqOL3qlKWxXQwRDUKv8exeUe0FzXMw/2N7dnH5jb1ogWTcMxXgZlakz5hiOt/hc3DL0oza9uteERERL5XYw0ngvvdizjDz8+li8Zi72bPWjRIPzsHfzRcxDS8GcluWgP4RHGB28d9Fi56ETmGX9ndKV70EU7oN8/HXYkGl50KrVmUiv28HywVWVOvMUhNCoxglk+0ugf1Da09Kja8hL2LPLxAzpqOPZ/YPums/hXNtReeKEVFtf0CG4akwddaKxqHZuLYilk4vkF7jRTE9Pb2Fp0C20CtI6VrsPvLpdqLSvLjI4jrZNlYZelIHWK43a9sBY68PtPDYKf06fSc7VMNr7q1bnbinDUT28d/avieSUHsbXc42ZfGCDU24dqxCu4eUl+eOd3wI8MpSM59mydgmhA5/FkkVflHhXikDBlk+O4uQ8Fn9yHDm8ClP3izv+m3I76lITBz7AscmuqrPm9qafooQpLYio6IiAJfDcYXuqPRyP7WDSjbjqzHB2HvButTqxwp3TAem8a+Z7idIwVx9z1cpfvxnWuEEGNfoJun47DTH4UKkPVpf2x5ze62hNISlxdNhZmGCFFRjj/rkrXIfpQc00YVFSeyfXRhGSjikXqH3RPO3rgQ2392/ZhZqdBtveNBQ98NygX+je6fdGbbyeY6FKzXRqtD+nDUs7TwyEDuS0rlXXuFtBFokK6NuxCRZHxc3lEcn7/QaTqVZ87B9psutXkKnlRA3EZz7To6Ldn6l0etKiqnLpSNvhc2cLzd0wzvxbYX57ju06r0AA6NOw8Zhj6dgjo+UQefaqjsys53seWOe60/AiiCz38VaV2dBe3iEdkiRRtXFM7Gse+cBYeLUbDiUWy69T826z+VlGcuwa7RA2zO/aCWD6PxYN88GCD4nGeRfJqhTeWJRTh0z104nOmupJBjo5y7Q/tjnw8bnXi/v83RaMxIm9ssi2ddjS2frnJfPBZtwsHxZ+HfF52Xvf5NnyM4OGEk9q9z9yj2AhydMd1QdqchonNdbhlKRETkmRoM+igX+b3fQ9qQVtZfd0+sxtEH2mL9+NeRufEgivUrjdIcFGychd2Pn4X1D0xCsaVWIx0rT3NxUVxVPRF/ruGiumwdjtzbH7uX77BsW2n2PmQvHo8tN7bF7i9Wn3zBcWgb8rRRR4JMhp/cCufg4F1jsH/1ZsOjywNRqLLf2qii/Lf7sGnCuzi266j7i8tTRatH0PI+QwfGZQdx/GXzo+0P2uQP66Pt19+sVOgMT7AK7vYm0jyo0Nj2p3IUuW+PReYhLcBQdBTHl7+GLbdej4OuMnKlpSOxTwdtXMkLhdbKe/j/XelRa42wfkNs+oso/+UmbBj3KbKztX2Q8sOSRrfh+FFjwEfsQ/FebdQpu752NryEnTPXaeVAMYqP/K1UOvpg4zsr1berqvaXjf6QjmYT3kS05UlzZSj95TZsuX4gdn3/G47rx1NRmr0Zx2aOwcbru+PQCsNj+qUT7yduqYVPNcxE/tz3lGO3DwV5hkqunF+rPzMfv7vGId94/nZ6AS3HXujySzqh96WGW3LKUPDBhdg68zfk6Z+h5Y9d93XFlnFTtfxhQnC0ofJ9aLM10FqHFS17HRlK2ZhvyCfm/f8Re9Vzfxiy91hDokGNb0CT58b4sEVYAzR86BVD/gUqjs7CgZu7YtPEz2y/37QyKeOzMdg0tBU2j5uEwuzVODbNedDEnj/2N7jd42hiLHeQi8IvBmD9jSOx94+/bfKueu3zx3tK3u2JtVdegIzle1D6+ys44DQw47/0Kf/jKWQumYfMh7rj31uHYffiv23TRT3P3sWOO8/AvsXWlpAe3zpJRERUxwVVKLTxSst4siEO6v1ONhyNllOf9OLX5SPIfPFCHPjloKETTk/EImLEDLQd6q5j5ZnY2v9uy+NHQ4csRvooD5oP6PJmY+tNt3v+66ipFaI7F+HEP9ojk92lx/pH8e+DU10GO4KiGiBYq5UHN+iM8HbdUe/cwUjo3NJ9XzeLhuOf1xZpL5Q60QOH0Kaf9sKB3Ck9sGOW/tiOfkj94TMYwl7O2XxOGhImrkCai4uprIldsft7w20oJwlFcFycdvEZidCWXRDecSDiLuiN+Ca2j7Wumsrlj0rl+e3jsf7uSZaWGO6OhQQTcqYPwu5pDoKJLpkQcv4UtH70Ug8rv7uwb/T/4cgO+2CIrZDL5qLT3SffbmWbZ9wf+5PkfYTNVz9mV/HsgeQZs9HIwxpZ7kf/h50ztD6iPBDcrR/CVi2y3D7k/lhIxeIu/PvsLNfHwtQTKV/OQupJ222bz9BtIk4bf5X2wpnaWjaux+6b+yJLb6To0b54rnzzW9jy+Aso9LTM1chj+hu9PRlJnnTi7WV5VSl2Za/n5Px9B63GXu5Bh/3ZODzuLBxY4fkz3oKV49W42QTs9bicr6VlpN283ghuMxZNJzyABLcPj6zEvmfNx/Z7RjkILnvA1B1J0+aisaOe16tlf0Vlv3fMTBfNROf/nKu9csDn6bMFe0aej2PetpKKVvL9FCXf19lO/4mIiDznu7pzpTVA0qMr0OreAQi1NjdwKSj+HCS+tgbt3VZqfCBmEFq9819Exxp+5XciKLYXkt5ehMZdDFcRmTtc90uR/gyaXm18jOjJKvKPoCzHPJRsX4q8+a/g4GM9sWFwB2yasqQSj/SueQl3TEP9Zq4OeAnKtX0uy9mLwtXfI+fzO7BnVDusu3Ygdq9w14w7EIQhbugPaPvcaER4kP9EUHhLxD68Eh09DviI5mjy3Jtu83jpoknI8EeTgJghiDW2olEEdRqCBl78BB97yyI0G+L6PDILRdhlX6DN0zci1Hi71p4t2phzwee8gTQ356r0RZP19b/ai6qq5WWjnwS3G4P2U75CQrsED46nwhSJ0D7vo+3HHgZ8qkvH6xGfnuzZPmjk+CWMk/PXk4CPiEfyE/OR3NWTtJJg0vtK3r8K9WxuidyJIh8+nrvapAxCQs+Whic+uiflY8zdP6PjW54GQCoh4VK0+nglGl3aESaPty0UIemj0WTqN44DPqLa9tf8vdPxtacRlexhwaPQP6uDq4CP8Hn6tEWj5z5GghfnWlDyNWj0zkcM+BAR0SmjltQLwhBzyQdIn7UZLR4cjZhWTWGKMl5syOO7myLi9JuQ9MKfSJ/+LZp2jNTe87/gpKFo8/lKpN16EyKb2j9W3LBdX32Fxi0iEdWwifXio2wDCrZr4w6Fod6FYxDTuBJXoGVZKJw1DFvuGI+cuhb4CemA+tcMRlgl7j6pyF2JrHHdsWmKrzqZrN0iznwS7b/ahjYvjENcx7Yw1Yu0ubiVlmBhHa9BwoML0WHmcrS8oBKdgSdchTbTFiN1SB+EGdcvj9Jvejbibp2NdjM/RopfTrt4pT5zmWGbTYi6eKhyZngjEgmjfkb65MlIOKcLQo3lR2g9dR9ih0xGixnb0fHuPkqFOg2hidr7ipKdaz3IS0pl6Jaf0PaVcYhVyii99Z0IilLKgXNGI3XyNnS8pZM21Rdqd9noNwm9kPbGRqRPnYmkS89GWJyx3FUYj+mXm5HuUauYataoP5q/uhadZyxHs7tHI/Z0JV/a74ecX3FtEdlbyTtvbUZn5fil9fDy/A1pjUYvrbHkS1O4bU06KDxeSas+SDQEk8Li6hvKkIMoOaCN1iUxXdDoyeXo8s16NH/qIcSdI/nE2irWTFqMGs6P75aj9WXtbZ5S5RchjZB8zxKkf7kQja+X64YGDs5brdy+eyZaK+VSp1efRANXDzSo5v0N6Xgn2n6yRfneedVcpjo6B5O7IOrSh9D49fXefZaP0yek4SVIU8+1hcp32DXm9dmcB1q6KGV0yit/o/MnbyGZD48gIqJTiE9u76LKKkbedzdg5wfLUCYtnaNPR8L976Fxz2YOL5zkHvriosM4sfBjHJn7DYoM/T+EXDwLHe/rWTd+3S/dhgNPDETmGnNfHMFtlArPYw8iqaGjymoBCjOOovzYehyd9zKyl20wp5UqBXEvrUSLOtVvCREREREREVH1YNCnBhUuGm592pe395cXLcOOW65Frv4UrIghaPztZCRpL2uvI8h4sicOrjL3QSH9S7Qdf5XHtyKV/nUfNj3xpaUPpODzP0WXRy/UXhERERERERGRrk40DAlIeTOxd5L+ePcoRN8x0bv7y8N7ocEFadoLReFWFB3Wxmux4kX3IUML+CCiH1Ie9jzgI0LOHGV4xDdQvm8jrM97IiIiIiIiIiIdgz41ZeX3yLf08NwZ0WfHa+OVlYuy49poLZb921Jr3ykt+yChqs/Lzc/hY96JiIiI/p+9+4GLqs73x//yNzreCyWQaaFoAiUloqJc/+CiVGryZ1dJlA00SW/oilbqvYNlaZKZsIu2Za6yV1avQGoaelfEVWtN0rREQBBXC0TF2DBFtGGX2eY7v/NvYIAZGGBQGF/PHqdz5pwzZ875nM/h8ThvP5/3h4iIyAwGfe6Rf92pMhmG+e/4V1Ojl5tViqockyFX/m0EHGw95LDN/YSftSbDtN681vTIZuZcO4hq41DRgv9v4OjmhwEmIiIiIiIiug8x6HOPdHvQyWT0lMuoWpdk/QhcNX/Dtf+ehBsmMZ+uz77UCfL5PICujiYjavz9T7i23foRuH6+tAkXXv0tapTPYiLnHr9iPh8iIiIiIiIic5jI+V75+TCKfz0Ld7TKZ0GXHoPw4C/j8NDEIXDo6Qp17RBe8ghW/yzZhcrdu3HnQgn+n0mDmS59YzFg01twavdxaNvu/321AIXxn5oEelRQDZgG5xej0fMJT/zbw051kciaG6i+dRnaw7tw86878c/v/2HSOkoF9fMH8OTLQxm5JCIiIiIiIjKDQZ976J9fLsB3az/FzyYBnJZRQTX0HbivnoMHOkHAR/Yjrr83Ed8fKzcJ4LSQygUO//lnPD71cQZ8iIiIiIiIiCxg0Oce+/nSdpS+/QZ+qviXssYaKvx/fcbDJeZ36DuqTycMfPwDtzMX4erm/fhXiy7739Ft6EI88toiPNxLrawkIiIiIiIiInMY9OkQdNB9+1f8cHAXqgtOQXejCvpqk2iI6t+hesARqr7PwNE/BE7PjoOz878rGzuxn6tQ9c0W3Dx8DP8o+g4/V/+I/2dy2V26O+P/+7feUA+fiAcCQtBz+HD8W3dlIxERERERERE1iUEfIiIiIiIiIiI7xJQoRERERERERER2iEEfIiIiIiIiIiI7xKAPEREREREREZEdYtCHiIiIiIiIiMgOMehDRERERERERGSHGPQhIiIiIiIiIrJDDPoQEREREREREdkhBn2IiIiIiIiIiOwQgz5ERERERERERHaIQR8iIiIiIiIiIjvEoA8RERERERERkR1i0IeIiIiIiIiIyA4x6ENEREREREREZIcY9CEiIiIiIiIiskMM+hARERERERER2SEGfYiIiIiIiIiI7BCDPkREREREREREdohBHyIiIiIiIiIiO8SgDxERERERERGRHWLQh4iIiIiIiIjIDjHoQ0RERERERERkhxj0ISIiIiIiIiKyQwz6EBERERERERHZIQZ9iIiIiIiIiIjsEIM+RERERERERER2iEEfIiIiIiIiIiI7xKAPEREREREREZEdYtCHiIiIiIiIiMgOMehDRERERERERGSHGPQhIiIiIiIiIrJDDPoQEREREREREdkhBn2IiIiIiIiIiOwQgz5ERERERERERHaIQR8iIiIiIiIiIjvEoA8RERERERERkR1i0IeIiIiIiIiIyA4x6ENEREREREREZIcY9CEiIiIiIiIiskMM+hARERERERER2SEGfYiIiIiIiIiI7BCDPkREREREREREdohBHyIiIiIiIiIiO8SgDxERERERERGRHWLQh4iIiIiIiIjIDjHoQ0RERERERERkhxj0ISIiIiIiIiKyQwz6EBERERERERHZIQZ97F4qQrt0QRdxeiAK+5W1RJ1CxWHEB3vDqbtSh7s7YcLvrygbO7DUUOl8PePylRVERERERER3H4M+95NH3NBPWSTq8CpSETpwElZmFeG2Tlmn0+MRz/7KByIiIiIiImpKG4I+Ji1IuoQKn6itUkON5dkFofdbgSotI7pYdeHGume7epe/yheOXbugu2skdlYqKzuryp2IdO2OLl0d4buqs7Y00WH/4oXIrAJUXjHYW6KFwWBAzdUCJExSdrFC9aXPsS52PLx7OqKr8myJ5dLT3Q/hcekorFZ2JCIiIiIiskN3t6VP/ir4OnaVXry6Og7Eq3/VQffXV+GhdN3o7vQf6IjvqJU7I+FqPEfXYPyhGCj+w0Q83FVc1xWObp0kUNCtG7opi3T/yo/zlOpyx+56dAgf76sS5j5YkbkZU9wdpLVqN3e4qaXFpunKsCvaAy4ez2LpxmMoulkNvbIJ+mrcLM3BnsQo+PR4GJPWFYKxHyIiIiIiskfs3nU/efxJDFIWqb6hK3Oh/dmAmvJ0RLgoKzsrlwikl9fA8LMWuSuHKis7m1uo0gqzxyYg2FNeYzXdabw5whMR2y5BBzXcw+Ox72QZKmsMUmshg7YChZ8lYfaQnlDpb+Dw0mEYPu8wKpSvExERERER2Yu7G/QZuhK52p+lF6+ftRfx+6fVUD/9e5QoL2M1Vd+gI76jukSko9x4juUH8BvhJdTzN4fx48/iup+hLbODQAFRR6Rqaeu0SuyMmIB3C3WA00isOlGJkk/ewq9G9YWzsYWQQy94P7MEW/O/R+mWEDhBjwvJYZiVwrAPERERERHZF7b0uY+ourFzF9m5E29h8V6xW5gHFh/Jxooxcrcw89Rwm/Mpjmi8oIIWh15ZhAxjwmgiIiIiIiI7cJeDPtUoTI9DsHdPKWmulFRVyuXzCLyD45BuLquqMcGvMHlPm4dAN5OErF26w8ndD7G7yqDTlSErPhjeTt1r9+/q6Aa/6BRcMPMip7uQgmg/t3rnIe0fHo+ssgZfEI795bpo+Lk7obuyr5TLp6e7cPx1+LLh/u3AmIdFnBrnOs5HnKfxvDxhKVXLYwM9UZYVL5S/yXWISW29g5H0laWsJsI9S7Zw7ebK6l4zGSpbvMex4+sP9+093Xx9EAoYnuI+JoVbuelpqa51fXoTLKVs2h/1gFQeT29qsIexztTWV7HMvDF93Umz3YiM9zc0VYfT7wXW5pDq6roAnyv7CBeElGg/uCl5scR75+YXjvgsof4ruxjJScHr1wXjbwxLLJE+lyQOk48jTsp1F8cPkT43f81dMCS+WFnTDOOzaZJMubuT+OwkN06kbLwPXWYhU/xckohhyneaT9ytQ8bvt6JcWHKc8Tus9bMm+Y8afgkpmO8qLGr34IOU+lddd1+UFfUYnzvLz1wjZuqZqc6Rb4mIiIiIiDqLuxj0uYNPprnCJyoRWUU3UV2bVVV4VbtdgaKsREQNG443m3jXKfo0GV9cM0nIKrzk3S7NwcbICRg1whPBK7NQVDu2s5iv9Rpyts3FqJf2138pLn4Po73nYlvOtXrnIe2/ZyWCJ8SjSFkH5GKlrycClm5DTultk+PoUX2zVDj+UgQMjugUiZx/2DIZnsErhfI3uQ4xqW1RFv4rwEzZ6y5gw9N94DPPwrWLZTWgD8JSO163GH3ecgwR7vHGY6bDfd9G0e658J6wwar8LS5zXsE0R+FY2TvN319dBrbv0wKO0/DKHJP+fdVfIU6oj1Kdqa2vYpkVYffSMRgovPBb+v0bO57HhDe+wN+Vc9YP8cMvpKVivDfaG3O35eCasdIK9+5azh6sDJ6A+LoK2yaeixYgUGXFNasCsWCRFcl2Kg5j3pAB8rNpkkxZd1t8dubBx8UHb56uq1ltcwIH/yomAnLElFlhsCbkI/NH9K8fE+Z6ZP/lkLyKiIiIiIjIDtzFoM+DmL6nHAWbZ+O52Un4rLACWimpagn2xojdKwT6C3g/cb+0t0VOIxGbVgCt8L3NIU7yOuF7eWIOD7U7wjefRIVWi5INk4RXP1nVzi3IUJZF+cn/g1zl7dPjpQO4WmNATeVFfJaswYvPTcOa1BUmCY99sSq3GAc00zBNk4aTZZWoEXP7VJ5BUqDy+1V7kbDpirzcgWlv3IBOKOme/hocuFojXMMXWOwllbxUhskbj8rLEh1OLwvGoqNiVxmBUO6avSXCPatB5cXPkDTVTblnN7A3elyTwbp74fKhTFyAG6ZK9UHMvSTUib0vwUPYps9OwRZrbpc6DLOmiFGfo9j4YeNWLbrMHcgUYz5TZiGsNsJQgdQZQUgs1MNt6uba+iL+fsXJzZjqpkJV5nzMSTUfJTyZmYl/DI5VhiivgTZjphy8yE/G/4iV1uOl2uHLDTWVuPhZPGLXpGKFFRm6hyYUS9/L04ilIBxKkycfR5z2z5TWwWUOXpEiXc1c87RXYBrnMq8CKbPCkHxBD5XbVGw+qTzzUlmkIXak8PzoCvHuBJOg6dAEFEv7bEeI+NlDgzzjORr2QzlL8yoLcf66uDAcY8ZKa6zmN3ywNNefPQO2sSEiIiIiIntxl7t3OWBwzFYc3LoEz3j3Ej6Jq9wxZcEUiP/OLtL+WGHSoqQBpxBsv3gKGyIHw0H4Xszbc2q/B8cAJJ39Gz6JGYVeDg5wj30dUb2UbfrLKDF5yS84J3dvAXphwotB0hDQaucn8MzLCdh2cDdeb9gtRO2GoITd2J0QiVF9naWXcLWzL5bMldtgiG5e7wxJYFXw0pzE98cTECRctNp5HNa+OVkO3giuXytTlgS6XXj7A2M5yflREqa4C/dMDecnnsGSjAvIeknsEyPQX8Da1yx3B7onnALx4bliZEj1QVwh1IkpSVgcIC6XodR4ac0IjY2GeJUFu9NQPwRSiZQP9kArbI2ODVXWCU7EQ5NZBVXA+8jJiKmtL+Lv9xoVg4z9S4XS1CIzOc1seam8NDies0EZolwt1HOlLhacg3jKvSa8WDt8uXAD8cQzb2HD637Kb9iCGmG/iRKejKau2REhvw5p/jfzk/DuITFCNAnJORmIGaU881JZRGJDdiGSAoTaV7UXi986IW1pkytXcU1a6AFnJlYnIiIiIiK6F4mc5bw+s8d74xFj/p1hidILreS7CzivLDbkMe9dzOytfBB161YbsMAjY/Csl+lrqAucH1QWUYVbJm/Y48b6KkvXsSV8LBam5+JWcz1MpBwtsZjs546expwqs6SsI5LLF/+mLHVkk/FmQv0AgdrHuy5wZupQFo4a++L4/idea5QfxQETk96AFEMR6LP3I9NWvXRswGPe+1hYrz6IhDrRQ5xfh2l8q0n+izHfR5gXbMJ607hE5U7szBYKyGc+Fvsr6wRFB45IOWX02YvwiFhHGk7Gun7tKsw1NnpW8w7MpqIZNxZirb2+JRxjF6Yjt9kK2waBszFDinRZuGbXaLxa17TJoisHDkvX6jhlEeaYPrdGajcsiZ8rBZjKs/a1vYVN/37oKy3crve8ExERERER3a/ubtCnIgNR/XpIeX3+91gRKkzy79xN/ZcmY41/TylgpL9xAh9FDYeLgyMGismkc281ammkO/0eRvXuh4ClG/GXnFLcNE0EZKeuFJyHmB1F1Os/xqC/slyPy2j4GSNG+vMQvnJ3tXg479bwxKIFgUJdKcen6XURkCubkqWgmE94lLBHnYJz3ylLrdNNbSGY0n8pktf4oydu4MRHURju4gDHgcGIsyZg2WL+WCxFuupfc2VaunzN8xcLezTvbOFFaT68qb5W/qOkYBZKzqFAWtEGLoPxlNS67wy+Oi6tsVq+UnlVQ4ZjqLRERERERETU+d3FoE8+3hw3HellcsBEzPGR9FmhnG8lTyPlWrlr1H54/fj3+PFMGjRBg9BDfM/WV+NbMZn08IfRJ8wk0W7lTkRMeANf16a2iUXayTJU1gjnvV3KOmKXftLWDatU/dNPylJD3dCttqlVGxlbbZ0vaL7FR+Ut3Bbnjw3Ek9KK9uUSEQGxF1L51t8rQ3oXY+vHuUIltpzM2HfNZSUPjYWpOKGFwQU1/F4/ju9/PIM0TRAG9VCh+tssJEYNx8N9wmDrXNrGhM7lWz+CnGXrCjalZAtzH4RHWZHAWaCt/qc0/+nOHWlullptw8CdPyY/LWby0mLf9gzL3UQbOYE/bhfbJKkQ8NwkeRUREREREZEduHtBn/2JeP+C0kLGNQZHijOw5BlvJd/KvaCGs28kEg6cQ9WdSpzZHA53qZGFHjf2zsci+e0eVzYlYK8S8FEFfIiLpzYgclRfODffu6VTGzR6RG0ibG3BmQa5XRSV2fjK2C9P9RR8nlKWW2PMSAwR5yVZ2Gf2x+pU7twjvKYLHvdCW37SasbkxtpM7BD7sOUnY1uBcMmT5zZKZuzj/bg0v5iX04Kgg/XEXFKRCQdwruoOKs9sRrhQafU39mL+opYEOazgEoEIMdKl3Yft4rNQvBVynGsBrBm0SzRmpHRHmy6Lo9n4Wpx7eENsW9Q2aoS9Kudg0u76LyyzclSw4vcWYpM0znuDUdiIiIiIiIg6ubsX9LlVVdtdCMMDEGgSNKn+vhxNtAVof2pn+MZ8gozXjO2NtDh9Uu7uUSmct9FjYwJQl5pEh7JrN5Tlu+t8Qf22MBWpy7G5NimSjUwKklp6SAo2IfFowxdoHU6/sx5i2w+RKiAUIW0JhPWfganSW38B1r1qeUhz4WIxa9lR6KFCYFhLhuVuC2MwQYs9H6TgwB+3owSOmDZ3RqPfHxQ8QQ467HkHa89bCDrodDYI0IhByxh8kvGa1EpOe/qkxVxYreOCOa9ME65SuOYtu3A+bbdwZ1SYPHeOsMU6/YMnyue2Zz2Szd7QCqS8lwZxwC3XoCm26Vbl/w7WTxVH1SvB+gkBiP+qrsVaYzpc2PA0RryRK9QnR0z64EOTUdjqa/jMidr03Jlr0SbU7eU2f5CJiIiIiOh+dveCPm59pYStkoOrsUR4GdPd+hb74sai/y+3Sy9+d0vFhnHo7ugGv/B47LskvhTqcCs3GW+nX5Z3EF5uhwyXX0H795NTw4pKNi9HSpkO1ddPIXn6k/BcdlLZ0kDlTkx/WE723N3JGy/vb3tW2YbnIXbn0d3KFc7DA/1mZaIuNGUj6pl4d5kylD7KkTzBE2HJcv4Y4/WPXa+8oKq8sPS3dcGAyp3T8XBXMXFxdzh5vwzrLt8Ti5ZPhfi6XpUZjUFjFyL91LW6fDXV13EqfSHGDopGpnixrnOx8m62ylASOuuz38SLqeWWkxn7r8DqSeKQ57lYOSYAC9NP4boSd6i+fg6fr4vG0McCkNRMa6ZGKjZg0sBgxO/7trZMpPv/djrEWtuSXDTduskdqn7IOwWhOgsndgn7sk43CkSpw15FtKtwKQeXY/KmAqklzNwZLQizDV2GNWIARp+NRQNHIa723IXn7dt9iBs7CDHi6F5OIUhcYU2WIGu4IGLnESwfLJxn1ddYGdALA6evw+fnrqM2/CPUpXOfr0P00D7wXnRUeHZU8IrJwHYz2aaNz534zCVLfyva+NwZk02XbMby5EvyOeluITd5Ojz6zZLrNhERERERka0YWm27IUT4uniIJicPjSFP2j/PsNxLZX4f06l2f8X2kNptHpp6W4RDagwelr4nfNJ4KNvgYaj76reGd4c1fR4qr+V1x7q5wyC8t5rdr94Usl35gsDknKXJd43hsrKpKdtD6r5jejiJtedR71pFpvcpRPjUgGkZNvrRHwzbp/Y0qGq/b2ZS9TRM3f6Dsr/M9DrEyXeNNVcvqjF8s8bf0FNV//sNJ1XPiYYP/1ajfKcBpewb1RWF8dwaXaqxHBptqHN5jW/tObjGHlfWmvHDIUPsYHXtvo0nJ0PQ1nJlZ1mexkPaZunnv313mOX7oPIyLG9wufJ1NqwLiuOxBtdGxwg0/OGmst2E8bzEqclrtqTmG8PypspCPdiw/Btz91Kpt42eayvV/M2wJdzdoG74ew0nof5OTCowaJWvNdLEc6fq6W8YKf2NMVPOFuvhTcOOqU71jlM7CefiP1Iub0v1l4iIiIiIqCXuYiLnoVh9Jhu/C3oCDsZuQ1DB4aEBGLEgUkqUK7lzC+072vLjeONUKbKTZmNEXwelJYtA5YCHBozAtFUHUHp2dV2rCZcI7CzciQUjHjXpyqNGj96DELQgpC4B9W2T8540ue56RFU2uCbxPE5twewRfU3KTyCcd9/xGrw0WvmMOzYcrro3ZmZcQV6aBkGDephcv3jfemNQkAZpeVeQUW8cffHyA+rKVVBl9QkpyYpLs5E0ewQGPNT4/sxOykbp94fMDMfe/vrPj1G6vPlgvuk47Q31nogNOcVyHRtQV24qh4fkMiv4HgdmP6qstc7jb5xCaXZS/fuv7iEcbxUOlJ7F6pb0jfJfh79uCccgKYO5QP0oRsx8Ab/oLn80NTRmtpJrxwOzXm5Faxy1H1Yby8LkeVP3EJ772UnILs7BarNj1LeR2gtzPilBZclnSFowDoN6m9Rf47OuSUPB7R9xaMlgWEwtZu65U565rKLjWCQllWrJMye2RDqFLUL97lt3QDj0HQ9NVhGOywcU/gza7CEmIiIiIqL7WBcx8qMskw2JXcj6LMqGlLp60hbU/GWOSdDEvNTQLpiVKS+HbDdg/0x5ufOpwIZxfbAoW07cPWlLDf4ypx1e7Kn9FcdjyOMrUeCzCt+dXVFveHoiIiIiIiLq2O5iS5/7S+/BT+EhacnahMP5KKjNxKsSRzDvxHpj8FPy1YvDmodZyo5LHd6J9ZukBM6BCxYx4ENERERERNTJMOjTTvKzjsjJqZsZBrr6+mVcr65G4brXTEYCGoKRY5TFTikfWUfk1NyO015pNKw5dRIVKVi1tVy4iZMxN4I3kYiIiIiIqLNh0Kc9VGdgjRTBUSFgreVhoMXgyKrRA9Db0RE+S8VRhGROkfFY2l/50AlVZ6yRA1iqAKz98G4Nq062VH1pH+aNi4E4uJZH7LuYyZgPERERERFRp8OcPvfUHkQ6RuDjajH3jZgc+nGMjf0dkpcFwY2REroHTPNKiVReGpw8m4D2yLVMRERERERE7YtBHyJS5CPOcxgSSwCVQ18Mmx6PtOQ5uAcDpREREREREZENMOhDRERERERERGSHmNOHiIiIiIiIiMgOMehDRERERERERGSHGPQhIiIiIiIiIrJDDPoQEREREREREdkhBn2IiIiIiIiIiOwQgz5ERERERERERHaIQR8iIiIiIiIiIjvEoA8RERERERERkR1i0IeIiIiIiIiIyA4x6ENEREREREREZIcY9CEiIiIiIiIiskMM+hARERERERER2SEGfYiIiIiIiIiI7BCDPkREREREREREdohBHyIiIiIiIiIiO8SgDxERERERERGRHWLQh4iIiIiIiIjIDjHoQ0RERERERERkhxj0ISIiIiIiIiKyQwz6EBERERERERHZIQZ9iIiIiIiIiIjsEIM+NpOPOM8u6NJFnEKRqqwlontNhwsp0fBzc0RX6fnsCke3BfiLsrXjMv5N4d8TIiIiIiJqHQZ9iMiO6XA6bgi8525DzrVq6KV1elT37oenpGUiIiIiIiL71YagTypCpX81t/wv0RWpoXA27uMs7FOhbKD2kR8Hz9p70sQUaq/tBowtIzwRl6+sakJ+nKdUHp7W7GyNyp2IdO2OLl0d4bvKRse8l/JXwdexK7p0d0XkzkplZSdTnISYpAvQwwmBSWdQWWOAwaBFyZ656K/s0izdLeSmxyHczx1O3eueo+5Oj8B7fCzWfVkGnbIrERERERFRR9JuLX10p+MwLjoTVeIHlRc0Rz7FzN7SJiLq9IxB347d9ejKrk+QqwccZ/wJf1niC2e1uNYB7u7W/TGq/ioeY/s8jOFRidiTU4rbJtEd3e0KFB3biKUB/fCgz0JklTH0Q0REREREHUu7BH3EgM+Q0Ym4IPalEAM+J88iwU9626K7xUODPIPYqsHMtH+mshPZlEsE0strYPhZi9yVQ5WVndjQlcjV/gxDTTnSI1yUlZ1L5S0p7Iyxz4WgpX+BKlLD0D9gJU7c0EPV0x+xyZ+hsEKrPEc1qCw7iTRNENyFA+sKP0Lw4Oew4QIDP0RERERE1HHYPuhTkYrnJygBHzghZOsxBnyI6J7qpm7h36D8NzEuei9u6FVwi9yJ0u+PY8PLz8C7l4OygxrOfUchMuEASipPYLGXCqg6ikXBy3CacR8iIiIiIuogbBv00Z1G3LhoZMp9uuClOYJP2aeLiDqVSmx6ba0UuHaclIyctBlwaypm5DAG645tRYiTsFyyHnPWFsvriYiIiIiI7jEbBn0qkPr8BCTKTXzgFLIVxxL8zHapSA01JkM1l3C3iQTRpomKzSQjNibmFadGyXl1F5AS7Qc3MTGt8RhdHeHmF474LHOJWKtRmB6HYG8ndDfZv6e7H6LXfYmWpu/QlX2JdcLvuzt1r/f7rT2e7ZgMNf/QGIQGutZdb5fuGPx2nrxbamjteY95Ixma8d71ktp2dewJ7+kpsNS7RVeWhfhgb/Q0Lf/uTnjEezxikwuF0u5ITIfKrsDh+PAGw30HIu6w+azkct2uX69PLOwjXW+fhSeUNQ1dwXvDxe/1QcNdjPWmtt6KdcZ7OtadNPf7yrPjGYf8igxEDzSec3cEbvy7so/4KKQg2s8Njl3FbeK9c4NfeLyZnDTmhgw3Pp+zkCl9zsQs6bM4Ga+7GPFDxM9d8fQmSwmg9yPqAXGfIYi3MkZSXZgsnLdJMmWpLILNPr/GvzHDEkukz5mzlO8IU7OJu4s/xMaj4t8xH2g2zoFVYeveM7F9bSBUwmLBpvVoeKfN1Ys6Lc+PZPxbZz4ne8sSmhMRERERkf2yUdDnXzgTNw7RchMfOI1cgyOfzrTuZemuKMZ7o70xd1sOrlXLQSmJvhrXcvZgZfAExBcp60S6MqSE9cewqERkFd2ue6EU9r9ZmoNtSwMwYEic9d04clfC1zMAS4XfLzXNBGtyvMERO3HPx0eqPInML/5ed70qfyx8dZjywejfkLd+Hn57rKheUlt99U0U7Z4L7wkb0DAcUXF4HoYMCMbKrCLcNC1/3W1UFB3Dxnk+cPF5swN2i7mBHaEDMWnlnvrDfV/7AomThmHeUetO2H/xfPgI8/JP0xsFAyTFW/FxrjD3mY/F/vIqUfVXcRih1JvaeivWmaLdWDpmoPDCb2E4PH0elo+bjm3fGs/ZFcNHPiotofg9jPaei20511B3yGvI2bMSwRPiYfoYtJ4nFi0QAyB6ZO80X691GduxTytUscAFWOSprLRIhwsbnkYfn3nCeZskU5bKIkt4fgegT5gYnrONyqwjKBAXfF9AdLPnVsdlziw8Ky6UH8EB2xQkERERERFRm9go6HMI6xPFYZHFvM0aHMl+HR0qjU9+Mv5HHMJH5PESDlytgaGmEhc/S4bmxecwbU0qVgySN4svmKffmoCYvTek63EaqcHeEjF5aw0qL+6FZqTYh0N437yQiIi3rPxndN9VyC0+AM20adCknURZpfD74vHOJCFQPhyq9iZg0xV52SZKEjFMadlQbxJbgSi7mKfG4NgDuFqjRUV5JuY3yt/7T/zzn8JM5YapmwugFYe/3vsSPOSN0GenYIvpdVSkYFZYspLjSQW3qZtxRrx+bQVOpsVCKU7oCt/FhI4Q+KrnJDIzq+Q6cLESNQYDairPYG2Ao7CtHGl/PCTv1hzPaLzgK8zLt+L3GY0DRcVpu6Ugg+8L0aiNMVSkYkZQIgr1Yjkb64xBLrfNU+GmqkLm/DlINVdglw8h8ztnTDQOUa4twmo/eVN+8v9Io1l5vLQXJVo5sXdN5UV8Fh+LNakrUPsYWDQT+6VExtsRIn0OwXbpszgVI0HJX+0y5xVME4pJf3QjPmzUkkeHzB2Z0MIR016Zg+ZSROtOL0PwoqMQ7gRGavbiolIW0nkniWWhx4290Rj3Zl3NnrlfPqc8jVwzQ7Ybz9GAYuNJWpBf8Ddp3us/xlg/rLtIPQLDpJ+7gLwz0hoiIiIiIqJ7yvaJnDuignOQO3kIL3ITXkSQmKBD7YwnnnkZCdsOYvfrJt3QKlPw30lyAAuuMdibnYAp7mLyVjWcn5iChOwNCBH7cAhK/rQRR+XFZqndgpCwezcSIkehrzRutHA83yWY+wt5O3AT123VVKHVxDxMx5GzIQhuagf0qk1a24BTID48V4yMmMFwEIe/npKExQHKNpSh1FjYgvykd3FIKy9L+VEyYuArXr9DL4yK3IDswiQEKOVZtXcx3rLUA+qeEMoj5hAunhLqwBPOUh1RO/siLj4KvYRl7dVSK4NU/TE/Rmz5opWCHfXDPiewflOB8FOBiJlfF2I4Ea9BZpUKAe/nCOVsrDMCsdxiMrB/qYdwAplITjN3BmIC9SIcMg5R7iDeJVnBOfHm9MKEF6dAqtYCtfMTeOatDXjdlpFadRh+EyWWUgF2pzWI+gjP2Ad7hErhGIJfhzT3mzrsevsD6fn1WHwE2QlT8IRSFtJ5L8nAhayX4Co8sRfWvgaLvclaoOzadWn+oHPnHLGMiIiIiIjIyEZBHw94iaPXCMQWMBOet11XC5sYNxZiQwvR9S3hGLswHbm3LHTNOfQXZCuNglCejKdN8tZIU/dZyDRuv34NZcqiNaT8LLGT4efeszafyiw5MYrgMi7KDQxsw9KQ7cUJsNzO4Vlo3jGfh8mUx7z3sdDLdC8XOPdQFnEd12oL5QoOHDZGgBwxZVHj/ChqtyWInysGB0TlyNrXkZKQTMabmyc27qbo4owHxfm1q8IVWsfY8kW75wOkmAYmTqTj03KhdKa9gjm1MYYiHDgirBS7Ry16pH79UyZjrpprV82cwWNz8LaFBOrjxopPwnVsCR+Lhem5sPQY2ELg7BlwFeYNc9xU7twpPWOu0a8irNk40yFkSfl1fPGfr5mvmw4Tk/CGGHTUZ2N/ZtsvyK2vXB/v3LJBBImIiIiIiOgeslHQ5ym8aRy9RlCVGY1xcacbtGi4h/ovRfIaf/QU41L6GzjxURSGuzjAcWAw4hq8+BYVnJdb+diUDqffG4Xe/QKwdONfkFN6szafSsfSDS0d2bppZ1F4UVnEcIwZqyw24D/KGJIDSs5J2VTuqm7duilL7UgdhlejXaXAxM6ddcGE/R9tRTkcEfLrEJOARgHOfacstoaqm3Anzeu/NBlr/HsCN07go6jhcHFwxMDgOKTn3rL98+q/GPPlZEZIr436VCIt/ajwjPlgvmkCI0uuFOC82FKs139gjMW+Vi4Y7feYMNfjvPD8ttVQnyel+fVvvrI6qCfRCfftsrjghWHDpTVERERERET3lO26d/WeiU+PaCA3+NHjQuIEPG8p0exdp4bf68fx/Y9nkKYJwqAe4uu1HtXfZiFRePF9uE8YzJ2qY+SfG7eUqTftx0xl36ZU7ozAhDe+hpLmGiNj03CyTM4Rs11OjGKntKgW8/9IfsKdO8piA2q1rYIu3SDHb0pgTeyo8pZ8Qo8/2XwmG1vwj3xe6oZ0dOOHkDo86TKwXcxm7BqNV802efHFmsvm6l3d1Fx+mkbUfnj9+Pf48UwaNEGD0ENVjW+zEhE1/GGbJkOWGRM6l2PrR/vlVVc2ISVbmPuEI8qaJMk/CXVInFf/JNQgy7p1U/oI2oBL0AQp8TZyP8bWFoy+XpmyBQfFYK7rBATfnSpFRERERETUJJvm9FH7JeDY1hDIDX6qkBk9DnEdaEgmMR9LZMIBnKu6g8ozmxHuLr9o62/sxfxFGVJLh0E+TwkvqTJtwRn55bxNrmBTwl4l4KNCwIcXcWpDJEb1lXPE2LcxGDlEWcRF5OWYrwtHs79WlgAPb+l1u5UGYfQIMcmycMw/y/fTshPY/Wcxd8tjGCg37Gh/xpYvBbshprnR7doCMbWNx6yXUb/Niw+8HxfnlsusbcR8UpFIOHAOVXcqcWZzONzVYjLk+VhkJtF0W7hEREg5m7T7tkM8dPHWj5ErPAeBCxbVJa1uyqDRkG6ptgBnLD6Mlcj+SuzupsJTwvPbZp6LsCBQ/CtQgMQFKdYFwnT7sXCZ2IJJHIRtcYP7SUREREREdG/YPJFz75mf4ojGSw6c6C8gccLzZlvRyC7jXIHpS6YOp+NW46DyqUnnC+qPQlWRiuWbjfljmiO+9Mbgk4zXaked0p4+CaljyKTnahMLo2Ad3siQ2hk0ptNZ2R2mErfkiI/gMYwJMMm1oivDtRvKsl3qj+CJtSWMPeuTG79AV6TgvTQ5ca44tHjQlBa2XGlgUngIpBjBntfxlsWAo1jP5mCTmDbHNRThyshW7c/Y8qUAm9YfQMqWgxC7Oc2OaXjNgxA8QcyGI5TZO2tx3sJl6IQ62GZqZ/jGfIKM18T7pMXpk23vHlWPyxy8IiczwpZd55G2W0xaPRlz6xIYNWMSgpQAzKbEo2afOd3pd7BebD2kCkBos4mhreGC+e8vk1otag/FYETULpQ1VdQVhzFvyFSki8+5x2KkLLMUzmr4907Ugr95ZpwvaJwDqyJ1Oaz+U0hERERERHbN5kEfMaDil3AMW+sS/CB6XBxM37+NiVLFLlYHV78lbau+tA9xY/tgtDL0u1n9+6GvsoiSzVguRpN0t5CbPB0e/WYhsza40kDFBozr7gg3v3DE77skdRfR3cpF8tvpwmuYTDVkuJzgWHhJ/e0rxkBFFXZN90LYui+llz7drWs4lR6HYI/u6NK9N17a39SboFF/9Ks7aWxeniIcqxrXTyVj+pOeWHZS2dRA5c7peFhK9twdTt4vY38nzSk7dNkaTFWqgj57EQaOisO+S8IdEO7bt/viMHZQTO3oXk4hiVhR20QiH6t8hHLu0gVdHd0Q+DvrEjyrw97Aa+LbuhhwHPskpq/7HOeuGwN3Otz69nOsm/4kxkr1TIWAN1bc1VYZxoTO5akv4s1s4QwCF2CRmRiB/4rVmCTsp89diTEBC5F+6rrczUn4//VzwjVED8VjAUktbolWsWESBgbHY9+3xhw+QpnkJuPtdPFJUGHIcGuDbt0g96g6j1NfSU+UcJx9ONzohNQIezVa6tZ2cPlkiAOVOU6bixlWx2bUmPmuHIApT54Az7BknDLez+rrOCU8+0+OXS88WSp4Lf2tSTLsNhq6Gse2TkVPlR5l6RHwfCwQC9NP4VptAjDheq+dQnpcsPC3ZxKSLwh/tcRR7Q6shblB0OS/eeLfu2U4phzDqr95FvRX/qiUbF6OZPF5Ekh/06Z7oN+sTKVlIRERERER3fcMrbbdECJ8XTwEECJ8aqDmG4PGS6Vsh8EpZLvhB2WTIW+5QXiJq91meWp43JuGHVOdzOzXePLQ5CnfMRi+fXeYQXhnNLufNKm8DMvrdhfO/W+GDyf2bPo7UBncl55UviDKM2g8jNvqn/fNHVMNTo2+33gSiqjW9pD623zXXFa2NCFPY/Aw+Y7FyUMjnK2R5fOuZ3tI7fdNy9bI9HxNr0NU881yw2B13XZzk3rwcsM3NcoXRA2vxTHS8GdlU7N++NQw211d7/iNJ7VhcOyhujpZj7FMLJSH8dzqlaNMLgcPg5kiqvXnSEflHFSGwD/cVNY29sOh2KbLzSnIsLVc2VmiPJNmzkv2reHdYXXPZMNJ5bW8wfeaKoebhj8ENj6Wa+xxZbsp0zrmajC7SzN+2D7V0NPi3wyVoedUk78vJvI0HtI+DeuktX44pDH497RcZsZJPTjWcOCqaQVuoIm/eerB/gZfR3G5YTk3Uf43dximOtU/jnFS9fQ3jJS+13Q9JCIiIiIi+9cOLX0Uaj8kWBrRS/xX9KxVCBrUA/X+UVzdA4PCF+N5cSAeyW3UHzXZBRE7T2HL7BHo6yA1M1Co4NB3PDQvjVY+1x9u+fE3TqE0OwmzR/RF3deE7zw0ACOmrcKB0rNYbdrAQe2FhYeuIC9NI5zjQybfEQjnOGDEbCRll+JvvxulrGyaS8ROFO5cgBGPmlytcJzeg4KwIMTYqki4WpNznjQ5QDjDOlWdePhotd9q5BRnI6nhfRPLYMAIzE7KRnHO6votJJ4KgtTDyUhbhVvKYrN6h2FrSSUKpPvXG1LeboW6R28MCtIgrUDYvsHMcOx3QWis2PJF4DgNrzTRNKX3xA215Tag9iLEejsIQZo0FHx/ALMfVVZb5XG8caoU2UmzMaKvQ239UvcQjrfqAErPrm5iOP+GXDB/ZxY0443PlHBeTwRhfkh/pQWRqaGIma3kavKYhZdb0bSq98wMXMlTkk/XFoUDHhKeIU1aHq5kzGyXe9l7YgKOf/8jzgh1adqIAXjIpP5KdWncAuFvwVXcKdiAIDfTCtyAub950t+7LTibsxETHxFXNPx71wSXCOw8taX+3zShPPqO1yCr6DgWSamN7lh/PCIiIiIisktdxMiPskwdSgU2jOuDRdlyx49JW2rwlzlNvFTaId3ReRjwdDLE1Dt4bDG+KV2Hu5Z+h2yqOH4IHl9ZAJ9V3+HsCqtSOBMREREREVEbtV9LH2qj3hj81EPyoioQYWaH9LZv6qE+kAaxEriGhjPg02mdwHoxmY9QjxeYS2BERERERERE7YJBnw4rH1lH5FGtHKe9YrsEtZ2ILvMgTkhLPpi/mINgd1YVKauwtVyox5PnIuI+rMdERERERET3CoM+HVR1xhp52GVVANZ+GFY/99H9QHcea9eJQ5oDrjEfwOIo2NSBVePSvnkYF3MIWngg9t2ZYMyHiIiIiIjo7mFOHyKysVSEdpmFTOUToIKX5iTOJvjdf8FLIiIiIiKie4gtfYjItvILcF5aEEfVG4HZW84x4ENERERERHQPsKUPEREREREREZEdYksfIiIiIiIiIiI7xKAPEREREREREZEdYtCHiIiIiIiIiMgOMehDRERERERERGSHGPQhIiIiIiIiIrJDDPoQEREREREREdkhBn2IiIiIiIiIiOwQgz5ERERERERERHaIQR8iIiIiIiIiIjvEoA8RERERERERkR1i0IeIiIiIiIiIyA4x6ENEREREREREZIcY9CEiIiIiIiIiskMM+hARERERERER2SEGfYiIiIiIiIiI7BCDPkREREREREREdohBHyIiIiIiIiIiO8SgDxERERERERGRHWLQh4iIiIiIiIjIDjHoQ0RERERERERkhxj0sWP5cZ7o0qWLNA1/74qylqhjqzgcj2BvJ3RX6m53pwn4fSeovsbnLTRVWUFERERERHSPMehzn+jTr7+yRNRxVaSGYuCklcgqug2dsk6nfwSerL5EREREREQt1oqgTypClX+Bt3ryjEO+8m17kL/KF45dxWvrCke3SOysVDa0Vn4cPO20rJokvOBL12xV0whjvQsVlmyhEjsjXdFdvIe+qzp/mVfuRKRrd3Tp6gjfVZ30anT7sXhhJqqgglfMXpRoDTAYanC1IAGTlF2ap8Ot3HTEhfvB3UkoD+Nz1d0Jj3iPR+y6L1FmjCYRERERERHZObb0uS+o0K2bskj3oXzEeYrBD0/EdeR40KGPsa9KmPusQObmKXB3EFeq4ebuJvzfCtVfIX5sHzw8PAqJe3JQetskuqO7jYqiY9i4NAD9HvTBwqyy2pZERERERERE9qoVQZ+Z2G8Q/wXedNqOEGUrhKXtDbcXJ2CostUeDF2ZC+3P4rX9DG1ZOiJclA0d1mMY+KSySAoXRKSXo0a8h7krO3/9dIlAenkNDD9rkbuyk17NrSpohdljE4LhKa+xXkUqwvoHYOWJG9CresI/NhmfFVZAq/wNqqksw8k0DYLc1YCuEB8FD8ZzGy4w8ENERERERHaNLX2IqENRtbhZWj7eHBeNvTf0UIndLUu/x/ENL+MZ716QGgsJ1M59MSoyAQdKKnFisRdUqMLRRcFYdpphHyIiIiIisl8M+twXurF7F9mtyk2vYe0FPeA4Cck5aZjh1lRnMAeMWXcMW0OchOUSrJ+zFsXyBiIiIiIiIrtzF4M+JgmgzSUrNib1FSeziX2rUZgcDT/3uqGcpUTKPd3hFx6PLLPZWY25TITpoQmYM90bTt2N3+2Cro494R2chK+qhaMXJiPaz01J0CxO3eHkHYz4wxXKsUyYJl5u9/GZ21puosfx5IBCJEf7wc2xa+3+3Z2EsovdZTaxbXVhOuKCvdHTZH85GW4w4tILhbvRcZgOlS0O9x1uch+7OrohMO4wzNzF2rLzNEl0U7npaXQVv/f0JljKz70/6gHhe13x9KYGe+jK8OU6oY66OUrHkOunN6avO2nm9411MxSputN4L1BMKi1/x3XB58o+At0FpJjet66OcPMLR7yZnDSpoeL3TfP2GH9jGBJLxM8lSBwmfpYnY3Upjh8ifW7+mrtgSLx1IRJdWRbi69Uf4Xly90N0cuO6Y7x/XWZlSp9LEocp3xGmZp+vYny48Sj0wpKPZiPm9JbXNq03Zm5fi0CVsFiwCetPyGuNmh56vRX5kYx/Lyxci/H3TOshERERERGRLXSOlj7Ci++Gp/vAZ9425JTWDeUM4VWv+mYpcvasRPCAPghLNftqL6v8DH/aXQTT3K766psoyvovTBvli/7D5mFbzjVUi2+PEh1uF2VhZdBkvNfpmwJ8idf6D8O8bTm4VneB0N0Wym5jBAZH7Kz3sn/nk2lw9YlCYlYRbprsLyfDzUJi1DAMf7PjvaDe2CEP973H5D7qq6/hi8RJGDbvqFX5W1zmvIJpjsL3sneaH5VNl4Ht+7SA4zS8MsckmVP1V4gb4YmApUIdvVYtBSHk+lmE3UvHYKDwwm++dt7Ajucn4I0v/q6cnx5D/H4hLYkBjfdGe2Ou6X3TV+Nazh6sDJ6A+CJ5VVt5LlogBUCavWZVIBYsaj7bTsXheRgyIBgr69Uf4XkqzcG2eT5w8XkTNutVVZmFIwXigi9eiG5BJiCXOZj1rLhQjiMHbFSQREREREREHUwnCProcHpZMBYdFYf1ETiNhGZvCbSGGlRe/AxJU90g/oM99DewN3ocmo5FqOA2NQnZV7Wo/GIxvKQvCq99hXm4oVehp78Gey9WQlv5BRZ6yNugz8W2P3X2l8Iq3LghvHyr3RG+uUAoOy1KNodA7OAibd37EdJMXvYfnL4H5QWbMfu52Uj6rBAV0tDZwnf2xihlpseF9xOxX9q74ziZmYkqqX5cRGWNcM41lTizNgCOwrbytD/ikLxb09RhmDVFjPocxcYPG0f7dJk7kCnGfKbMQlhtL6IKpM4IQmKhXqhfm3GyrBI1UgJhLSpObsZUNxWqMudjTqq5iMpJZGb+A4NjlSHKa7TImKkcOD8Z/5Mr3DePl7C3RCsnRReu6eJn8Yhdk4oVg+TdLBuKhGLxPPKgkeqzBzR54md52j9T2kkKgLwiRbqaueZpr8A0zmVWRQpmhSXjgvA8SWVRoZy3tgIn02IxUqh0usJ3McEk0Dg0oVjeZ7ucDt5Dk1d7jobak7QgvwB/E+e9/gNj+ktrrKTGiGHyQ34h74w0JyIiIiIisjcdP+ij24W3P5D6pgg8sPhINhKmuMNBeGlzfuIZLMm4gKyXXOXN+gtY+5qlLioqeGlOojhjCX7h5gDncWuhkf6lX+bxUhaKjidgyhPOcHAeh/jFAcoWoOyS8fc7MacQbL9agk9iBgtl5wD3mHcxzxjYwjVcvaIsKhwGx2Drwa1Y8ow3eknZcIXvTFmAKY9JmwHtj6iwVWsNG1F5xeDQxVNC/XgCzmLcRO0M37h4RPUSlrVXUWq+YjQSGhsNsUYV7E5rkO+lEikf7IFW2BodG6qsE5yIhyazCqqA95GTEYNRfZ2VIcYd0GtUDDL2LxVqrhaZyWlm6qZYL48jZ4MyRLlauDvGYFLBOYg1r9eEFzFFHr9cuqYnnnkLG173s24Yc6uoEfabKIjFZPmaHRHy65BmfzM/6V0cEgNEk5LlspArj1AUvTAqcgOyC5MQoBIDjYvxVoNuVa1Sdg3XxfmDzujwg+gRERERERHdZR0/6HMoC0eNPUR8/xOv+TV87XTAxKQ3YAzR6LP3I9NsMGIy3kwwfVFWQ22S3PipZybCNB2Ii3MPZQnQVt1Sljovj3nvYma9fCdD4fOUsmiBlNdn9nh4P2LMo2TMDSP6DhfOK4sdxOQ3N2Nio5wuLnB+UJw3DmxZ5L8Y832EecN8L5U7sTNbqIw+87HYX1knKDpwBOXCXJ+9CI9I5dRgGpYoBW9w7Soan8Kz0LxjIYAzbix8hdn1LeEYuzAdubfaMcoWOBszpEiXhWt2jcardU2bLLiCA4fFK3XElEVz6j1PRmq3JYifK4aXypG1zwZdBN36SsEq3LllIdhLRERERER0/+rwQZ8rBeehVZZ7/ccYmO3B4TIafsYWKPrzEL5CbVKBjKh+6CHm9fnfYyiqMM2jdI+puqH9ByLzxKIFgVChHJ+m10VArmxKlgKQPuFRwh51Cs59pyy1RjeoLcVS+i9F8hp/9MQNnPgoCsNdHOA4UEyknQvbx3/8sViKdNW/5sq0dPma5y8W9mjOWRReFOfDMWastMIs/1FiKAsoOScl42mboT54Upxf/wZfWRvUk+iE+3ZZWvIaNlyaExERERER2ZsOH/T5SVs31k/1Tz8pSw11QzclPw+1Xf6b4zA9vUxORqxyw9Skz1Ao5WYx5oaxkW7d5HxM5wsaj0rWUOUt3Bbnjw2UX/LbmUtEhNQNqXzr75EhBViKsfXjXKE8LCcz9l1zuS4XjbmpOAFDlX2to4bf68fx/Y9nkKYJwqAeKlR/KybSHo6H+4ShqbzlrWFM6Fy+9SMlX9MVbErJFuY+CI+yJkmyFtX/FOc/4c4daYVZatMmdm3lEoQJYqwKufh4awsyrlemYMtBsYa7YkJws8mRiIiIiIiIOqUOH/QZNHqElIhXpC040yDfiKIyG18Zux2pnmq22xI1ZT8S37+gjD7lipgjxchY8gy8jblZbGnMSAwR5yVZ2NfM+3rlzj2Q2p887oW7cnuNyY21mdgh9hfMT8a2AqF6TZ7bKJmxj/fj0vxiXk67tIhSO/siMuEAzlXdQeWZzQh3V0N/Yy/mL8qw7e+5RCBCjHRp92G7GOkq3go5zrUAVgzaJRiDkdINvYi8HMtndjT7a2nu4S1Fa9rI2CoLKEhcgBSrAmE67F+4TO422qCrHhERERERkT25N0Gfy+dQYPpOqDuNuNUHlQ8NTAqSWh9ICjYh8WjDl0kdTr+zHmJ7BJEqIBQhzaUe6axaUm6tdgtVxv50GI6AQJPCrP4e5U204Gix/jMwVXrvL8C6Vy0NaS6oSMWsZUehF17tA8PCmk0mbBtqhL0qJnTWYs8HKTjwx+0ogSOmzZ3R6PcHBU+QEj9r97yDtectBDt0OhsEaNRw9o3BJxmvQWxwpT19ErbtyeiCOa9ME65SuOYtu3A+bbdwZ1SYPHeOlUmS+yN4onRm2LM+2fz9rEjBe2li6mVXBE1pWbsnS1zmv49l4rBy2kOIGRGFXWVNlXQFDs8bgqnp4miAHlicsqxeVz1T5wsatz+rSF2OzbV5rVrIXIs2oW4vb/UBiYiIiIiImnYXgz5u6CtlXBXoD2L1W6eFl+BqXNoXh7F9RiPxgty2pBH1TLy7zEvuBoRyJE/wRFiynNOk+vopJE9/EmPXKy9NKi8s/a21L6jtI3+Vj5z0uKsj3AJ/13y3pWa1stxazeT3IPzekq9QrbuFb8Xf6/9LbJeGSmqsddftiUXLp0pDx1dlRmPQ2IVIP3WtLl9N9XWcSl+IsYOikSm+o7vOxcpmxwy3ISWhsz77TbyYWm45mbH/CqyeJA55nouVYwKwMP0Uriu9Equvn8Pn66Ix9LEAJLWg95GkYgMmDQxG/L5va8tEdysXyW+nQ8xGoxoy3MruYt3EnnSCH5B3qkwKPlVf2oes042DI+qwVxHtKla15Zi8qUAcpx1zZ1gfZhu6bA2mCjdUTGo9cFQc9n17Sw52GevQoBhpdC+nkESssFkLm6FYfWwrpvZUQV+WjgjPxxC4MB2nrim/LdDduibUpTgEe/TDpGSxJZsTAj88gLWNEsMD/fv1leYlm5cj+ZJ8I6Vyn+6BfrMyIVbFFunfD9IRSzZjefIl4ekVCOWRmzwdHv1myXWbiIiIiIioPRhsYrshRDiUeDggRPhkXt5yL4Oqdr8mppCGR/jBsH1qz6a/q+ppmLr9B2V/ozyDxsO4T+Pz2h5S9/1GP7k9pHZbo/PJ0xg8zG4z/T1xcjRE/lnZ1BTT43lohKPU19pyy9N41G7z0DQ8qun1exhMN1v3e6bfaeV1S2oM36zxNwjv6ybfbzypek40fPi3GuU79Rmvs9E9lBjPrf41SpR7bK5sjC6v8a09B9fY48paM344ZIgdrK7dt/HkZAjaWq7sLDKel+Xn5dt3h1m+Dyovw/IGpy3fTzPXKTge69roGKrAPxhuKttNmdabJq/ZgppvlhsGq+v/lumkHrzc8I25W2nF/WiScA80/s38nRAn9WBD7IGrQs2z4OYOw1QnM98TJlVPf8NIC/XJcj28adgx1anecWon4e+W/0j5e62+biIiIiIiIgvuaveuoauPIWuVmJC2/r+uq3sMQvji52EcgAu3Gw6/3BszM64gL02DoEE9TLrXqODwUG8MCtIgLe8KMuqPSX4PPIWgCWJHHyMtbDHae+vLrXWGrj6D7N8F4QkH4fVZoXJ4CANGLECkmPNFcge3an+sLdetJCsuzUbS7BEY8JCD0qpLoHLAQwNGYHZSNkq/P4SFXta3OLGV/vNjlO6FPpjfVPKX3hOxIacY2UmzMWJAXR0Vy02qnwXf48DsR5W11nn8jVMozU7C7BF9UXsr1D2E463CgdKzWN2C3lH+6/6KLeGDYKxC6kdHYOYLv0B3+WM9Q2NmC1cr8sCsl1veHEfttxo5xfL97Ft34uih3MvinNUw08Cm7YR7kHD8e/x4Jg2aaQ3qklBuvQeNwwLh96/eKcCGIDeTvyMNuERg56kt9ctdqIt9x2uQVXQci6SkUqb1vzkuiNh5ClvqlYfwt6vveGiyinBcPiDuWH9AIiIiIiIiq3QRIz/KMtmC7ijmDXgayeXih8ew+JtSrPOTtliWHwfPYYmQOql5aJDX4lGeOoDWXDd1TMXxGPL4ShT4rMJ3Z1dYzHlDREREREREHVuHH72r01EPhY88mBPgGopwKwIfuoJzUo4WSbdusOGA1ndPK66bOqYT6zdJCZwDFyxiwIeIiIiIiKgTY9DH1nSZOCiNLS6OBr0YFjvH6G7h2rVbqC7LwqLVB5Uh0gHHEaMxSFnuVKy9burYKlKwamu5UBEnY27EXUyaTURERERERDbHoI9N6XB+7TocFCM4rjH4YFkT7SR2zYSbmwsc+wUj2TgCl8oXy+ND5eVOpQXXTR2WOKLXvHHy6Foese9iJmM+REREREREnRpz+twjRWt84bs8TxpSWkz22++pX+L1rRsRM9hB3oHoLkkN7YJZmcoHgcpLg5NnE9on2TIRERERERHdNQz6EN3X8hHnOQyJJWLwsS+GTY9HWvIc3IOB0oiIiIiIiMjGGPQhIiIiIiIiIrJDzOlDRERERERERGSHGPQhIiIiIiIiIrJDDPoQEREREREREdkhBn2IiIiIiIiIiOwQgz5ERERERERERHaIQR8iIiIiIiIiIjvEoA8RERERERERkR1i0IeIiIiIiIiIyA4x6ENEREREREREZIcY9CEiIiIiIiIiskMM+hARERERERER2SEGfYiIiIiIiIiI7BCDPkREREREREREdohBHyIiIiIiIiIiO8SgDxERERERERGRHWLQh4iIiIiIiIjIDjHoQ0RERERERERkhxj0ISIiIiIiIiKyQwz6EBERERERERHZIQZ9iIiIiIiIiIjsEIM+RERERERERER2iEEfIro/VRxGfLA3nLp3QZcuwtTdCRN+f0XZ2IGlhkrn6xmXr6wgIiIiIiIyj0EfIrr/VKQidOAkrMwqwm2dsk6nxyOe/ZUPREREREREnV+bgj6pocq/kAtTaKqykjqxahQmx2K8txO6K/dVnLo69oT3+Fis+7IMxvdjWSV2Rroq+3aH03+sgk3aHuSvgq9jV+W33RC5s1LZ0EpKy4guVlXSVIRK1xMqLNlG/ipfOHbtgu6ukWjrpdxzlTsR6dodXbo6wndVZ21posP+xQuRWQWovGKwt0QLg8GAmqsFSJik7GKF6kufY13seHj3dERXqc4Ik1AuPd39EB6XjsJqZUciIiIiIqJ7xM5a+uQjzlN5+eriCfZ+aIkKpIb2gc+8jThWdLtecEdffRNFxzZiacAAPLngc/ykrCdqKD/OU3r+OnbXo0P4eF+VMPfBiszNmOLuIK1Vu7nDTS0tNk1Xhl3RHnDxeBZLNx5D0c1q6JVNwsOCm6U52JMYBZ8eD2PSukIw9kNERERERPcKu3eRpPi9yYgWmz6I1IMRe+AqagwGaCsK8VlSONyFl2GVWwSS3n4GD8h7CVwQkV4u7Wcw1KDqm5UYqmxpk6Erkav9WWp98bO2DOkRLsqGzmnoylxofzagpjwdnfxShFsegfTyGhh+1iJ3pU3u9j1wC1VaYfbYBAR7ymuspjuNN0d4ImLbJeighnt4PPadLENljfgMCJO2AoWfJWH2kJ5Q6W/g8NJhGD7vMCqUrxMREREREd1NDPqQ4Ap2fZKrtFZwxIwdOdgQ5Ca80gIOvbzxzJJPUHKnEj9eSENYb2knos5P1Q3dlEXrVGJnxAS8W6gDnEZi1YlKlHzyFn41qi+cjS2EHHrB+5kl2Jr/PUq3hMBJeKouJIdhVgrDPkREREREdPcx6EOCStxSGvkAD6NvPzN9XNTOcJZ7wRDdn068hcV7xQfFA4uPZGPFmKYeCDXc5nyKIxovqKDFoVcWIaN+QiwiIiIiIqJ2125BH2NuD3FqnD+3qdw7Jtt6v4iEpHD4uZkkShUTBrsHIu6w6b+cG78zDIklyiqUIHGY8Tv1z6EuAbW5vD/GRL7i1DCZr8m2MW8gWTMe3k7dlX2FSUzi6j0dKRcsvN3pyvDluuj619PdCY94ByMu3Vzujzb+ntX6o19fZRGXsWPjYevzkBiTJAtTwzwudXWgN15MSEK4n5uU0Ni4f3cndwTGmev6Ylo/bJdQuc1MhsrWXUhB7Pj6w317T0+B2VuRHwdPcR+TSli56WmpDnR9ehMs5XbeH/WAcOyueHpTgz0a1aOucOzpjenrTprtRmS8D6GpOpx+LxCuyjl3dV2Az5V9hAtCSrQf3JQE2mLdcvMLR3xWw+TdYjGI36//7Bh/Y5jyAJYkDpOPI07KdRfHD5E+N3/NXTAkvlhZ0wyhLLLig+slUxbrlV90cuNEysb70GUWMsXPJYkYpnyn+XqmQ8bvt6JcWHKc8Tus9bMm+Y8afgkpmO8qLGr34IOU+lddd1+UFfUYn4EW5CYzU89MGX+PQ70TEREREd0/OnZLnzuf4O3/2oOcayaJUoWXr9ulXyBx0jDMO3rv/un83/LWY95vj6GodrxngZjEtWg35npPwIaGb9/VXyFuhCcClm6rfz2626goykJilA/6CC9rljqBtPj3WsQFUbFT4aR8Kv9TEPqPjcO+S7ZKQXsHn7z9X9iTcw3VdTdSuPRSfJE4CcPmHW0UWOjI9HnLMcR7LjYeMx3u+zaKds+F94QNVuVvcZnzCqY5CsfK3ml+RC9dBrbv0wKO0/DKHJNEQGbrkR7VN4uwe+kYDGyiDt3Y8TwmvPEF/q6cs36IH34hLRXjvdHemLstB9eMN0ioW9dy9mBl8ATEF8mr2spz0QIEqqy4ZlUgFiyyItlOxWHMGzIAwSuz6iVTFutVzrZ58HHxwZunbVWzTuDgX8VEQI6YMitM6vpoHX9E//oxYa5H9l8OyauIiIiIiIjuko4d9PnnP/FPYeY0UoMDV2tQU3kGawOEN2VJOdL+aHyJGoqEYjGRah40HsoqeECTpyRXFab9M5XVNvJP4dyEt1O4Td2MAq0B2pK9eMn42/pspGy5onwQVSB1RhASxVwgynfOVNYI56VFxcnNmOomvAkLqjLnY06q+TYQLfu9lnOJ2Ikja/zRUzoVPW6cSMRUDxe4+kVj3eeX2jgCkXAf5RsJjZgguqYSZ9YGCK/PsvK0P6IzvQ5fPpSJC3DD1M0nUSHcC/E+lux9Sahx4q1IgVW3Qh2GWVPEqM9RbPywcasWXeYOZIoxnymzEFYbYTDWI71UD06WVSpJtOvqUVN16GRmJv4xOFYZorwG2oyZcvAiPxn/k6sXHpmXaocvNwj36OJn8Yhdk4oVg6SvN2loQrH0vTzlAfTQ5MnHESfjw+cyB69Ika5mrnnaKzCNc5lXgZRZYUi+oIfKbSo2n6yAtrYs0hA70kk4YCHenRBRF2AamoBiaZ/tCBE/e2iQZzxHw340+SeishDnr4sLwzFmrLTGan7DB0tz/dkzYBsbIiIiIiK6mzp4Th8VvGIO4eKpBAS5qaF29kVcfBR6KVu1V0stdhNpf04I/PAcijNiMNgBcHCfgqTFAco2oKy0tp8ZcCIeGmVkLFXA+8gRvuMrZX51QK9RMcjYv1QKGAhXhMzkNAvX1ILfaxU1/F4/ju9LD2BVkLvSkkGHv+dsw9JnxeGppyO5UX8Z66m8YnDo4ikkiAmi1c7wjYtHVN2NROm9u5Et5xSID88VIyNmFHpJaV0c4D4lCfLtKIO1tyI0Nhpiz5+C3WmoHwKpRMoHe4Ta4Iro2FBlnUCpR8Y6NKqvs3KfTOuR5Tqk8tLgeM4GZYhyNRwclGhSwTmIp9xrwou1w5eLOZyeeOYtbHjdT/kNW1Aj7Dfy82v5mh0R8uuQ5n8zPwnvHhIjRJOQnJOBmFG9hFIQiWURiQ3ZhUgKUAFVe7H4rRPSlja5chXXpIUecO7sI7AREREREdF9o4MHfSbjzc0TUW/AKBdnPKgs4tpVtK19Sxt4zMP7C73qvZy6OPdQloDr18qUJaDowBEpF4hIn70Ij9TmEVGmYYnSS7fE0jW14PfaQu0WhBUHSnCn8gzSYsfjUeUHdZd2Y96w4YhrZXeZyW9uxsT6NxLOdTcSV+/ZjWw5j3nvY6FXw7CEcD3S7bgOq2+F/2LM9xHmBZuw3jQuUbkTO7P1gM98LPZX1gmM9chsHTKtRxbq0LOad2A2Fc24sfAVZte3hGPswnTk3rJVlygzAmdjhhTpsnDNrtF4ta5pk0VXDhyWrtVxyiLMMTeinNoNS+LnSgGm8qx9bW9h078f5LRXt3GrMwUoiYiIiIjovtbBgz72oeDcd8pS5yG2qorccBTlVw8hdrDyEq6/gMRfLYEN2k10fC0ezrs1PLFoQSBUKMen6XWlemVTMo6KMZ/wKGGPOm2tR93UFoIp/ZciWezahxs48VEUhrs4wHGgmFw8F7aP//hjsRTpqn/NlWnp8jXPXyzs0byzhRel+fCm+lr5j5KCWSg5hwJpRRu4DMZTUsu0M/jquLTGavkF56W5ashwDJWWiIiIiIiI7g4Gfe4y3zWXlRwiFqbihI71Yth7IjZ8lgSxp4yk/AgO2Cix713TrRuk0z9f0HyLj8pbuC3OHxuIJ6UV7cslIkIq2/Ktv1eG9C7G1o9z0VQyY9vXIaVr349nkKYJwqAeKlR/KyYXH46H+4QhtU1JwhszJnQu3/oR9ktrrmBTSrYw90F4lBUJnAXaajFJFPDTnTvS3Cy12oaBO39MflrMQqXFvu0ZLUg8fgJ/3C62SVIh4LlJ8ioiIiIiIqK7hEGfu8DH+3FlCbiYl9OpRqqS9A7AGHEAIsm/8K9/KYudxZiRGCLOS7Kwr5mRwCt37pFbMj3uhaekNe3MmNxYm4kdmULNyE/GtgJANXluo2TGxnrUXnVIat2VcADnqu6g8sxmhLurob+xF/MXtSTIYQWXCESIkS7tPmwXI13FWyHHuRbAmkG7RGNGSne06bI4mo2vxbmHN8S2RW2jRtircg4m7a7/wjIruzkWv7cQm6Rx3huMwkZERERERHQX3JWgz/mC+u0rKlKXY3NtEpt76TLOFZi+vOlwOm41DiqfbGVQ8ATpZVGk3fMO1p638MKo092zgFBFxjq8s+NLlJk5Ad3pbdhde7+cOl8i2/4zMFV66y/AulctD2kuVEzMWnYUeqgQGNaSYbnbwhhM0GLPByk48MftKIEjps2d0ej3jfWo/euQGs6+Mfgk4zUpwbj29EnIHZRsxQVzXpkmXKVwzVt24XzabuHOqDB57hxhi3X6B0+Uz23PeiSbvaEVSHkvDeKAW65BU2zTes7/Hayf6iQslGD9hADEf9VUYnMdLmx4GiPeyBXqkyMmffChyShs9TX8+yhq099Icy3ahLq9vGP80SUiIiIioruo3YI+/fvJaU9FJZuXS11EdLdykTzdA/1mZUIey8rWuok9eRQ/IC+nAtWXPseO9XH44K91r8JufY3DRulxcPVbEP/RvvrSPsSN7YPRiReEtTbmvwKrJykDlOtzsXJMABamF0rDoFdfP4fP10Vj6MNd0cVhNJKaaYlilcqdmC4er0sXdHfyxsv7m8k8W5GCWbOWYsULARjQZyzi9ilDtFdfx6nk6Xhy7PraRNOOIUswv7/y4R6o3DkdD3cVExd3h5P3y2ju0mSeWLR8KsTX9arMaAwauxDpp67V5asRrzN9IcYOioY0yJrrXKy8m60ylITO+uw38WJqueVkxsZ6VFuHTuG6EneorUePBbS8DlVswKSBwYjf921tmUjP6tvpuCwstyQXTTflAfwh75QcQKy+hH1ZpxsFotRhryLaVbiUg8sxeVOB1BJm7owWhNmGLsMaMQCjz8aigaOEOms8dx1ufSs+y4MQI47u5RSCxBXWZAmyhgsidh7BcjHHVdXXWBnQCwOnr8Pn567Lz4tIqEvnPl+H6KF94L3oqPB3ThyBMAPbzWSbNv6NFP8+Jl+Sj9Cmv5HGZNMlm7E8WXmGdbeQKzzDHv1myXWbiIiIiIjuL4Y22B4Cg3gIcQrZrqw0urnDILyT1W63PHkYNHnKdyR5Bo2HcVuIoeFhDXkag4fxux4aYe/6jse6Kt+tP6kC/2C4qexjyFtu8FI13qfx1PD3txtCjNvM/LZQIHXfbVggPxwyxA5W1203OzkZgraWK18QtfL3TNeLk+8aw2Vlk1k1fzN8OLGnQWX6HTOTyivGcOgH5TtGJr/lUf9GCrfKo3Zbo/pR7z5bXwdM65w4+a5p8spM1Bi+WeNv6NnMfVf1nGj48G81yncaUK614XUaGc+t0bUa62zjQqh1eY1v7Tm4xh5X1prRbD1qWIfq7oOln//23WGW773Ky7C8weXK19nwnimOxxpcGx0j0PCH2oevjmn9aPKaLan5xrC8qbJQDzYs/8bcvVSeK3PPlDWE52VLuLtB3fD3Gk6qnoaJSQUGrfK1Rpr4G6nq6W8YKT0DZsrZYj28adgx1anecWon4Vz8R8rlban+EhERERGR/Wm/7l0uEdh5agtmj+gLB+GNspbKAX3Ha/DSaOUz7th0CGT/dX/FlvBB6FHbaEAFh74jMPOFX6C7sgZDV+NY1ioEDepRvwuNugcGhS/G87X5a2w4PLOYEDmnGNlJszFiQP3fVTk8hEFBGqQVfI8Dsx9V1rbBpMl1iZdFVbfQ5GWovbDw0PcozU4S7tcAk7ITCGXSe8AIzE7KRunZhsOu332TJgcId7ROldU3SElWXJqNpNkjMOAhh7rjCHXyIeM1fn/IzHDs7a///BgpubGYzHi+6TjtDVmoR22pQ4+/cUq59ybPqvgsBK3CgdKzWN2SvlH+6/DXLeEYZKxE6kcxYuYL+EXtw1dnaMxsJdeOB2a93IrWOGo/rDaWRd+6+6nuMQAjZichuzgHq82OUd9GwvMy55MSVJZ8hqQF4zCot8nzrNSlaZo0FNz+EYeWDIaDsqkRc38jlb+PWUXHsUhKKtWSv49iS6RT2CLU7751BxT+/o2HJqsIx+UD4g7HnCciIiIium90ESM/ynKLpYZ2waxMeTlkuwH7Z8rLdO9VbBiHPouy5a5qk7ag5i9z6ge4Oq0KbBjXB4uy5U54k7bU4C9z7OPK7jvF8Rjy+EoU+KzCd2dX1BuenoiIiIiIiNquDS198lFQm91VZZJLhzqC3oOfwkPS0t1MSnw39Mbgp+QrE4c1D7OUHZc6vBPrN0kJnAMXLGLAh4iIiJv6wUIAAFUlSURBVIiIqB20OOhTff0yrldXo3DdayajywzByDHKInUI+VlHpJGL7G+o6HxkHZGuTLi0VxoNa06dREUKVm0tF27iZMyN4E0kIiIiIiJqDy0M+uRj1egB6O3oCJ+l4sg0MqfIeCy9hyM6UQPVGVgjReRUCFhreajozqg6Y40cbFQFYO2H9tSC6f4hjpQ3b1wMxMG1PGLfxUzGfIiIiIiIiNpFC3P67EGkYwQ+rhbzqajRo/fjGBv7OyQvC4Ib376JqAmmOcBEKi8NTp5NQHvkWiYiIiIiIqI2JnImIrJOPuI8hyGxBFA59MWw6fFIS56DezBQGhERERER0X2DQR8iIiIiIiIiIjvUhtG7iIiIiIiIiIioo2LQh4iIiIiIiIjIDjHoQ0RERERERERkhxj0ISIiIiIiIiKyQwz6EBERERERERHZIQZ9iIiIiIiIiIjsEIM+RERERERERER2iEEfIiIiIiIiIiI7xKAPEREREREREZEdYtCHiIiIiIiIiMgOMehDRERERERERGSHGPQhIiIiIiIiIrJDDPoQEREREREREdkhBn2IiIiIiIiIiOwQgz5ERERERERERHaIQR8iIiIiIiIiIjvEoA8RERERERERkR1i0IeIiIiIiIiIyA4x6ENEREREREREZIcY9CEiIiIiIiIiskMM+hARERERERER2SEGfTqR/DhPdOnSRZqGv3dFWdtW+YjzlI/ZpUsoUpW1sqa2EVE9ugtIifaDm2NX+Znp6gi3BX9RNnZkxueczzgRERERkb1h0KeT6tOvv7JERPec7jTihnhj7rYcXKvWy+v01ejd7yl5mYiIiIiI6B5oRdDHtPVHF4zbUKmsb+DEQvRR9unSxRNx+cr6Bq68N7z2WL3nHVXW2rNUhNaWS4OpuxMe8R6P2HVfokyn7G4L+avgq7Q+6OrohsidFu5ZS7THMa2mw63cdMSF+8HdqXu9Muzq2FMow2DEpReiWtnb9ozPgOV6bcrYQsvTmp2tUbkTka7CdXd1hO8qGx3zHspf5QvHrl3Q3TUSd7Ua2VBxUgySLugBp0AknalEjcEAg7YEe+a2IDiru4Xc9DiE+7nDqXtdne7u9Ai8x8di3ZdlQs0nIiIiIiKyXiuCPkMRNKGXsgyc+OyQslRf/r4slCvLQAmy9hUry6Yq8X9ZucqyIyb+MlBZbinTQFRTL+KmAZcO2JVBdxsVRcewcWkABvSZhA0XLL3iqdCtm7J4v6k4jLixffDw8Cgk7slB6e36ZaSvvimUYRYSo3zgMvANnFLWU2dlfGY7ctejK9j1SS70wt+wGX/6C5b4OkMtrnZwh3tvaYdmVX8Vj7F9HsbwqETsySmFabXW3a5A0bGNWBrQDw/6LESWTSPCRERERERkz1rVvSvwlxOF1xuZ/vjnaNw+5woOHC5RlmUFe3cJaxvQZeLgCWVZFYigScryfSME28UWAcJUU1mGk2mx8O+pkrbobxzGouC3YD5+9RgGPqksWmPoSuRqf5Z+52dtGdIjXJQNbdAex2xORSrCBgUh8cQN4QVboHZHkCYNZypr6spwXzxmj+gLB5UK3i/NxSjpi3bGJQLp5cI1/6xF7sqhysrOa+jKXGh/Fu5feTruRjWyvUrcqhLnY/FciBTuaZGK1DD0D1iJEzf0UPX0R2zyZyis0Ep12mCoQWXZSaRpguAuHFpX+BGCBz/XRECYiIiIiIioTuty+kwKQqAcmwCuH0FWw8hE5f+htgGPUW4W/q9h141DWTiqpL9QTf41ZrT8fcluqJ37YlTkBhwvSsYkY0St5CMk7leW73v5eHNcNPYKL8YilVcMDl0twYGESPg6yxVHKsNfvYWtp8ugra7Gydc9pfVEd0c3qFv6Nyz/TYyL3osbehXcInei9Pvj2PDyM/Du5aDsoIZz31GITDiAksoTWOwl/OGtOopFwctwmnEfIiIiIiJqRuuCPuoQTPZXllGCwwfqt+GpTNuFbGW5Vy9jV7ATOJhZ/y0lP/sktMqy/+QQuUvE/a73TESMVZaF0rlaai7JSbf7rntX5abXsFbMmSJyCsHWY5sxsamuM8LbN+sTdWyV2PTaWojV2nFSMnLSZsCtqUrrMAbrjm1FiJOwXLIec9aa6zJLRERERERUp3VBH7jgV0G+yjJw9vgxkwSjOmTW9tkKwIp1xq5gehz9c6bJfqZdwHwR9Ctjv45qFKbHIdi7p5TctV4y0+A4pBeapuc15vIZhsTa3mQlSBxW971QKRGIMS/ILGRK+4gyMUvZp2EeIN2FFET7udX7fTFZsV94/F3Pp/HvDsZmP6Yex5MDCpFsOjy0MHV3codf7C4zSaBNcx7ZKjdKU8c02eYwBKHB3vUS04rJlt39opFc7142pRgfbjwqd+kS+Cz5PWZamSulYzOWk1h+FTgcHw4/N0d0lcqpKxzdAhF3uELZt77UUHEf03p7Agv7iOv6YKHx8WvoynsYLh67z0Jh7/qqC9MRZ3qfujvBPXAhPjHbjUh5njzjkF+RgeiBxnPujsCNf1f2EdMvxQvPsRO6S9vE+umN8bHJaHTb8+PgKe4jP6yKhs+smedVl4GIB8TPVlzzAxHIsPLRrS5MFp5/k2TKXR3R0zsY8VkNEykbz9H498fy3xSzij/ERqmpow80G+fAqirdeya2rw2E2NCyYNP6BvfR5L4oa+pJDZXPrV45N61xPTNlvP6OnG+JiIiIiOj+1sqgD9A/eCI8lGX90SzUpXM+hCxjny3fIPxqRl1XMG3m7rr9TLuAeUxEsDTIzR18Ms0VPlGJyCq6CePIxyIpmWlWIqKGDcebzb1MtUXxexjtPRfbcq7V+3199TXk7FmJ4AnxKFLWtYuKZGz9TFmGK5540tw//X+J1/oPwzzT4aEFutulyNkYgcERO9FhBkH6RwEys4rqJaYVky2X5mzDvGFeiMowH9So58ou7C1QluGLF6LtrdvWDewIHYhJK/cg51q1EtzSo/raF0icJNzno9ZEK/yxeL6PMC/Hp+nmIyDFWz+G+Mj5zF8s7G2kQ1lKGPoPi0Ki6X3S3UbpFx9hhvcQxFnqR6TPw/Jx07HtW+M5u2L4yEelJd3+KAyctFJ4jm/XBkp0t4twbOM8jI7aiZ+UdW2iDsOr0a7CQvPX7Br9KsKabfqlw4UNT6OPzzzh+TdJpqyvxs2iLKwMHoA+YWJ4zjYqs45Aqta+L6AlVdplziw8Ky6UH8GBdv1jREREREREnV2rgz4YGoTaQby0x/H5aWV5/8fYp/TZ8pk6A/1Nu4JpD+PPStZnXebB2n+l7jUhCHI62gcxfU85CjbPxnOzk/BZYQW0YjJTbQn2xnhJ/7oN/QW8X5voZigSisVkp3nQGCNQ8IAmT06OLE77Z4rrZmK/9Hk7QqR9RHVJlA2GYiQo+XDzk/8HuUocxeOlA7haIyYIvojPkjV48blpWJO6AoPkzTalu3UNp9IXYuyg15Ct/L7KdxEW172dm6jCDTG3jdod4ZsLhDLSomRzCMReH9LWvR8hrSMNfe3kjdmbT6JCW4PKi3uhGamcqb4M6S8txv7mYholpShTFtHrPzCmBaNgdw4nkZlZBaeRGuy9KA/3XVN5BmsDxFZe5Uj7o/kR8hryjH4BYvu78q2/N9OqpRhpu8UQQ/2gme70W5gQsxc3HhgJzd5C4R7Jz4RY5/dqRsJJeN4SIywkFL98CJnfOWNi0hlUCs+JQVuE1X7iBh12bdop1FJHBKxVtgnH1FacRFqsBps2R+AB6QBNafjMmn9e/RfPhxTqavKafTDf/INUj+70MgQvOiqctxNGavbiYm2CcOH5T5oKN5UeN/ZGY1xt1Nl4jsa/P+bP0ZL8gr9J817/MQYtqtLqERgm/d4F5J2R1hAREREREZnV+qAPAvHLicauR5dx9LCc1+fonw8reXo8EDRFfLl0QdSMAGkNcB1HlKzPJ7K/VloHNByq3QGDY7bi4NYleMa7l/BJXOWOKQum4DFpO6D9saJBNwvbKThn7CfWCxNeDJJybKidn8AzLydg28HdeN3Plpli6rqDdHdxw+ioj6QRfEQqt0h8cvB1WGwA4CS8YF4twScxg4UycoB7zLuYVxv4uoarjYZKu1dGI+liIbbGjEIvBzWcn5iChOy9iBEbaIiqdiIppZkIVdk1oeYoHnQWapS9UcEr5hAunkrAlCfk4b7Vzr6Ii48SaqFQ36+WWtdyq/98xIjN6rSZ2NEgfxZOrMemAuGXAmMwvzbCUImU/07CBb0rYvZmI2GKt3CP5C1inZ+SkI0NIcLxSv6EjY2H6BM4IWRrEQ4t8YWUS9tBrImi8yg4L9bj4ZgRo2wTOPQahcgNCbbtmue5CDHin5cmrhk+4YhqtiWNDrve/gDi0++x+AiyE6bgidoE4cLzvyQDF7JegqvwV+vC2tewyQZB1bJrcq1+0Nn+ajQREREREXUMbQj6iIN4ybklRLlZ/ye8QuYj64jyet5rAoKUf+l2+VWQ1AJBVJK1D8Wm+5kdql3O6zN7vDceceou56EYlii9kEm+uyC8VraPcWONZ3odW8LHYmF6Lm61V4SpHhUcHuqNQeNehCbtDH4sTkNYEy/HHvPebfDyPBQ+TymLHUpP9G54HepALJhV2zkQ32QfV5YtcOsrBT8kP5ThqrJoPybjzc0TG+d0cXHGg+L82lVYF8NzwZxXpsERWuz5IKVeoOhE+qcoF7ZMe2WOSdDsEP4iNSsrR/LTynNWb+qOWZni9uu4VtvUysRjc/C22QjOUASMFgPC2Vg6YjrWfX5JeKLbiwuiIsW/Q5auWYXABYssB09rGbul+uI/X/MzmwTcYWIS3hADTPps7G8YYGoFt75yrb5zywYRJCIiIiIiIjPaFPRRh0yuyw1y4jMcKt6HLCUy0yvsBdS23+kfjInGd/yCvdh1/ABqczj7T0aI6RtWRQai+vWQ8vr877EiVJgmg7kL+i9Nxhr/nlIwS3/jBD6KGg4XB0cMFJNI596ycQsj0+4gP0N74wec+2IbEiLrWkfYq6EmESpt1S1lyYKhPnhSWYT2PAo6TCumlul2F4ZcU4e9CjHNjT57J3bWxhL246Ot5YBjCH5t+rAVFUBqkNNaqm6wdEWh67djtrsauku7sfRZDzh2d4Vf9Dp8fsn24R+XOa9gmmPDaz6KbbvEa56GV+ZY0ZLmilAWYhPFJrsPumC0n9jeUI/zBW0POw/1kWv19W++sjKop9AV4NxlccELw4ZLa4iIiIiIiMxqU9AHLr9C7SBe+uPY/upeOTFpoy5bQxFUmwAoFx//Rk6uKvIN+pVJy4N8vDluOtLL5DdRldtUJH2m5BnJ09Qmjm5Xaj+8fvx7/HgmDZqgQeghviPrq/GtmER6+MM2TeRKVjKtZ2L92Xqvh6o2DplfgnNyhW9S5a070vzxJ9sjG1RD/oh8Xoz6HMXGD+Vy0mVsl/JsWUxm7BiJP9cGH81Pcm6sFugdhq0llSj5LAmzR/SFg/7vyNm2FM96uMDnzdO2DZ4aEzoL15y8SQmf7P8j0q6Lca5f1w8qW/KTVm6NVP1Tk0mmu3Uztm1sO5egCVI+IuR+jJZU6cqULTgo/ol0nYDgu1GliIiIiIio02pb0Af9MWOq9NoiuI7MTCWU4xiC8AZdtgJfCKvtolNQYHxT9sBEedgu2f5EvH9BaXrgGoMjxRlY8kxdnpG7Rw1n30gkHDiHqjuVOLM5HO7Si6OYyHU+Flk79jNZdDT7a2UJ6NXXTVmypD/mx9R1JSxIXICUexp5G4TRI+R8Vkf/nNFMAOMEdv9Z7Mr4GAbWNldqX8bkxgW701As5qrZsgda4Vmb9XKDZMaDfPCUWKjaApxplziaA9yfWYKtp8ugvV2CvRp/9FTpUPjuHKy18e/5Rz4PMU1U7sdbpWvO2L5PuGZXRL8aZrarViODRkO6pU2WRSWyvxKbKKrwlC36UnouwgJpaMMCJC5IsS6YrNuPhcuOSvnQ6o/CRkRERERE1Fgbgz7Ce8uUoEYtcFSBv2z8r+vCutq8z0YmeX8kt6qUJNCC4QEINDlG9fflkNtL3GVqZ/jGfIKM14xXqcXpk+2VUeg+UZGC98RmGBJHPF07vJtlLvPfxzIvJeyjPYSYEVHYVWY53KK7lYvPT7ZfZGhSeIhw5sKp7Hkdb1ka0hw6nI6bg03lwqJrKMKlka3uAmMwoWAT1h9IwRaxWYjPbMQ0Gk1qEp4LkIMO697IsJB3RwedLWKcYjL2hON4f7L4oQBffyWttR3/xZBGrC/YhuTTYlJn4S+Jxyw0jHNZNglBSgBmU+JRs4E83el3sD5bWFAFINSq5kPNccH895dBrNbaQzEYEbULTVRp4bk5jHlDpiK9Slj2WIyUZRYyFV0+h4KGx9GdRtzqg8qHlrqMc40PKNTt1WjtEYmIiIiI6O5oc9Cn3tDtCv/JIWb+dd34UlXHceIv6/L+iEwT9h5cjSVfVQsv799iX9xY9P/l9roRnBoxdrcR/YC8nApUX/ocO9bH4YO/mr6sCPvVnsJ5nDldjVu5/4f/eSce/6v8637FhnHo7ugGv/B47JPyj+iEfZLxdrqUREOgwpDhyttz5U5Mf7irlPS2u5M3Xt7PhKyNHcTrE41lWY3rp5IRNiIGh5TonsrrNbxhts9RQ0Ox+thWTO0p30B9WToiPB9D4MJ05CqZtuVh7+MQPNARDi7D8ewvwrHBGPepSMV0VzlZcVfh/k5PNW7IxyqfuvWBvzM7OHkj6rA38Jr4ti4OaT72SUxf9znOXTeGTYQ68+3nWDf9SYxNvAC9UGcC3lhxF1tlGBM6lyP1xTeRrbeUzFjY77evSEHbql3T4RW2Dp9/q+St0t3CtVPpiAt+Eo+9tN9sEMQyHY4u9MXQ6GScqi2TalzaF4cPvxSXW5KLxvjMnscp4e+B/Dzuw+FGrXE8sWiB2BqsBNunvYY9Qv3ymR0j1BprqTHzXTkAU548AZ5hJudefR2nkqfjybHrhaOr4LX0t7AmTZBVhq7Gsa1T0VOlR1l6BDwfC8TC9FO4Vps9Xrjea6eQHhcMj36TkCy2hHQKxIcH1qLxQIJukHJD6w9i9bJjSgJ6udzH9hmNRGMryhaQk03rhT/Hy3BMOafqS/sQN7YPRkt1m4iIiIiIOjSDDfw50tEgHkqeAgwf3lQ2NHDzD4EG4Z1K2U9lCNleo2wxyjMs91KZHMvC5KER9qzveKyr2X1VgX8w1J3OTcMfAs0f3zX2uLD9W8O7w5r+fZXX8rrf3h5Sf7vvGsNlZZNl2w0htd8JET5ZL0/jUftbHpqGJSCejvG4Hob6m/MMGg9Lv9ne2yxPqp5TDdt/UL5irR8OGTT+PU3qkaVJZejpv8pwQqt8r+G9Gvy2cLcFeRqDh+l6x0jDn6UvWOGHTw2z3dX1j9toUhsGxx4ymL9MYzlZqAfGczNT3+V73fA+m/qzIdJROQdVoOEPFp5Jg6HG8LcPJxp6qpR9zUwq96WGk8reMqUOmzkvyZ19hhd6Nj6OcXKausPkmRQYrzPEXCmYf2bl57WBGuG8jNfR5DVb9sP2qU2UhVCnpm43cy+buY9W+OGQxuDfs/m/ferBsYYDVxv+3ayTt9zLwrMh1EN/X4OjuNyonJs4/7zlBi8L5aEe7G/wlepY66+biIiIiIjaV9tb+ghMh26HbxB+ZeFfwV0ippm0dvDH5EZdJIZi9Zls/C7oCTjUHlAcynwARiyIhNQTRXTnVr2hmUX+6/6KLeFK4mWJ8L2+IzDzhV+gu7JG6k6xMwua8X1Njq9Gj0FBmB/SHzo8jjdOlSI7aTZG9HWouyaVAx4aMALTVh1A6dnVda0HJk2uOydRVePzIle4D+ph0vJLKO/egxCkSUPelYwGw85bofdEJEiJtjdjwbhB6F13wyXqHuKw9wuQlF2K74+vwBhjPqhJv0b4o/K+Koe+CI/7jXC3BU8FYYKYDMZIW4VmxhKroyQrLkjTIGhQb5O6p5xHkAZpBcL2DWaGY293oYgVkxsLHKe90kTLFDW8Fh7ClTw5cflDtQ+GcJ+EOj87KRulf/sdRilrrfLAr5B+pQBpmiAMqi0U+XmcvbkA32dEmCRvb07DZ1Y4zhPG57UB9QzMFYfxEqgmz21Va5zeMzNqy6Lu1IXnX/gboUnLw5WMme1yL3tPTMDx73/EGaEuTRsxwOQ+mNbpq7hTsAFBbvXrvKmhq48ha5VpuYvfH4TwLWeRs3EiHhFX3G7B3ymxJVLWKqF+mzzD6h4YFL4FZ3M2YqJ8QHDUeSIiIiKijqmLGPlRlqkVxO5gfRZly90cJm1BzV/mmAQ47lf5iPMchkRpWH5xWPr9aOngT3eT7ug8DHg6GWLqHTy2GN+UrsPdSr9DtqRDRsRDeH4XMOPTm9hpVbdBIiIiIiIi+2WTlj73s96Dn8JD0pIKgWFWjhREHYp6qI/c6kfgGhrOgE9nVZmCD8RkPq7ReJUBHyIiIiIiIgZ92io/64icYNpxGl6xWXZXupt0mQdxQlrywfzFHAS7c9Lh9Du/xVG9OGjXyxzKnIiIiIiISMCgT1tUZ2DNZrEPkwoBaz8EGxd0QrrzWLvuoNQ9zzXmA1gaBZs6MN0t5K57DhPWC8+iYwhWLbN+zC4iIiIiIiJ7xpw+1A46V04f6qTy4+A5LBFSNZM4IWT7RexvcXZwIiIiIiIi+8SWPkTUORWcUwI+8gh8qw4x4ENERERERGSKLX2IiIiIiIiIiOwQW/oQEREREREREdkhBn2IiIiIiIiIiOwQgz5ERERERERERHaIQR8iIiIiIiIiIjvEoA8RERERERERkR1i0IeIiIiIiIiIyA4x6ENEREREREREZIcY9CEiIiIiIiIiskMM+hARERERERER2SEGfYiIiIiIiIiI7BCDPkREREREREREdohBHyIiIiIiIiIiO8SgDxERERERERGRHWLQh4iIiIiIiIjIDjHoQ0RERERERERkhxj0ISIiIiIiIiKyQwz6EBERERERERHZIQZ9iIiIiIiIiIjsEIM+RERERERERER2iEEfIiIiIiIiIiI71MGDPvmI8+yCLl1CkaqsaVZ+HDy7CN8JtfobZIX8OE/hPngiLl9ZcT9jHSMiIiIiIqJOoPVBH+OLb72pKxx7emN8bDIKq5X9OgQd9kc/jK7C+T0cvV/4dO/p9kfj4a5d0PXhaOzvCCdk91IRKtZRzzh09LiVriwL8cHecOouP1ddHXvCe/o6fFlmm4pSXZiMaD83OAr1Tzx+dyd3BC5Mb/qZrS5EcrQf3By7KufkBr/oFFywcErV18/h8x3rETd7PLwfcUJ3a8u+4iTWmfxOl66O6Ok9Heu+LOsQzy0REREREVFnYuOWPnpU3yzCsY3z4OPigzdPd6DXtG7doBL+E2Z3R7OtQbqhmwpQ3bUT6gDYQqZZFRlR8BwQjJVZRbitPD766pso2r0UAYMD8Ls2Rax0OP3eKPTxmYdtOddQrVfW3i7FFx9FYZhXNPZXyuvq0Z1G3PBhmLctB9eUL+mrryFn21x4D4lDo8f8ynv4Re/BePaFJUj832MoqrhtVcBGd/o9jBo4BktNfkf4Idws2o2lAYPxfGqFvI6IiIiIiIis0vagT8h2GAwGeaqpRNnJNMSOdBLe4Arx7q8W4WiHiPuoEfrHctQYalD+x1Dh072nDv0jymsMqCn/I0I7wgnRvff3jZjx63SUO/tDs/ciKoX6YRDqbOWZzZjqpgKqvsay1zbBXFzGKl++hl++8TX+4R6OzScroJWeWy1K9mogPrL6sm2IeeuEsrORDvtfmoDEC3qo3KZi85lK4TkyQFuyFzFeKugvJGLCSw1az/UfA3/3hzBo3IvQJH+GworNCFE2WXYFH8S+ha+rVOg5MQknK7Ty3xRtCfZqRsIJVcicvxj7lb2JiIiIiIioebZt6aN2Rt9RkdiQfQSLPYTP5Wn44yF5ExE149EF2LV/L7KvHEfClCfgLAUD1XD2jUHG0RXwET7pj+5Hpri6NX7xPv584ACK//YJYkb1goO00gHuUxKQ/acZcBQ+lWftq98FqzIZielVgCoA7+dkIMbXWQqaOrhPweZjyZgkfKkq/Q2sLZZ3lwViQ8kNnPtiGxJefgbeveRfatoxHP1aD/Sai92HlmCU8TsO7piScBCrA4Rl7UlkM6cUERERERGR1donkbPaD7PDxaiPFldL69olpIaKOUTMJ2VuLlFwxeF4BHsruUG6dIeTdzDiD7egu0dqqJQjxGzPIl0ZsuKD4e3UvTaPiJtfNFIaJCxpmGulS3cneAfHo/5pKLljhiWiRPyYOUveV5g8612csp/ZE6pGYXI0/Nwc0VX6rpwrKTg+C+bSutSWq+4CUqL94G5yHQOnW867YlaD3C3SNU5PxjkL+V5sWyYiHS58shCB7ib32j0QcVkNcrro/opXPYTr7O6KyJ2tbvtS2+Ws8XmImrpHpooRP0Q81yGIrxf8MNIJ90gszz5Y2LAhTQO9J07BGHMxEs9xGNNLWW41NfyCguBmpmWZOjAAw5VlU5Vpu5AtzB2nLUZMb3ldrd5z8HqUeFIF2Lvriryu1ZzhJEadqm+hslF9vYmbt4SZ6in4PCWvISIiIiIioua1T9BH8K9/yTk5/t1BfJNrq0wsnbQSWUXG3CA63C7KwspJAxHa1jwfFRmI8hyA4JVZKKpLooJrOdsw1/s/sPpbedVPf3m5Ua4V6G6jKGslJg2bZ8NubBXIiPLCsHnbkHOtGkoGFSlXUtbKYHiOeLNxDhXJeawe4o2523JQanId3+6ei1ERO63rElSRirD+9XO3SNe4ex6iNkjhmnpsXybitXvCe8ZH+KLU5F6XfoHE4AY5Xf68EZsuCXvo/o6Pt7e67YuNeCIqXGyHU4DdaWaiPrpd2HFQKE+f+Vjsr6xrKV0JSq8Lc0cnOMtrbKu4BFLYxskZLtIK2fGvzkjzsc+FmO0WGfjLiVILobNffyWvaLVQaF7zgkq7Cy8FxOMrY5BRdwEbJo1CfIEKXsvexUx2hSQiIiIiIrJa+wR9dKeRvu+ysNALAzxs8ZamgtvUJHxWIuf5qKk8g7TowcJLaBUyoyfjPbOtK6xRidQ5s5BepofTSA32XpTzlYi5ic5sDscTz7yMmCfkPR/wHY+hvdwRvvkkKrRiLpS6vCYo34LfZ8j7ATOxXzxGngZiWyfTnEfFCUOlPZpSmToHs9LLoHcaaZLXRYuSz+IxsacKusJ3G+dQkZTgwgWg58R4pZxqUPnFYoinV7X3I6Q1G/URy2I+9t7QQz04GmlK7hapLNJi4S/8dkO2LhPjtasGx9bdi9qcM2JOlzlINV7HLxdgvrtQt9SP4oVZzWeMaW+e0S/AV5gX7E5Dw+qo27UDYszH94VoeCrrWqpy16c4LsxVgUGYJK+yqfxP9kF8Yj0mBqO/vEqgQ8WPWmHugWEjLDzH/dzwiDDTny9Akbym1YauPoZPIt3w09cr4e/iisDwYHg8+CQWfQ6MWpWNM6ubf36IiIiIiIiojm2DPrpbuHYqHQsDJmB9ifCC6hWDBYHKtjaZjPcyluAZd7nfi9rZF5F/ysGeSDH7bC7+J7mViT6KP0RipvBS6xqDvdkJmPKEnK9EzE3kG/MJLh5aiNoeLb1nYn95CT6JGYW6dCNT8KHmWWFJj/MFbX3lFRXjw8RMaOGKmL3ZJnldHOD+zFs4VGTMobICSY1606jgtTgbVw69pZSTGs7j1kI6PVzD1eZ63xjLwikSe3L+hEgld4tUFpEbsHHuY9Ju9di0TJRrd5yBHTkb6u6FknPmoJjURXsQOzKVcJf6afy+pAaGmnKkR5i2TblH+s/HHDHvTME21K+OOmT++Sj0qkDEzK8Lp7SI7jTeWSnXi7n/NUMpFxuqSIHmI/GBDcDipaaBlfO48J2yaMlQH0g9rv71L/xLWtEWvRGWVozST36NPrq/44s9WbikGoblx6/g+IoxSg4iIiIiIiIislbbgz4m+Vm6dHeB2+gofPR1FeAUiPf3rUD7/du8GqEvR0DMKFLyVXarRjSqzDqCAmH+2K9fRmAr36TVannI9X8JL71tVpmFI/IJ4WVzJ1SbQyUXWf/X8Ion4811DV+M1RgxTGpb0yxjWfSKeLnNo4m1qkyM167dheeN+YFMpocWiZllxEDSeWn3jscFUZGBUKEEu9NNoj66TOzI1EIVEIHWxaZ0OP3WTHxQIsbjkvFhayuqRRVInbMEh7Qq+L7zJyxsmLfnrtKhbFcMxkXtwPdqd4wY0hOqf+Th3bH9MTbusHCmRERERERE1BI27t6lRo/egxCkSUPB93/FQi+bt0moz3+U1KUG167K+Uha6MrVa9J88HA/ad68ahSmxyHczx2PGJMlz7JhPpkrVyGd0eDhsHRGgQEjpfm1ZpvutIyxLEYGtLRplo3KxHjtnZjLnLmYrAJKdqfXjoCly9yBTK0jpr0yp16uHGtVpD6PCYkXAC8Njvwp1MatfHQ4HTcO0ZlVcArZioOvN+x89hS8HlcWLckvgBSG69YNcqiv9fJ/F4DBEdtwc9gqnKgswen8H3G7YDOmut7CicQgjIj9q3DGREREREREZK22B31M8rOIeWSqfjiHAwmRGHw3+mJoq/EPZbHdVRzGQh8X+EQlYk9OKSpqMxffx9qjTCZtUXL5mJ+syYt0z6hnYO40RzHqA7mxjw6ZO8Qua1MwK6zl4Rrd6TiMi87ET26R+ORYAvxsHEM1BpQeGLkGRz6dWdeVsZYaHgOktnTIy7Fwb6+W4QdhpnrKB4PkNa1T/B5eWvY1qjwW40j2itoRzBwGxyCj+CQWe+hRtjEKS5oZ/YyIiIiIiIjqtE8i57tEdzQb4thCqiHDW9WNrH+/vtL86+yj0twyHTIWheGjQh2cvGcj6bNClFXWyIGI7TZMIty/H6QzKjyD09KKxo5mfy3N+/ZrZX4YC1ycnaT5+QJr8yPZuEyM1557Cp33vV6NkF+HwLG2i9ch7M7UwjU6FqHyDlbTnX4TI8Ym4jvnqdiak4YwG3e7qkgNw6DoTPxj8HIcyX7dYkDJP2AkxBTex/+SabaVzdE/H4aY6nnIyDHyila6susT5OoBj/DZjc9F7Ye3FosJk8qRtc/a+klERERERET3IOhTiDMNIxoVqVi+ufGQ4E3SncZbr+8RXjhVCHiudeMZuQRNgDjQ9vWdv8fOJpMCyS/vwCSsO7MVS57xRl85w7JtuQRhgnhCl1PwrrkTEsrpdzvFcbt9EfQr2yYv7j/eH67CvGT3NjNDwutQcf2Osmxk4zIxXvv1NLyXcvezt5Tk5TQIaohdn1bjoPLJWuqwWZgiNfZJR/7+j7FP64FZL7dsnHY54PMuzrvHIKsoAzPbJeCzFz8HfIizOaubbEGkDglFgArQ7lmP5Ia3pSIF76WJ9dEHU2fYJgh553qFmeCScC/O/E1a6tatrZ3IiIiIiIiI7h93Nejj1lfsKnIZKW8n41K1sKi7hdz0l+DTbxYyq6RdLPgHrl+7pbwMVuP6qWRMf3IsEi/oofJahvfntzIA4rkImhBxOKy9iBoShuRc5Teqr+PcvjiMHfumkpvlATwgdTf5Dl9+Vla7z6n0hRi1sJn8NedP4SvxWqsv4bOvmhtb3hOLlk+FE6qwN2oIwpJzcUv+Memaw0ZES+XkFBmPpbZt6AP4L8YiXzEhzXpMeO4dfC7dIPEyTyF5+pMI/ZP4cm/K1mUiXLtGbCWjxaGYEcK1n8J1+RSkc0hfGAi3SRvqkvnq/opXPbqjS3dXRDYdsWuasYXRZ4lYdky+/9WXPsc7k/pgdOIF6MVtLRKK2GhXMeqDl1bsg9ZnNmJa0Ayt4vA8DBn9Lq4OW4OTZzdjYnMBn/xV8OneBV0fDkNqs7EyHS5seBoDZ/0Z/x7xKS7+dSGaTbvlMgcr5wrXo8/GayOikGasF5f2Yd64GBySBnxbg2WtHYte0X/GVDkA+6fpCIjbh2/lii/8ifgW++ICMF2qfx6YMr1NnciIiIiIiIjuL4bWytMYPISvI2S7ssIKecsNXirhO+L36k1OBi+vXsK8lyHmr8q+kjyDxsPc/vKkcos0fPqDsquRpfPaHiJ9p9Hp/vCpIdJN1ejY0qRyNyw9Ke92PNbV7D4qJyeDozD30OTJO9Y6boh1bbC/a6yw1mi7IURc1/iEDIdivAwq0++ZTOrByw3f1Ci7KraHiNtChCM2lqfxELZ5GBqdnhk132gs3B/hOlViGakMU3coOwtsXyY/GD6NdLN47XAKMmwtV3bdHW5QG9dbVQeV8vbQCLXK1E3DjqlOjX9LmFReXnJdCvhQ2MtEc3X/eKzBVTlGwIf1vtm0g/9p6Gmh/E0n05+9vMa3dr3X8nPKWvMuv+9fV2YWJzN1peYbg8bL/DOi8tI0qo/NPbe1U717UWP4RmO53gNqw+Dl3wh7ERERERERkbXubveuoatxLEuD8Y/WNS9QPzoemkMXcWi2m/DpOkpL5H/hlz2FRduSsGDcIPTuYfyOCg4PDULQqgMoLbZBrpPeYUgrPoddseMxwPgbKgf0HTEbm/MK8btR8ir/DXk4pBkP46mrHPpixOzNyPsqDgOFzz+UXZU31PLHuv9bg/F9HaScKMKFYvysEPQ3vTyzemPi5rMoPSCU04AetaM1qXvI11zcTHectlD7JeDsuS2YPaIvHKSTFn93AEYs2InS5MnCJz1uXK9rVWP7MumNsLRi4dpXIWiQ6bUL5yAct+D7A5j9qLLyl3H478HCHmp3/Of8tuRVckHEzlPYEv5E7TWL9/+J8C04d/Z3GO0ofL5SgubaaNXj/zJmiSPlqwIRGdWCVmjXy3GjhU2L+i+NR6ScjqlZld//XW6R1VJqPyScPYcts0egr1JItff6jK0STKvhlyDWe/HeP1R3L9Q9MEB4FpOyi5Gz2q+2ThAREREREVHzuoiRH2WZyH7pUvBc97k45KFBXnFCqxJ/W013FPMGPI20gE9xc2dYuwcqqpOfheO884g9/j02tCx9EBEREREREdmxTj16F5HVzhbigjjv1g3tnQq4OGkJtpQ7SiN53Y2WKV/nFAA+87GYAR8iIiIiIiIywaAP2TEddGJ/pupLSH47BZeFRccRo9FuqYDFxOTJYQh8Kxd6j1i8EXYXQj4VG7Biy4NYnLIMbcylTERERERERHaG3bvIjqUitMss1I4lpvLC8py/YbWt+3ZVbsC4hxYhW/ko/o7m5FkktFfyJSIiIiIiIiIrsKUP2a/vvscPUtxFBYe+46HJOmb7gI/oylVckxbU6DEoHJvzzjDgQ0RERERERPccW/oQEREREREREdkhtvQhIiIiIiIiIrJDDPoQEREREREREdkhBn2IiIiIiIiIiOwQgz5ERERERERERHaIQR8iIiIiIiIiIjvEoA8RERERERERkR1i0IeIiIiIiIiIyA4x6ENEREREREREZIcY9CEiIiIiIiIiskMM+hARERERERER2SEGfYiIiIiIiIiI7BCDPkREREREREREdohBHyIiIiIiIiIiO8SgDxERERERERGRHWLQh4iIiIiIiIjIDjHoQ0RERERERERkhxj0ISIiIiIiIiKyQwz6EBERERERERHZoQ4e9MlHnGcXdOkSilRlTbPy4+DZRfhOqNXfsEIrzoNsT7m3nnH5ygoiIiIiIiIisqT1QR9jcKXe1BWOPb0xPjYZhdXKfh2CDvujH0ZX4fwejt4vfLJ3xiBVg6m7Ex55RLw/7+D/cm/dB+VAREREREREdP+ycUsfPapvFuHYxnnwcfHBm6c7UFihWzeohP+E2f1LdxsVFeL9WYEpwx9Gn7FxyCpj6IeIiIiIiIjIHrU96BOyHQaDQZ5qKlF2Mg2xI50AXSHe/dUiHO0QMQU1Qv9YjhpDDcr/GCp8ul+EYLvx3oiTtgKlhZ8hWROEJxyAGycSETw4AO91pOAcEREREREREdmEbVv6qJ3Rd1QkNmQfwWIP4XN5Gv54SN5EHYBDLzzm/QxeTjiAi5Xn8GGgE1D1Nd6IWAbGfYiIiIiIiIjsS/skclb7YXa4GPXR4mpppbxOkBoq5pYxnww5P85T2OYJSzl6Kw7HI9jbCd2l/DTd4eQdjPjDFcpWK6SGSnltGuV31l1AynRvOHWX8950dXSDX3RTOYmqUZgcDT83R3RV8uR4T0/BBbNBEx0ufLIQge4m5+0eiLisskb5dGqv//QFbAhxrd0/cOPfpe3Ff5iIh7t2haPvKtgkjbHaCwv/ogTnSj7Af6fU3SehsBAq/r5QWBWHF8LXsatcNq4L8LkuAxEPCNseiECG2WtW8gl1fRqbag/ZoMzE3E9ufohOuWAhr1DD/cX7PR3J5zpUoigiIiIiIiKiDq19gj6Cf/1LL83/3cFRmrdNJpZOWomsottKkECH20VZWDlpIEJTWxD4aaQCGyZ4Y+7uItxWog/66mvI2TYPo6N24id5lYkb2BHWH8PmbUPOtWpIV6i7jaLdczHqpYYJoiuQEeUJ7xkf4YtSk/Mu/QKJwYPxvNnz1uNwzCgsOvB3ZX8neA16VJh/h9SNR3BDr0d13v8i3VaDV6n98NbiAGFBj+z9mQ3OX3BlHSYHfYS8avle6p8YBF91CH4dItxTbSZ2ZDb6BpCfjt0lgOO0VzDHRVxRhN+P7QMf0zITcz9dy8G2ud6YsKFhOVQgtWEZi+VWtBvzojZAODQRERERERERWaF9gj6600jfd1lY6IUBHrbIoKOC29QkfFailXLT1FSeQVr0YKhRhczoyXivWNmtpYo+wIZsPVRei/FFZY1y7IvYq9Fg0+YIPKDsVuckMvfeguvUzTgj7V+Dqwdi4KUCqnZuQYayl6gydQ5mpZdBNTgWey9WokbKq6NFyV4NRjoJ5z1/DlJNG9dILiM39yfhWjejQCvmSCrDh4Hi+scxc8EE9FSp4DDsRUQOlXa2CZeAMRAb++jPF+C8vKpOQS5yHxgJzYGr0vnXHImBi1DqYbOmwBFaZO5oHCjKT9+NEmHrlFlhSu6kxzH2F/3wqL+mrhxqKnEmKRBOYrBpwwcokvaTieU2f+8N6NWDEZ12BpU1YrnVoPJMGmL9ewo1gYiIiIiIiIisYdugj+4Wrp1Kx8KACVhfAqi8YrBAClq01WS8l7EEz7g7SJ/Uzr6I/FMO9kQ6Afpc/E9yK5u+VFbitjBzC47EOGc5RKF2fgJTEhIws7f0sQEVvDQnUZwRA19pfzXcgtZiob+wqD+LM7WnUYwPEzOhdZyBHTkbMOUJZyUA4gD3KQk4uDoA0B4021LGcVIycoTjDxYvVa1Wvgd4/uYwfvz5Z2hzV8KGMR9gqA+eEuc/lOGqtMKUBxYfyUZCkJt0HmrhfCShLyOql3AJe7ZgV71LKMa+LOHGu0YjNlRZJXzTL6EA5ccT6spB7QzfJb/FnMeE5e/OoUBcJ1HKDU6I3JODP0X6Qr4tajj7RmLDxrkQv0JEREREREREzWt70CdzlpTvRZq6u8BtdBQ++roKcArE+/tW2DZAUY8aoS9HoJewVPJVNho1mrFGPzeInacufzQD09d9jkvNpoyZjDcT/OTARS0XOPdQFo0qs3BEjGRod+F5JVeQ6fTQomxhox7nCxq2rXkMMe/Ogdl4U3vR6fAvcf7wI1JZ1DNpOdb61b9aWSBmz3AVLuEgdphGfYrTsFu4btfnIyHGwZrWDd3EZjv6f8m/LzKWW68IvBxq7neJiIiIiIiIyFo27t6lRo/egxCkSUPB93/FQq92fnH3HwVfcX7tKq5IK1qo/1IkrxkJJ90l7F76LDx6OGJgcBzSLWdxts6Vq7imLLaMCt26KYt3y9lCXBDn/+YAuR2ViW51LY0a8n95Fjygx8Edu2q7eBWn7UYBfDB/ceOQj67sS6yLHQ/vR3rCsasY/BqGxIYJeozlNjIANmkgRkRERERERHQfa3vQJ2S7lAtHnmpQ9cM5HEiIlLsntTdtNf6hLLaOGn6vn8L3JZ8hafYIPKqqxrdZiYjycYHPm6cbJzZuqUlblFw+5qfihPZrB2Wt4gNHIGVfGj8Bg+RV1hkag9k+YmOfHUoXr2Kkic18fF9AtKe0h0KHCxsmoc+AACzdeAxFFTeh5IUmIiIiIiIionbUPomc7xLd0WycEeaqIcPb1I3Mwf0ZLNl6GuV3KnFm81S4qXQofDcGSa1qPiTo3w99xXnuKZyQVnRQFal4dZ3Yn8oVM2a3tG2NJ6LCpaiP3MXryi7sLVAhMGY++it7SIrXYvqiw7gBN0zQpOFkaQW0UtArDxoxg7QpF2c4ifPzBbYZlp6IiIiIiIjoPnYPgj6FOHNaWTSqSMXyzS0cjFt3Gm+9vgdaqBDw3CRlZRuJCYZjMrB9rpgpqAq3WpUoSOAShAk+wvx6Gt5LacuQ8u2o4jDmjYtGpph+aep6vNN8Ep5GPKNfgK/Sxas47RPkqiZjrjxOe60ru/ZKiZofeyUDhxMiMeqxXo27kRn1Hw9/V2FeshvbTjduZ6WruI47yjIRERERERERNe2uBn3c+orBlMtIeTtZTpqsu4Xc9Jfg02+WFHyw7B+4fu2W0t2qGtdPJWP6k2OReEEcbn0Z3p9fP9BgNV0GoodOx7rPLwlHlVbgVu46rNp5XVh2gnMrDyu2glmkCZGGNT8UMwJhyadwXUkTVH39FNIXBsJt0ga0JBxU/IeJeLhrVzj6rmp9K5jq67h86v/wTvRQPNxnEpKl8tPgyM4ItOpS+89HTKAK+oPrMP3jXDhOm4sZDZIAPfigPPD9j6c/g5wqSSjjbz/HurBQJDWK8/lj8SJfqFCC9ROewzvG+yKc96nk6Xgy9E8Q7wwRERERERERNe+uBn0CF8TASwVUZc6Dh2MXabSv4VFbUahzgpeXGBC6Y6F1zedY4uaC7tLoV47oPXoedl/SQeUWiU+OrW511647H/8RH5/djaXPesBROnZ3uAxfiqNS65c4zK/XT6llXGamYHukG1T6MuydNxq9xesVfsOx92hEffQFrn19AFl/V3Zu1ndI3XgEN/R6VOf9L9KtjvpkYpYyYpg0OfbGgNFTsGLbWeFYariHb8G5swkwO0CXVVwQEREgXGMucgt6Ieo3YY0SP7tERSJQuOfa7GXwkcpAKOOBz2Lp3jt4QOrLVZ/n0mQslSrJUaww3hfhvEfP241LehXEAb8uX/ybvDMRERERERERWXR3u3cNXY1jWRqMf7QuNKB+dDw0hy7i0Gw34dN1lJaYdut5Cou2JWHBuEHo3cP4HRUcHhqEoFUHUFqchrA2jG/+4Oy9KM5OQvigHrXBCnUP8diHcDGjla1favVGWFoxSg+sQlC94w/AiNmbUfD9AcxuNEa6JY/jN3FT0VOlQk//3yCylVEulcND6D1oHF7UpOFM5R2UfDIHbR1gzWXOXEwWIzGuM2A2LZDLfPzl3BaEP+EgBWzE5Nk9BgVh1YFC/CnEUfj8Pa6a5k5S+yHh7DlsmT0CfR3kbwiFhgEjFmBnaTImCx/1N663boh+IiIiIiIiovtIF4M4jBRRa1VswLg+i3BrxXc4u6LesF1EREREREREdA916tG76F7TYf/iN/H/t3c/0FFVdx7AvzkPw1mGMmCaaCQKBDUtJECERaWNRAUKhC1RQ6gBmgg1uAZ3F+xO2ioVYkVJjXYLVUgXFjaEAiKE8s+iaDSCVP43gQqa8C/oElaG2CZnMzrn7n3/JvPnTTKTAML4/ZzzmMl9b96779375nB/c9+9Ve4UZE1hwIeIiIiIiIjoasKgD3VM8wlsKkzD1NWNsGU48ARjPkRERERERERXFT7eReGpnIm4e0tbZ9GyZ6Ds+BZM7cTYSkRERERERER06bGnD4Wn/qwe8FG6ofdIB7bVbGDAh4iIiIiIiOgqxJ4+REREREREREQRiD19iIiIiIiIiIgiEIM+REREREREREQRiEEfIiIiIiIiIqIIxKAPEREREREREVEEYtCHiIiIiIiIiCgCMehDRERERERERBSBGPQhIiIiIiIiIopADPoQEREREREREUUgBn2IiIiIiIiIiCIQgz5ERERERERERBGIQR8iIiIiIiIiogjEoA8RERERERERUQRi0IeIiIiIiIiIKAIx6ENEREREREREFIEY9CEiIiIiIiIiikAM+hARERERERERRSAGfYiIiIiIiIiIIlCHgz6rJkQhKqo/Cg8bCRSew4XoHxWF/ryAdI3Q7/kJWGX8fVW7XPfXqgnyGlx79+0lK7tr9PyJiIiIiL6p2NMnTLVFg2Sj5ybM2m0kGFwbJ6N7VBfcu8RppFwhtS/izq6yQdf1TrxYa6Rda1wbMbl7FLrcuwTeV6/5/BG8veZlFOaOxMAb7OgqG5tR/QvRbnOzuQalecOQYOuiNVC72BIwLG85jrmM9SGpxMw4taEcZAmaDxfqtxdh/EAjv1FdYR84HkVvNhjr2yHz/sdnCzBy4A2wq+UadQeeP22sM7ku4uyf/4j/lNuNHdYPMcZ5TgizRR+sLtNl0Mk66ap/H78vzMKwfjGwdZH1ovsUbDHWdYqrHu+/lIdhCTZ00eprF9hiBmJ80XbUh3W/EBERERHR1ejKBn2MX9+jgrZOV2GCuj6Uhv3XYjdeXlINJE7DoyOMJI0Ty3/7OpqUsZgxvZeRduV06aJA6dLF+Ova41z+W7zepGDsjOnwXL3Tz+P7ccm4/+E5KP7v93C04QuE1AZ17UPhHUMwc+V+nG12a0nu5rPYv3IGBg4qxL6QG7L1OHveeBuGhlUPInn8M9h+1MyvC18c3Y5nxtyOCavaCvw044Oi7+HbPVIw8Zev4L2jDfhC28Ff8OEH2gYeWx5JQMJdE/Go3O5P+0/ignGe4QlWl+mS60yddNVjXV4ivnVzGvKLX8f+kxeg7aJpP/Yc1TfpsIaNmNK/L9KeXIn9Z5th5AzNF45i+zPj0Tes+4WIiIiIiK5G7OkTjt2rseEzICU3H4ONJI1zLdZWuWF7aAayo420K6X/T7Gr6St81bQLP+1vpF1TnFi7tgpu20OY4X3xbrkbI/pdjwH3/BiO0p2oaViKDGNVcC5seWQUio+5oSRkYukBJ1qEQFNdBfKTFLiPFWPUI1tCCx6Z0hbhgtyH8F9qF/rWAVXt8xibtxWNsGO4owJ1TXK7FicOlKTLlEZszRuL5y17YzVg1QO3IO2Z3fgcMRj0kAOlO2twsqFJHusrbJxsbGb43t0j0KPvUPzg8SJs2lOPd2cnGmvCEKwu0yXWiTrp2oenh/bH5JUn4Iruh3u08j6JemeLrBcf4VcDjO066MzmV7H1s54YIevqcW2fen09vrMI6XbIvJXguY3GxkREREREdE1i0CcMlSvX4TOkIGuKb3TFWb4alW4bMn6UgSsd87nmOcuxutINW8aPkOFz8dKxuO5zHHl3JRY+eh8GxnYz0tvgLEXx6kZAScNv9m9EfmpPrTy69ZuIpe+VYowNaFz9C7wQymNwzov4Qn3t0bO191E7KotfxkE3EJ9fgaqFE9FPzXJ0T6TO+RPeUgMz7oN47hcbAxr4tc+PRV7F51CSC7Dt5Kc4vH4hHr1vIPoEOedes3ag8cQ+vPG7ufjhnb1hv85YEYZgdZkusQ7XST1Y9FyNGzGjS1DtrMO7Wnn3Qe+el+Zb5uYZa3H800+xS9bV28x9yvp6231z8evpfeQfbnz5pZ5MRERERETXpksQ9PEbw6SLDQnphfAdwsR4bGtIMerUP7dO08a1UBd9QNDDKOyv/j0NW9X1dcUYYqz3eRTMHJx1znZsLxqPgfau+jbqMYflobSm2djQi+sYlk8aaIyPYo6lUQqfTWtfxehvd5HrUjE/6HNlW/D78vNA6sPI82knn8aS5VWAbSKmPWDVGGtGTan3mBnqGC+TUHrEIq8GV/12FI1vzXNUVzv6BTs/89qF8UhcePs3yk6WQ8Obs5BqjkkS/zjeNrbwnGM/cxwbiyXII32nlyxHFWyYOO2BTgfMnOXr5L5kUTw0G/lxeppH3HT8fEqsfFONinX+g+RYOH0GZ+WLcl2oEZVK/GGj+jxYCh5zpPudSzSGzZ2NNPmuaet67NATdc4l+Mncg3Dbc/D6/sUYl9DZqxCKYHVZ518/1HsmvXA7zloFADwDJu/DscUZiDc+0zX9FfyPMVZTVPfJ2GjZlcWou13uRetQWP73SxfYEoYhb/kx694wHbi/PNrNXy2KBgVZ/+VxLA9hjJ4O18ndc5C/uhFK6rP48445SA4h5qkKq+zQC3FxFvWt+QOs3HRKVv50TGi/e53Gte9ppKjH7DkByzkYEBERERHR1UN0UFkGBNBHjMlMFrLZIN/7LkrqAvGJsa3cWsi2Q8A26pLoOCTXHxKOROv1yCjTd6E65BCJMk1RFOttlSTh2NtibKw6JxalWW9ry1wj/mZs9fG8ZE+6np9ALRuyhQ2KSH/1gpFi+GS+SJGfiy/YZSR4OyfKMmOEYuzbavE/XsveBWK43XpbKDEis+ycsaXJuHaJDvmufeHv3yi7lFSRqnhtm7ZI6Fei/XPUFu9y9PhEzE+R6+ILhNXV82Xko43z3Jxj0441Zpl3HfCyOUeWoaw/suzbZdS1YPUhwKkFIlXNX5/ZYq+R5OuUWJCqXosk8dQRI0k6tSBVy/NdJf7XPXSHHInaPiwvsYWgdVlq2fuUSI5W8xlsyZAl4cW4Tn1SU4Xda7vY/HfkyhaxIVstE5vI3mBRJsZnbdkb5JaqI+I3I+yeffguikhb5H+Nwr+//O0qiJfbBcmfcW+35k8qywg4hveiJDmE91dQR+uk/rlY8ciOIJ+zEHbZ+WgSDSf3iE1FuWJQjPzOjE4WBTss6qRx/j7X9Zy8N9XvFPtwscDn+5eIiIiIiL5unezpcwo7KmrwD8MdqKhTxx8RaKou0ceDOLgS/+UZaHQqtqjjRRxyQDbyZNujTB8/Qi61C9URRQZjYa36d5k+bkuiA7JJoW+zZaqa4sPtBhIyS7DTPGbDHpSMjoHiPobiH86BZzKio7/F4io3lKTZeNcYs6LFeRwVDgeWLJ2M7sZmt059HKNiFCjdhuDHOVYjnLiwbpk6UHMaJk/uZaTpDpeuRDXi8WBO4Gi4zlXT8VjF53BHJyOv/ACcLeo5tcB5oBwFI2R+je1aHcbcyb/Ah42KPL+l2KON6aLm+QDK85IR7f4cFUHHhQlFJ/ZffRAHuw+HY9sZbUySlrfy9ceedhfBoZ6jXa6rON56jsf1MUsAO3I2y2tvUY7y4mFlNRD/YA46P5awCw3/2yRfEzFkaJDeMjcn4Ab54v5rNdodA/dMPc7Jl7riIXpvk5gbMHBkLgpX18CyD0nDeVxQX5PvwDAtwd8tuPkm9fUTHJHnrHPij9sPytc0TBqz36eHRld7P6TPei3MGcdCEbwu6/XjOdS4FMSMLvLcX6KpDjtLstCvjU5Ipw4exN/VMWuq1c+0oH5RukyNxgPTJsKGJmxdszWgp87h1etR59PL61Z87/s348YR8vvkuD72TeuYSG5ULf6tT7mFf38FGpHzoLx7rfNXW75e3ttBeqHJ+l7gOWYT6nYWYbT8DvEdo6ejdbISm9+Un4t9AJPiVyBvWII+Y5cxs9akl/YgcEjwjpfd4cL+ct82xPW9CxMX7EDszArUOauxeLR/1yQLzR9gzj152Pr3JDjeqsLPh7VxICIiIiIiuvJkw6BD9J4+EPaMMuH/e/A7+bHauoCeB8Yv+9a9PlTt9OYwPh/7yI7WX95NLXvFbK23kE3kbDbS3n9cxMvt+8y27nsRsguvinQFQpH59j3uLlEQHyy/Ri8W2GV+LH79tuhJovfAkMdJWxRwTeVasXe23qPD5jlBVeg9fTq2f7OXVqKYbfEr/pGnkrTPpC0K7DVi9pQI1rNG72WRKELrTNNeTx+zt1hb+2u/t5BHGz06ovvlig3+F9Dcvo3uNoE9cjaLHJu6T0Uo3r2ovBb/niNWwurpE7Que9UPn156rfR73rqnD2xjxDKLjiHy20Dkx8r1ivyczwHD6eUl7+0+6j4yRWtNCv/+smbUm2D5s+XIUvJi1dPF9MkCvTecZ18drJNmrzFF1gv11WLx/97tUNkZzPrjvUT3yxLLPrK4rt7nL79zHUmKzKdVD0EiIiIiIroadLKnTyJmPjcV/r8H9+r5LePd5fGt2LjAX96jh+EnDyfJN03Yb85lfHMCbpQvp36XjUkvvY0TIQzzYcW5di2q3DY8NCPb97htzYDk3I631B4dsZPx6ITQfv3e/cY7MvfA/Xn5AdfUZ1yYNzejUk8MS6f2P+YpvGDxK378je33BnB/fh6eIVs8dmO1fvGQfzVOHzV1i95TQlta4Kyvwc6SXAyKUeA6sRKT7nkaoY6hFNxFNKoFIvW8swDlexrQZB7vQDmmGrM7/fCJyoBeKB0VtC5LZv0YMf0xhDu8c5/85zDdsiqkIzc7XlaCN7BmnddZ1JZjfci9vK7DdWq3HfeX8AxN04H7y9pg5OemBM1f7JRHMcFIalf/xzBdPRn3h6jydDfsAKesF+qrW8EtWSXYafZ6MnoUqT0pG7fmIWtxa3+fzpTd4IW1Wj1vajiJmp0lyB0UA/eJ9ZgxKA0vBu1V2IBVD6qzknVHxoqj2Di1/e8BIiIiIiK68iJq9q4B37lVe/3SnHLmlidRumA47K4TWP/k/UjsYcPt4wux2nLA4mCcKF9dCbctAz/ynV6q7RmQjIGAMTxNNntDU39WHQi4jUdBeqXh7kT5ev4s6vWUsHRq/9dFBwbapF7Z2UiTDfKqp8eicNPHuKi1m124+PEmzMwogtoujx90R+AMWJUrsU6N+WRNCbuRau27SNKLP7jD1fir+nrddQhvwqto9Ow9EPfNWYHDR1cgQ5vOuhSveEfGvnM71PmO2lJ9RB3GXFEP7yvxSezctRg5d8ZCH69XHi81B2Xv/Ua7tp+V/9538OcOC16XVWb9uDstoLTa1daA1yMenSb36sYba9Z5glf6o1MpeGx2YMjHVf8+XioYiYE3xBiPNQ1BsTYCvJcO3F/B9M97GKmW+YtHdm44e++Fu4apteA8zmo3UCfrZMYy1L02B/fdps/4BVk7+t03F3+qyJc5c6Nq+TKYwz93puxM3WL7YOB9c7Di8KfY40iC4voQ8yxmm9O8Pw//trUR6DMNT2Uz4ENEREREdLWK8CnbozHs53/Gp3U7UZI7FDcqzfh4ezGmpPRCytP7Qus9cXoJ9Mm5psF3cq62Z0D6xoibhfWv5SDh7x+iOPN29NLGpOmKXrdnovSYG0pCLkqfDWzYb/l9uWwap+LhS3bxopHYV50JqQ6H9gcpWWOcHuW7KRigp4Qvbip+Olk9jtmwN/RPxC3qa80B7NMS/J3GmU/V11sxMEVLaF9cGu5WYwhNf0V1CBOOtStoXb7MBudD70yzBnpnmlqUq91oAu4dF44tHoOb+qbhyVfew9GGC2h2G6sup1sew/Q0i/zFPwiLobra9Pcm74Dy5amT0elpuEN9c7wGf9FSLjX5vfmzWVoPrKZ9e/SglL/v/wfeUANDp17FI3ND/C4lIiIiIqIrLqKCPoer9eaJvafvr93d+t2HOSv24bO/OXFgaSYSFBdqnstHSQgN6doVf8BBxCOvwPchD9fGMmxqUpCe/5je2PfXqyfs6utfq0N+DCihdzsNRGcVPlB7PMT2RoKeEpbLtf+4jNnIuVWRLVfFM3hudI8BGOcox6FjKzDBv/OBayPKNjVBSc/HY5YXr2NGpA3Xjr/rT4GD8qoqN7+pPQIzaPjdekKHuOC8aNFTzOwldeotbLN6JMb5R2hjNtuG4i5P6/4ODFGfSKz7AFWBz7956Y5vXYInJoPVZVNPu03+ewpHqi91E74/pmR5PUJ1eh0qqi3undoXMOmJN/G5rH2jZN3Zc9J83O0QHOq19daB+yu4XpiSkw7FzJ/xaFfitEfDHGC8Fu99oPa4ScIQLSrTwTo5+A4MUj/0YVXbj3F26+4ZjP7ylV0w12HYwrX4may/x4pH4cFVgUNLExERERHR1y9ygj6uSrxSpkYsEjF6fJBIQnRPpOZvRNkMNfjRiIttNrRVh1GqTy/l94t/WzMgGW4ZiRHx8rVuPVbuC2yIuRrO42/Ge9OIsfdCbbrtLC6yaMi6sO+FxdrMZLbR/9ShR1ou1/5Pl+Sj+Nj1eGR7M77SGukCLY1HsG1hDpL155V8uNYtw+tNCtImTw587KsTojMmaI9DNb3+Mkr926ANy/G82jMLKcjM7nikybVvLn7+umymK+mYkGEkagZj4ji1wKuxpNh/DB55bZ99GVXynS0jC2P0RGkAxo9SP1OFl5+16C1RuwnbtSDcd5Hc6QsVrC63+l7aP0KBG5Vlqyxmh2pAw+fG2w7wfoSqtvw1HFTGYsZ035M6va5Cexywz79sxJuy7tzZx3zczUIH7q+29Jo+A2MVmb9ly7HPePQsN8zBphpW/SteUk8gfhTGG4G9jtXJMfiB+qHz5Xh+eWBJuDYaY259J8UzltilLTuv+npXWuB4ZR6D8av3SjHG1oits6aDcR8iIiIioquQbKB3iD4bjPWsNEFnEzJn+kmcJXY3yb+b6sRbu73nmjFmsrGNEUvPtAjR4hTvvru3dZYh8/P24aKg/IBwaitahPN4hShIjtaO6TMzVcsGkTsoS5TsrBPq4bRtD5SIdLua91Sx4JSWKMQnr4hRMYpQug0R87zPZ1eBNvtXwEw9bcyA5O2TBan67Dv2dFFk5qGpQexZmiX6Rat58N/3IfGUOhuOTLcPd4iKOiPXzuOiwjFc2NV9KTLfPtPzWM/edWhesoiGImJGveI1m09H9m+USUBhtlqTqe7TJsYsPm6USVsuiFfT1Rl//GdLak8oM2+1iHfy1RnBZNkk5IhVxvk11VWIfPO8czb7lJn1dVKLqb71XGQ9rK/ZKUpyB4kYbZYtRSQ5vOql6dwiIdvqcr1dDJ//rv55+dkDJelBrq3k/RlHhdCzrNbTpSIzQc9zezNQhTR7V7C67K1ls8jR7g15flPLxQH9BLT7yzEixphJym8GqJBnyTLLPVWkpkDYsjcEXL8Li9K087ClvSCqzetwXF73zATLY4d9fx2aJ5JluhIzSrziXw7yWBuybTJ/SSJJvZ9S5lvOgmXOXtVn5nbRoFcv4/4ZYdQNu8hc4z2TXfh1UtXyTr5WXlASROZS87uuSdRVOMRwrYxssry9jtORsrtwRhw/6VfP95SLAnN7q/pqMXvZOZmm1u9QZpojIiIiIqIr68oGfcwpzrUGiLH4TNlsNAy91yvp4lWzbWMGfYIsSkym8J45+IsV42SD3npbe+YaeTTdx7Lhb6Z7N2b0KcVTxHy/hs+FV9Nlo8gmsje008IxpzT2Oq5nMaZj9p/OvOWjRUZQymKxnBrZKuhjThWtLsli3sdGshT+/tsP+pySje+AfUX3EHFxfcXQhxyiXG/B64yAmVWj35f3ObSx+AeB2rjmgY3SYNeprWNHi365GyymvNeZDeDAz9nl/WD9qXNlmUbAIHCxD18Q2JA2Gt7tLd5FFqwu+wuef3Na+STx1BFjY1XIQR/zvlH3ESvy3zESvRl1I/DYdmHX6qxf0CLM+8t7avJk75vCtDlHm/ZcXZ/qiQj7afPa28XwBRbBwLDqpKlF7H1KDUgGfkYti4ScwDoYdtntnS36WG4vl+hkUbDDor4a5+9b3mZgK0gwlIiIiIiIvjZXOOijtn8WiJG9u+mNv+gbxUjHNqF26vE4t0HkDuihN3aUbuK2rKXGr/6S2cCcVS6WZg0QPYxf85VuvcXQXK/tPFrEmaoSkWXuTy7RPQaIcfN3+DaYzpWJTLWnT8wI8WvzfFp2iEdi5WcCfvE/J0rukum2bNFezEfT8pFYljtU9O5mNPqie4i+Qx8Xa88s04MpaYs8wSePpmrt/K43PyOvQ++huWJp4AlKVkEfmTpviOgmG74xmWWBAYqw9t9+0Ee0vCtm3iS3UbezWpQk4TBatudK7pJpIQTM2gy8eC1WPX/8rnnw+hHsOr0h/rnv9TLdPE606GEVwAri3I75YpynzsnPDhgn5m8702ZjuKl6qayn5jEV0e16tZ763RumcIM+QeuyNd/8G3l5cbfYrd3XfgGbMII+okXWJfX8fAK9vlo+WiaybjO+H7yu3YYcm/zbq3eeKZz769A8MURu5x8cbvWOyFevk9VxTPLeKXc8JIZ61w/tmMHuH0MYdbKV/P7a5hAj+3rVpb5DRe7SaqPnYqCwyu79Z3zPw9j/Q47y4PmyDPpInsBW8OAmERERERFdeVHqP/I/8deGw4XoP6QYcBxC7cLwxtugy8S1D8+njcLcxsnY/NYijEuQzU2D6+LH2F40GVNePoj/y1yDrzZONtbQN1LDYtxz0xO4+MtP8JdffpOnvCMiIiIiIroyInzKdrrc1EGcf/FhT/zLqqU+AR9VdM/bMHHudG16afeXX+qJ9A3lwpbZT6PKnYKsKQz4EBERERERXQkM+lCnOC82yn9PYfm/P4u3P77YOgNV83kcefslTBr6pDYLUEqnpkmna1rzCWwqTMPU1Y2wZTjwBGM+REREREREVwSDPtQpg3MeRpICNFb+Evff3gtdo6IQpS62OCTf/yTWn3AjZvQivPYztvS/cSpnIk6rC4nILP4QjfYMLFk+9ZJO009ERERERETBMehDnTP4V/jLkXVwjBuAuB6tj3cp3a7HgHseR0nVSXy6YxaSfJ/8om+C+rM4r74q3dB7pAPbajZgapy2hoiIiIiIiK6Aa2sgZyIiIiIiIiIiCgl7+hARERERERERRSAGfYiIiIiIiIiIIhCDPkREREREREREEYhBHyIiIiIiIiKiCMSgDxERERERERFRBGLQh4iIiIiIiIgoAjHoQ0REREREREQUgRj0ISIiIiIiIiKKQAz6EBERERERERFFIAZ9iIiIiIiIiIgiEIM+REREREREREQRiEEfIiIiIiIiIqIIxKAPEREREREREVEEYtCHiIiIiIiIiCgCMehDRERERERERBSBGPQhIiIiIiIiIopADPoQEREREREREUUgBn2IiIiIiIiIiCIO8P853SeGH4tTowAAAABJRU5ErkJggg==\" alt=\"\" />"
   ]
  },
  {
   "cell_type": "markdown",
   "metadata": {
    "nbgrader": {
     "grade": false,
     "grade_id": "cell-927793ccea2a12d7",
     "locked": true,
     "schema_version": 3,
     "solution": false,
     "task": false
    }
   },
   "source": [
    "## Get the CSV file and upload it to Jupyter\n",
    "\n",
    "* Go to https://datadryad.org/stash/dataset/doi:10.5061/dryad.vb06d3k and download the data by clicking \"Download Dataset\".\n",
    " * Check that now have a file called `doi_10.5061_dryad.vb06d3k__v1.zip` about 99KB in size in your Downloads.\n",
    " * Unzip this file, which should create:\n",
    "   - `spectra.csv`\n",
    "   - `data_onevalueperbee.csv`\n",
    "   - `data_visitationsequence.csv`\n",
    " * We are going focus on the file `data_onevalueperbee.csv`. Upload this file to your Jupyter server using the `Upload` button in the file view. Upload it into the same directory as this `.ipynb` file. Alternatively, if you are running this on your own computer, you can copy this `.csv` file into the directory with your `.ipynb` file.\n",
    "\n",
    "## Look at the file\n",
    "\n",
    "As we have covered, CSV stands for \"Comma separated values\" and is one of the most widely used file formats for scientific data. CSV files are typically like tables, potentially with column names in the first line. The lines of the file are then rows of the table. Spreadsheet programs can open most CSV files, sometimes with a few settings being required to deal with various CSV dialects.\n",
    "\n",
    "Let's take a look at this CSV file. This is mostly a repitition of what we recently looked at. We open the CSV file read the first few lines."
   ]
  },
  {
   "cell_type": "code",
   "execution_count": 9,
   "metadata": {
    "nbgrader": {
     "grade": false,
     "grade_id": "cell-0964768c19f2b15e",
     "locked": true,
     "schema_version": 3,
     "solution": false,
     "task": false
    }
   },
   "outputs": [
    {
     "name": "stdout",
     "output_type": "stream",
     "text": [
      "b'bee;nest;treatment;tstartforaging;logtstartforaging;maxminusstarttime;sumfeedingtime;logsumfeedingtime;numberofvisitations;sumdistcovered;meanvisitduration;revisitations;countyellow;countorange;countblue;visitblue;visitorange;visityellow;allcolorsvisited;averagedistance;meanspeed;sumflowersvisited;visitspatchA;visitspatchB;visitspatchC;patchesvisited;allpatchesvisited;visitsperpatchrounded\\r\\n'\n",
      "b'201531004;3;control;815;2.911157609;1965;80;1.903089987;21;1287.688282;3.80952381;4;14;4;3;1;1;1;1;80.4805176;2.767026543;12;6;13;2;3;1;7\\r\\n'\n",
      "b'201531005;3;control;108;2.033423755;;1;0;1;;1;0;1;0;0;0;0;1;0;;;1;1;0;0;1;0;0\\r\\n'\n",
      "b'201531006;3;control;90;1.954242509;788;136;2.133538908;56;2787.280939;2.428571429;9;41;10;5;1;1;1;1;60.5930639;4.572772117;21;9;25;22;3;1;19\\r\\n'\n"
     ]
    }
   ],
   "source": [
    "# Open the file in Python. The variable `fd` will be assigned the open file object.\n",
    "fd = open('data_onevalueperbee.csv', mode=\"rb\")\n",
    "\n",
    "# Iterate over the lines in the file, also creating an integer called `line_number` via the\n",
    "# use of the `enumerate()` function.\n",
    "for (line_number, line) in enumerate(fd.readlines()):\n",
    "    # Print each line.\n",
    "    print(line)\n",
    "    if line_number >= 3:\n",
    "        # Stop after a few lines\n",
    "        break\n",
    "# Close the open file object.\n",
    "fd.close()"
   ]
  },
  {
   "cell_type": "markdown",
   "metadata": {
    "nbgrader": {
     "grade": false,
     "grade_id": "cell-5dd558e28f33dab8",
     "locked": true,
     "schema_version": 3,
     "solution": false,
     "task": false
    }
   },
   "source": [
    "So, note that instead of a comma (`,`) separating the columns, we have a semicolon (`;`) instead. So we will need to use this when calling the Pandas `read_csv()` function. Thus, we must use the `sep=';'` keywoard argument. Also, this CSV file has some slightly unusual characters in it. From trial and error, I have learned that it must be opened with a `encoding='latin_1'` keyword argument to `read_csv()`.\n",
    "\n",
    "## Q3. Read the file `data_onevalueperbee.csv`? Into a dataframe named `df`.\n",
    "\n",
    "Hint: use the `read_csv` function not only with the filename as the required first positional argument, but also with the keyword arguments described above."
   ]
  },
  {
   "cell_type": "code",
   "execution_count": 10,
   "metadata": {
    "nbgrader": {
     "grade": false,
     "grade_id": "cell-107a3973d184c577",
     "locked": false,
     "schema_version": 3,
     "solution": true,
     "task": false
    }
   },
   "outputs": [],
   "source": [
    "df = pd.read_csv('data_onevalueperbee.csv', sep=';', encoding='latin_1')"
   ]
  },
  {
   "cell_type": "code",
   "execution_count": 11,
   "metadata": {
    "nbgrader": {
     "grade": true,
     "grade_id": "cell-66fcba98183cb481",
     "locked": true,
     "points": 1,
     "schema_version": 3,
     "solution": false,
     "task": false
    }
   },
   "outputs": [],
   "source": [
    "# If this runs without error, it means the answer in your previous cell was correct.\n",
    "assert ads_hash(df)=='15994f5b0e'"
   ]
  },
  {
   "cell_type": "code",
   "execution_count": 12,
   "metadata": {
    "nbgrader": {
     "grade": false,
     "grade_id": "cell-bdfe656f6d2cf933",
     "locked": true,
     "schema_version": 3,
     "solution": false,
     "task": false
    }
   },
   "outputs": [
    {
     "data": {
      "text/html": [
       "<div>\n",
       "<style scoped>\n",
       "    .dataframe tbody tr th:only-of-type {\n",
       "        vertical-align: middle;\n",
       "    }\n",
       "\n",
       "    .dataframe tbody tr th {\n",
       "        vertical-align: top;\n",
       "    }\n",
       "\n",
       "    .dataframe thead th {\n",
       "        text-align: right;\n",
       "    }\n",
       "</style>\n",
       "<table border=\"1\" class=\"dataframe\">\n",
       "  <thead>\n",
       "    <tr style=\"text-align: right;\">\n",
       "      <th></th>\n",
       "      <th>bee</th>\n",
       "      <th>nest</th>\n",
       "      <th>treatment</th>\n",
       "      <th>tstartforaging</th>\n",
       "      <th>logtstartforaging</th>\n",
       "      <th>maxminusstarttime</th>\n",
       "      <th>sumfeedingtime</th>\n",
       "      <th>logsumfeedingtime</th>\n",
       "      <th>numberofvisitations</th>\n",
       "      <th>sumdistcovered</th>\n",
       "      <th>...</th>\n",
       "      <th>allcolorsvisited</th>\n",
       "      <th>averagedistance</th>\n",
       "      <th>meanspeed</th>\n",
       "      <th>sumflowersvisited</th>\n",
       "      <th>visitspatchA</th>\n",
       "      <th>visitspatchB</th>\n",
       "      <th>visitspatchC</th>\n",
       "      <th>patchesvisited</th>\n",
       "      <th>allpatchesvisited</th>\n",
       "      <th>visitsperpatchrounded</th>\n",
       "    </tr>\n",
       "  </thead>\n",
       "  <tbody>\n",
       "    <tr>\n",
       "      <th>0</th>\n",
       "      <td>201531004</td>\n",
       "      <td>3</td>\n",
       "      <td>control</td>\n",
       "      <td>815</td>\n",
       "      <td>2.911158</td>\n",
       "      <td>1965.0</td>\n",
       "      <td>80</td>\n",
       "      <td>1.903090</td>\n",
       "      <td>21</td>\n",
       "      <td>1287.688282</td>\n",
       "      <td>...</td>\n",
       "      <td>1</td>\n",
       "      <td>80.480518</td>\n",
       "      <td>2.767027</td>\n",
       "      <td>12</td>\n",
       "      <td>6</td>\n",
       "      <td>13</td>\n",
       "      <td>2</td>\n",
       "      <td>3</td>\n",
       "      <td>1</td>\n",
       "      <td>7</td>\n",
       "    </tr>\n",
       "    <tr>\n",
       "      <th>1</th>\n",
       "      <td>201531005</td>\n",
       "      <td>3</td>\n",
       "      <td>control</td>\n",
       "      <td>108</td>\n",
       "      <td>2.033424</td>\n",
       "      <td>NaN</td>\n",
       "      <td>1</td>\n",
       "      <td>0.000000</td>\n",
       "      <td>1</td>\n",
       "      <td>NaN</td>\n",
       "      <td>...</td>\n",
       "      <td>0</td>\n",
       "      <td>NaN</td>\n",
       "      <td>NaN</td>\n",
       "      <td>1</td>\n",
       "      <td>1</td>\n",
       "      <td>0</td>\n",
       "      <td>0</td>\n",
       "      <td>1</td>\n",
       "      <td>0</td>\n",
       "      <td>0</td>\n",
       "    </tr>\n",
       "    <tr>\n",
       "      <th>2</th>\n",
       "      <td>201531006</td>\n",
       "      <td>3</td>\n",
       "      <td>control</td>\n",
       "      <td>90</td>\n",
       "      <td>1.954243</td>\n",
       "      <td>788.0</td>\n",
       "      <td>136</td>\n",
       "      <td>2.133539</td>\n",
       "      <td>56</td>\n",
       "      <td>2787.280939</td>\n",
       "      <td>...</td>\n",
       "      <td>1</td>\n",
       "      <td>60.593064</td>\n",
       "      <td>4.572772</td>\n",
       "      <td>21</td>\n",
       "      <td>9</td>\n",
       "      <td>25</td>\n",
       "      <td>22</td>\n",
       "      <td>3</td>\n",
       "      <td>1</td>\n",
       "      <td>19</td>\n",
       "    </tr>\n",
       "    <tr>\n",
       "      <th>3</th>\n",
       "      <td>201531101</td>\n",
       "      <td>3</td>\n",
       "      <td>control</td>\n",
       "      <td>1</td>\n",
       "      <td>0.000000</td>\n",
       "      <td>320.0</td>\n",
       "      <td>61</td>\n",
       "      <td>1.785330</td>\n",
       "      <td>16</td>\n",
       "      <td>578.355534</td>\n",
       "      <td>...</td>\n",
       "      <td>1</td>\n",
       "      <td>72.294442</td>\n",
       "      <td>3.651351</td>\n",
       "      <td>7</td>\n",
       "      <td>0</td>\n",
       "      <td>15</td>\n",
       "      <td>1</td>\n",
       "      <td>2</td>\n",
       "      <td>0</td>\n",
       "      <td>5</td>\n",
       "    </tr>\n",
       "    <tr>\n",
       "      <th>4</th>\n",
       "      <td>201531102</td>\n",
       "      <td>3</td>\n",
       "      <td>control</td>\n",
       "      <td>0</td>\n",
       "      <td>0.000000</td>\n",
       "      <td>656.0</td>\n",
       "      <td>258</td>\n",
       "      <td>2.411620</td>\n",
       "      <td>49</td>\n",
       "      <td>2845.622453</td>\n",
       "      <td>...</td>\n",
       "      <td>1</td>\n",
       "      <td>71.140561</td>\n",
       "      <td>6.307130</td>\n",
       "      <td>18</td>\n",
       "      <td>4</td>\n",
       "      <td>24</td>\n",
       "      <td>21</td>\n",
       "      <td>3</td>\n",
       "      <td>1</td>\n",
       "      <td>16</td>\n",
       "    </tr>\n",
       "  </tbody>\n",
       "</table>\n",
       "<p>5 rows × 28 columns</p>\n",
       "</div>"
      ],
      "text/plain": [
       "         bee  nest treatment  tstartforaging  logtstartforaging  \\\n",
       "0  201531004     3   control             815           2.911158   \n",
       "1  201531005     3   control             108           2.033424   \n",
       "2  201531006     3   control              90           1.954243   \n",
       "3  201531101     3   control               1           0.000000   \n",
       "4  201531102     3   control               0           0.000000   \n",
       "\n",
       "   maxminusstarttime  sumfeedingtime  logsumfeedingtime  numberofvisitations  \\\n",
       "0             1965.0              80           1.903090                   21   \n",
       "1                NaN               1           0.000000                    1   \n",
       "2              788.0             136           2.133539                   56   \n",
       "3              320.0              61           1.785330                   16   \n",
       "4              656.0             258           2.411620                   49   \n",
       "\n",
       "   sumdistcovered  ... allcolorsvisited  averagedistance  meanspeed  \\\n",
       "0     1287.688282  ...                1        80.480518   2.767027   \n",
       "1             NaN  ...                0              NaN        NaN   \n",
       "2     2787.280939  ...                1        60.593064   4.572772   \n",
       "3      578.355534  ...                1        72.294442   3.651351   \n",
       "4     2845.622453  ...                1        71.140561   6.307130   \n",
       "\n",
       "   sumflowersvisited  visitspatchA  visitspatchB  visitspatchC  \\\n",
       "0                 12             6            13             2   \n",
       "1                  1             1             0             0   \n",
       "2                 21             9            25            22   \n",
       "3                  7             0            15             1   \n",
       "4                 18             4            24            21   \n",
       "\n",
       "   patchesvisited  allpatchesvisited  visitsperpatchrounded  \n",
       "0               3                  1                      7  \n",
       "1               1                  0                      0  \n",
       "2               3                  1                     19  \n",
       "3               2                  0                      5  \n",
       "4               3                  1                     16  \n",
       "\n",
       "[5 rows x 28 columns]"
      ]
     },
     "execution_count": 12,
     "metadata": {},
     "output_type": "execute_result"
    }
   ],
   "source": [
    "# Let's look at the first few lines of the file with the pandas DataFrame `.head()` method:\n",
    "\n",
    "df.head()"
   ]
  },
  {
   "cell_type": "markdown",
   "metadata": {
    "nbgrader": {
     "grade": false,
     "grade_id": "cell-85664fce05868fd1",
     "locked": true,
     "schema_version": 3,
     "solution": false,
     "task": false
    }
   },
   "source": [
    "## Q4. How many rows of data are in the dataframe you read from the file `data_onevalueperbee.csv`? Put the answer in a variable `num_rows`.\n",
    "\n",
    "Hint: you can use `len(df)` to calculate the number of rows in the DataFrame `df`."
   ]
  },
  {
   "cell_type": "code",
   "execution_count": 13,
   "metadata": {
    "nbgrader": {
     "grade": false,
     "grade_id": "cell-e10d9bb147d32ad5",
     "locked": false,
     "schema_version": 3,
     "solution": true,
     "task": false
    }
   },
   "outputs": [
    {
     "name": "stdout",
     "output_type": "stream",
     "text": [
      "159\n"
     ]
    }
   ],
   "source": [
    "# Type your answer here and then run this and the following cell.\n",
    "num_rows = len(df)\n",
    "print(num_rows)"
   ]
  },
  {
   "cell_type": "code",
   "execution_count": 14,
   "metadata": {
    "nbgrader": {
     "grade": true,
     "grade_id": "cell-227f7cff2325cb9a",
     "locked": true,
     "points": 1,
     "schema_version": 3,
     "solution": false,
     "task": false
    }
   },
   "outputs": [],
   "source": [
    "# If this runs without error, it means the answer in your previous cell was correct.\n",
    "assert ads_hash(num_rows)=='ff2ccb6ba4'"
   ]
  },
  {
   "cell_type": "markdown",
   "metadata": {
    "nbgrader": {
     "grade": false,
     "grade_id": "cell-6b133b10967bef7a",
     "locked": true,
     "schema_version": 3,
     "solution": false,
     "task": false
    }
   },
   "source": [
    "## Q5. What are the unique values of the `nest` column?\n",
    "\n",
    "Put your answer in the variable `unique_nests`. Hint: use the `.unique()` method on the Series for the `nest` column."
   ]
  },
  {
   "cell_type": "code",
   "execution_count": 15,
   "metadata": {
    "nbgrader": {
     "grade": false,
     "grade_id": "cell-e0b36658308de988",
     "locked": false,
     "schema_version": 3,
     "solution": true,
     "task": false
    }
   },
   "outputs": [
    {
     "name": "stdout",
     "output_type": "stream",
     "text": [
      "[ 3  4  6  8  9 10]\n"
     ]
    }
   ],
   "source": [
    "unique_nests = df['nest'].unique()\n",
    "print(unique_nests)"
   ]
  },
  {
   "cell_type": "code",
   "execution_count": 16,
   "metadata": {
    "nbgrader": {
     "grade": true,
     "grade_id": "cell-208034c33360f85d",
     "locked": true,
     "points": 1,
     "schema_version": 3,
     "solution": false,
     "task": false
    }
   },
   "outputs": [],
   "source": [
    "# If this runs without error, it means the answer in your previous cell was correct.\n",
    "assert ads_hash(unique_nests)=='59e69ce283'"
   ]
  },
  {
   "cell_type": "markdown",
   "metadata": {
    "nbgrader": {
     "grade": false,
     "grade_id": "cell-7802496c83a4d50a",
     "locked": true,
     "schema_version": 3,
     "solution": false,
     "task": false
    }
   },
   "source": [
    "## Q6. What are the unique values of the `treatment` column?\n",
    "\n",
    "Put your answer in the variable `unique_treatments`."
   ]
  },
  {
   "cell_type": "code",
   "execution_count": 17,
   "metadata": {
    "nbgrader": {
     "grade": false,
     "grade_id": "cell-7a258af7f499be42",
     "locked": false,
     "schema_version": 3,
     "solution": true,
     "task": false
    }
   },
   "outputs": [
    {
     "name": "stdout",
     "output_type": "stream",
     "text": [
      "['control' 'imidacloprid']\n"
     ]
    }
   ],
   "source": [
    "unique_treatments = df['treatment'].unique()\n",
    "print(unique_treatments)"
   ]
  },
  {
   "cell_type": "code",
   "execution_count": 18,
   "metadata": {
    "nbgrader": {
     "grade": true,
     "grade_id": "cell-96c51bcd8e5a3ac3",
     "locked": true,
     "points": 1,
     "schema_version": 3,
     "solution": false,
     "task": false
    }
   },
   "outputs": [],
   "source": [
    "# If this runs without error, it means the answer in your previous cell was correct.\n",
    "assert ads_hash(unique_treatments) == '670c49c25a'"
   ]
  },
  {
   "cell_type": "markdown",
   "metadata": {},
   "source": [
    "Now let's check which nests are in each treatment:"
   ]
  },
  {
   "cell_type": "code",
   "execution_count": 19,
   "metadata": {
    "nbgrader": {
     "grade": false,
     "grade_id": "cell-2c145981d446e40d",
     "locked": true,
     "schema_version": 3,
     "solution": false,
     "task": false
    }
   },
   "outputs": [
    {
     "name": "stdout",
     "output_type": "stream",
     "text": [
      "control\n",
      "[3 4 8]\n",
      "\n",
      "imidacloprid\n",
      "[ 6  9 10]\n",
      "\n"
     ]
    }
   ],
   "source": [
    "for treatment, gdf in df.groupby('treatment'):\n",
    "    print(treatment)\n",
    "    print(gdf['nest'].unique())\n",
    "    print()"
   ]
  },
  {
   "cell_type": "markdown",
   "metadata": {
    "nbgrader": {
     "grade": false,
     "grade_id": "cell-e5dbccbf3a349a88",
     "locked": true,
     "schema_version": 3,
     "solution": false,
     "task": false
    }
   },
   "source": [
    "## Q7. Now make a `seaborn` `boxplot` of the time to start foraging (`tstartforaging` in the CSV file) on the `y` axis, `nest` number on the `x` axis, and with the color (`hue`) being the `treatment`. Save the plot to a file named `Figure2a.png`.\n",
    "\n",
    "Your plot should look like: <img src=\"data:image/png;base64,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\" alt=\"\" />\n",
    "\n",
    "Check the left panel of [Figure 2a](https://royalsocietypublishing.org/doi/10.1098/rspb.2018.0506#RSPB20180506F2) from the Lämsä et al. *Proc. Roy Soc B.* 2018 paper. Do you see any similarities or differences with your plot?\n",
    "\n",
    "Hint: import seaborn and call its `boxplot()` function with `data`, `x`, `y`, `hue` keyword arguments with values `df`, `nest`, `tstartforaging`, `treatment`."
   ]
  },
  {
   "cell_type": "code",
   "execution_count": 20,
   "metadata": {
    "nbgrader": {
     "grade": false,
     "grade_id": "cell-df2e372b53d245fd",
     "locked": true,
     "schema_version": 3,
     "solution": false,
     "task": false
    }
   },
   "outputs": [],
   "source": [
    "# Run this cell to import seaborn\n",
    "import seaborn as sns"
   ]
  },
  {
   "cell_type": "code",
   "execution_count": 21,
   "metadata": {
    "nbgrader": {
     "grade": true,
     "grade_id": "cell-208bdcdc93f0ff65",
     "locked": false,
     "points": 1,
     "schema_version": 3,
     "solution": true,
     "task": false
    },
    "tags": []
   },
   "outputs": [
    {
     "data": {
      "text/plain": [
       "<Axes: xlabel='nest', ylabel='tstartforaging'>"
      ]
     },
     "execution_count": 21,
     "metadata": {},
     "output_type": "execute_result"
    },
    {
     "data": {
      "image/png": "[encoded data removed]",
      "text/plain": [
       "<Figure size 640x480 with 1 Axes>"
      ]
     },
     "metadata": {},
     "output_type": "display_data"
    }
   ],
   "source": [
    "sns.boxplot(data=df,x='nest',y='tstartforaging',hue='treatment')"
   ]
  },
  {
   "cell_type": "markdown",
   "metadata": {
    "nbgrader": {
     "grade": false,
     "grade_id": "cell-c9c67275053aadd0",
     "locked": true,
     "schema_version": 3,
     "solution": false,
     "task": false
    }
   },
   "source": [
    "## Q8. Now make a plot using a single line using seaborn's `boxplot` function which shows the duration of the foraging period on the y axis.\n",
    "\n",
    "This should be fairly similar to the second panel in [Figure 2a](https://royalsocietypublishing.org/doi/10.1098/rspb.2018.0506#RSPB20180506F2) from the Lämsä et al. Proc. Roy Soc B. 2018 paper.\n",
    "\n",
    "Hint: the duration of the foraging period is in the `'maxminusstarttime'` column."
   ]
  },
  {
   "cell_type": "code",
   "execution_count": 22,
   "metadata": {
    "nbgrader": {
     "grade": true,
     "grade_id": "cell-d6bb242d388543aa",
     "locked": false,
     "points": 1,
     "schema_version": 3,
     "solution": true,
     "task": false
    },
    "tags": []
   },
   "outputs": [
    {
     "data": {
      "text/plain": [
       "<Axes: xlabel='nest', ylabel='maxminusstarttime'>"
      ]
     },
     "execution_count": 22,
     "metadata": {},
     "output_type": "execute_result"
    },
    {
     "data": {
      "image/png": "[encoded data removed]",
      "text/plain": [
       "<Figure size 640x480 with 1 Axes>"
      ]
     },
     "metadata": {},
     "output_type": "display_data"
    }
   ],
   "source": [
    "# Type your answer here\n",
    "sns.boxplot(data=df,x='nest',y='maxminusstarttime',hue='treatment')"
   ]
  },
  {
   "cell_type": "markdown",
   "metadata": {
    "nbgrader": {
     "grade": false,
     "grade_id": "cell-b926439e7eb1c2b5",
     "locked": true,
     "schema_version": 3,
     "solution": false,
     "task": false
    }
   },
   "source": [
    "## Q9. Make a dictionary called `mean_duration_of_foraging_by_treatment`. Fill this with items whose keys are treatment strings (`'control'` and `'imidacloprid'`) and whose values are the mean of all `'maxminusstarttime'` values for rows in which the `treatment` variable is the same as the key. \n",
    "\n",
    "Hint: use `groupby` to group on the `treatment` column and use the `.mean()` method on the `maxminusstarttime` Series within each group data frame. Store each mean as the value in your dictionary for the key."
   ]
  },
  {
   "cell_type": "code",
   "execution_count": 23,
   "metadata": {
    "nbgrader": {
     "grade": false,
     "grade_id": "cell-cdfad08c7777905d",
     "locked": false,
     "schema_version": 3,
     "solution": true,
     "task": false
    }
   },
   "outputs": [
    {
     "name": "stdout",
     "output_type": "stream",
     "text": [
      "control\n",
      "1394.4603174603174\n",
      "\n",
      "imidacloprid\n",
      "910.8152173913044\n",
      "\n",
      "{'control': 1394.4603174603174, 'imidacloprid': 910.8152173913044}\n"
     ]
    }
   ],
   "source": [
    "mean_duration_of_foraging_by_treatment = {}\n",
    "\n",
    "for treatment, gdf in df.groupby('treatment'):\n",
    "    print(treatment)\n",
    "    print(gdf['maxminusstarttime'].mean())\n",
    "    print()\n",
    "    mean_duration_of_foraging_by_treatment[treatment] = gdf['maxminusstarttime'].mean()\n",
    "    \n",
    "print(mean_duration_of_foraging_by_treatment)"
   ]
  },
  {
   "cell_type": "code",
   "execution_count": 24,
   "metadata": {
    "nbgrader": {
     "grade": true,
     "grade_id": "cell-ad0c60eabc04c1b7",
     "locked": true,
     "points": 1,
     "schema_version": 3,
     "solution": false,
     "task": false
    }
   },
   "outputs": [],
   "source": [
    "# If this runs without error, it means the answer in your previous cell was correct.\n",
    "assert ads_hash([(k,int(round(v))) for (k,v) in mean_duration_of_foraging_by_treatment.items()]) == '14fe49a61a'"
   ]
  },
  {
   "cell_type": "markdown",
   "metadata": {
    "nbgrader": {
     "grade": false,
     "grade_id": "cell-6718f15155ae17c2",
     "locked": true,
     "schema_version": 3,
     "solution": false,
     "task": false
    }
   },
   "source": [
    "## Q10. Make a dictionary `num_unique_bees_per_nest` which has key-value pairs of nest number and the number of unique bees from that nest.\n",
    "\n",
    "Hint use `.groupby` on the `'nest'` column."
   ]
  },
  {
   "cell_type": "code",
   "execution_count": 25,
   "metadata": {
    "nbgrader": {
     "grade": false,
     "grade_id": "cell-0df074ae6ba331e7",
     "locked": false,
     "schema_version": 3,
     "solution": true,
     "task": false
    }
   },
   "outputs": [
    {
     "name": "stdout",
     "output_type": "stream",
     "text": [
      "{3: 8, 4: 23, 6: 37, 8: 34, 9: 33, 10: 24}\n"
     ]
    }
   ],
   "source": [
    "num_unique_bees_per_nest = {}\n",
    "for nest, gdf in df.groupby('nest'):\n",
    "    num_unique_bees_per_nest[nest] = len(gdf['bee'].unique())\n",
    "print(num_unique_bees_per_nest)"
   ]
  },
  {
   "cell_type": "code",
   "execution_count": 26,
   "metadata": {
    "nbgrader": {
     "grade": true,
     "grade_id": "cell-9fe3a1593835ed57",
     "locked": true,
     "points": 1,
     "schema_version": 3,
     "solution": false,
     "task": false
    }
   },
   "outputs": [],
   "source": [
    "# If this runs without error, it means the answer in your previous cell was correct.\n",
    "assert ads_hash(num_unique_bees_per_nest)=='ddc47911c0'"
   ]
  }
 ],
 "metadata": {
  "celltoolbar": "Create Assignment",
  "kernelspec": {
   "display_name": "Python 3 (ipykernel)",
   "language": "python",
   "name": "python3"
  },
  "language_info": {
   "codemirror_mode": {
    "name": "ipython",
    "version": 3
   },
   "file_extension": ".py",
   "mimetype": "text/x-python",
   "name": "python",
   "nbconvert_exporter": "python",
   "pygments_lexer": "ipython3",
   "version": "3.11.7"
  }
 },
 "nbformat": 4,
 "nbformat_minor": 4
}
