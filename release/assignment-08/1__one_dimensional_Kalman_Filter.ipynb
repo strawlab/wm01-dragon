{
 "cells": [
  {
   "cell_type": "markdown",
   "metadata": {},
   "source": [
    "# Kalman filter to estimate a single scalar value\n",
    "\n",
    "In this notebook we will explore a very simple Kalman filter application. In this case, we will estimate the state of a single scalar value. This could be used, for example, in estimating the concentration of a protein. Our \"motion model\" is that the state changes only due to noise. In other words:\n",
    "\n",
    "$x_{t+1} = x_t + N(0,\\sigma^2)$\n",
    "\n",
    "In plain English the value of interest $x$ at time $t+1$ is what it was previously ($x_t$) plus some random normal (also called Gaussian) noise with zero mean and variance $\\sigma^2$.\n",
    "\n",
    "We use higher dimensional numpy arrays, although this is not strictly necessary. We do this because we want to use the same style of code for higher dimensional problems, which will come next."
   ]
  },
  {
   "cell_type": "code",
   "execution_count": null,
   "metadata": {},
   "outputs": [],
   "source": [
    "import numpy as np\n",
    "import adskalman.adskalman as adskalman\n",
    "import matplotlib.pyplot as plt"
   ]
  },
  {
   "cell_type": "code",
   "execution_count": null,
   "metadata": {},
   "outputs": [],
   "source": [
    "def column(arr):\n",
    "    \"\"\"convert 1D array-like to a 2D vertical array\n",
    "\n",
    "    >>> column((1,2,3))\n",
    "\n",
    "    array([[1],\n",
    "           [2],\n",
    "           [3]])\n",
    "    \"\"\"\n",
    "    arr = np.array(arr)\n",
    "    assert arr.ndim == 1\n",
    "    a2 = arr[:, np.newaxis]\n",
    "    return a2"
   ]
  },
  {
   "cell_type": "code",
   "execution_count": null,
   "metadata": {},
   "outputs": [],
   "source": [
    "# Create a 1-dimensional state space model, e.g. concentration:\n",
    "dt = 0.01\n",
    "true_initial_state = column([0.0])\n",
    "# This is F in wikipedia language.\n",
    "motion_model = np.array([[1.0]])\n",
    "\n",
    "# This is Q in wikipedia language. For a constant velocity form, it must take this specific form to be correct.\n",
    "motion_noise_covariance = 1000.0*np.array([[dt]])"
   ]
  },
  {
   "cell_type": "code",
   "execution_count": null,
   "metadata": {},
   "outputs": [],
   "source": [
    "duration = 0.5\n",
    "t = np.arange(0.0, duration, dt)"
   ]
  },
  {
   "cell_type": "code",
   "execution_count": null,
   "metadata": {},
   "outputs": [],
   "source": [
    "# Create some fake data with our model.\n",
    "current_state = true_initial_state\n",
    "state = []\n",
    "for _ in t:\n",
    "    state.append(current_state[:, 0])\n",
    "    noise_sample = adskalman.rand_mvn(np.zeros(1), motion_noise_covariance, 1).T\n",
    "    current_state = np.dot(motion_model, current_state) + noise_sample\n",
    "state = np.array(state)"
   ]
  },
  {
   "cell_type": "code",
   "execution_count": null,
   "metadata": {},
   "outputs": [],
   "source": [
    "plt.plot(state[:, 0], '.-', label='true values')\n",
    "plt.xlabel('t')\n",
    "plt.legend()\n",
    "_ = plt.ylabel('x');"
   ]
  },
  {
   "cell_type": "code",
   "execution_count": null,
   "metadata": {},
   "outputs": [],
   "source": [
    "# Create observation model. We take exactly the true value here (noise is added according to the covariance).\n",
    "observation_model = np.array([[1.0]])\n",
    "observation_noise_covariance = np.array([[10.0]])"
   ]
  },
  {
   "cell_type": "code",
   "execution_count": null,
   "metadata": {},
   "outputs": [],
   "source": [
    "# Create noisy observations.\n",
    "observation = []\n",
    "for current_state in state:\n",
    "    noise_sample = adskalman.rand_mvn(np.zeros(1), observation_noise_covariance, 1).T\n",
    "    current_observation = np.dot(observation_model, column(current_state)) + noise_sample\n",
    "    observation.append(current_observation[:, 0])\n",
    "observation = np.array(observation)"
   ]
  },
  {
   "cell_type": "code",
   "execution_count": null,
   "metadata": {},
   "outputs": [],
   "source": [
    "plt.plot(observation[:, 0], '.-', label='observations')\n",
    "plt.xlabel('t')\n",
    "plt.legend()\n",
    "_ = plt.ylabel('x')"
   ]
  },
  {
   "cell_type": "code",
   "execution_count": null,
   "metadata": {},
   "outputs": [],
   "source": [
    "# Run kalman filter on the noisy observations.\n",
    "y = observation\n",
    "F = motion_model\n",
    "H = observation_model\n",
    "Q = motion_noise_covariance\n",
    "R = observation_noise_covariance\n",
    "initx = true_initial_state[:, 0]\n",
    "initV = 1000.0*np.eye(1)"
   ]
  },
  {
   "cell_type": "code",
   "execution_count": null,
   "metadata": {},
   "outputs": [],
   "source": [
    "kfilt = adskalman.KalmanFilter(F, H, Q, R, initx, initV)\n",
    "xfilt = []\n",
    "Vfilt = []\n",
    "for i, y_i in enumerate(y):\n",
    "    is_initial = i == 0\n",
    "    xfilt_i, Vfilt_i = kfilt.step(y=y_i, isinitial=is_initial)\n",
    "    xfilt.append(xfilt_i)\n",
    "    Vfilt.append(Vfilt_i)\n",
    "xfilt = np.array(xfilt)\n",
    "Vfilt = np.array(Vfilt)"
   ]
  },
  {
   "cell_type": "code",
   "execution_count": null,
   "metadata": {},
   "outputs": [],
   "source": [
    "fig, axs = plt.subplots(nrows=2, figsize=(10,8))\n",
    "\n",
    "ax = axs[0]\n",
    "t = np.arange(len(xfilt[:, 0]))\n",
    "low = xfilt[:, 0]-np.sqrt(Vfilt[:, 0, 0])\n",
    "high = xfilt[:, 0]+np.sqrt(Vfilt[:, 0, 0])\n",
    "ax.fill_between(t, low, high, alpha=0.2, color='green')\n",
    "\n",
    "ax.plot(t,state[:, 0], '.-', label='true')\n",
    "ax.plot(t,observation[:, 0], '.-', label='observed')\n",
    "ax.plot(t,xfilt[:, 0], '.-', color='green', label='KF estimate')\n",
    "\n",
    "ax.set_xlabel('t')\n",
    "ax.set_ylabel('x')\n",
    "ax.legend()\n",
    "\n",
    "ax = axs[1]\n",
    "ax.plot(Vfilt[:, 0, 0], '.-', label='variance')\n",
    "ax.set_xlabel('t')\n",
    "ax.set_ylabel('$\\sigma^2$')\n",
    "ax.legend();"
   ]
  },
  {
   "cell_type": "markdown",
   "metadata": {},
   "source": [
    "# Q1 Note that the initial variance is quite high and then decreases. Why does it decrease after a few observations?\n",
    "\n",
    "(Your answer should be a text explanation.)"
   ]
  },
  {
   "cell_type": "markdown",
   "metadata": {
    "deletable": false,
    "nbgrader": {
     "cell_type": "markdown",
     "checksum": "8b3945d6f501419304fe0b128c632407",
     "grade": true,
     "grade_id": "cell-2e1c1dd5840ee06c",
     "locked": false,
     "points": 1,
     "schema_version": 3,
     "solution": true,
     "task": false
    },
    "tags": []
   },
   "source": [
    "YOUR ANSWER HERE"
   ]
  },
  {
   "cell_type": "code",
   "execution_count": null,
   "metadata": {},
   "outputs": [],
   "source": [
    "# Now run again with missing data\n",
    "y[20:30, :] = np.nan\n",
    "kfilt = adskalman.KalmanFilter(F, H, Q, R, initx, initV)\n",
    "xfilt = []\n",
    "Vfilt = []\n",
    "for i, y_i in enumerate(y):\n",
    "    is_initial = i == 0\n",
    "    xfilt_i, Vfilt_i = kfilt.step(y=y_i, isinitial=is_initial)\n",
    "    xfilt.append(xfilt_i)\n",
    "    Vfilt.append(Vfilt_i)\n",
    "xfilt = np.array(xfilt)\n",
    "Vfilt = np.array(Vfilt)"
   ]
  },
  {
   "cell_type": "code",
   "execution_count": null,
   "metadata": {},
   "outputs": [],
   "source": [
    "fig, axs = plt.subplots(nrows=2, figsize=(10,8))\n",
    "\n",
    "ax = axs[0]\n",
    "t = np.arange(len(xfilt[:, 0]))\n",
    "low = xfilt[:, 0]-np.sqrt(Vfilt[:, 0, 0])\n",
    "high = xfilt[:, 0]+np.sqrt(Vfilt[:, 0, 0])\n",
    "ax.fill_between(t, low, high, alpha=0.2, color='green')\n",
    "\n",
    "ax.plot(t,state[:, 0], '.-', label='true')\n",
    "ax.plot(t,observation[:, 0], '.-', label='observed')\n",
    "ax.plot(t,xfilt[:, 0], '.-', color='green', label='KF estimate')\n",
    "\n",
    "ax.set_xlabel('t')\n",
    "ax.set_ylabel('x')\n",
    "ax.legend()\n",
    "\n",
    "ax = axs[1]\n",
    "ax.plot(Vfilt[:, 0, 0], '.-', label='variance')\n",
    "ax.set_xlabel('t')\n",
    "ax.set_ylabel('$\\sigma^2$')\n",
    "ax.legend();"
   ]
  },
  {
   "cell_type": "markdown",
   "metadata": {},
   "source": [
    "# Q2 Note that the variance increases between t=20 and t=30. Why is it increasing here?\n",
    "\n",
    "(Your answer should be a text explanation.)"
   ]
  },
  {
   "cell_type": "markdown",
   "metadata": {
    "deletable": false,
    "nbgrader": {
     "cell_type": "markdown",
     "checksum": "b387c1381c31b0b5ee7b0767cc152d5f",
     "grade": true,
     "grade_id": "cell-f11dc3c9a0745e25",
     "locked": false,
     "points": 1,
     "schema_version": 3,
     "solution": true,
     "task": false
    },
    "tags": []
   },
   "source": [
    "YOUR ANSWER HERE"
   ]
  }
 ],
 "metadata": {
  "kernelspec": {
   "display_name": "Python 3 (ipykernel)",
   "language": "python",
   "name": "python3"
  },
  "language_info": {
   "codemirror_mode": {
    "name": "ipython",
    "version": 3
   },
   "file_extension": ".py",
   "mimetype": "text/x-python",
   "name": "python",
   "nbconvert_exporter": "python",
   "pygments_lexer": "ipython3",
   "version": "3.11.7"
  }
 },
 "nbformat": 4,
 "nbformat_minor": 4
}
