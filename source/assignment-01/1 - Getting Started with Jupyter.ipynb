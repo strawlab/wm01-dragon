{
 "cells": [
  {
   "cell_type": "markdown",
   "id": "c7a31e4a-97e2-4592-a424-7ac54367c3b9",
   "metadata": {
    "deletable": false,
    "editable": false,
    "nbgrader": {
     "checksum": "ba1f527dd032aff42ebc63befc112646",
     "grade": false,
     "grade_id": "cell-9c05f2030b485161",
     "locked": true,
     "schema_version": 3,
     "solution": false,
     "task": false
    },
    "tags": []
   },
   "source": [
    "# Getting Started with Jupyter"
   ]
  },
  {
   "cell_type": "code",
   "execution_count": 1,
   "id": "665a7c32-7914-4351-97c8-5eb52ea8ddea",
   "metadata": {
    "deletable": false,
    "editable": false,
    "nbgrader": {
     "checksum": "e9ab5a8456ccaed113dfecae2ed67beb",
     "grade": false,
     "grade_id": "cell-209f407e9da0f583",
     "locked": true,
     "schema_version": 3,
     "solution": false,
     "task": false
    },
    "tags": []
   },
   "outputs": [],
   "source": [
    "# You must run this cell, but you can ignore its contents.\n",
    "\n",
    "import hashlib\n",
    "\n",
    "def ads_hash(ty):\n",
    "    \"\"\"Return a unique string for input\"\"\"\n",
    "    ty_str = str(ty).encode()\n",
    "    m = hashlib.sha256()\n",
    "    m.update(ty_str)\n",
    "    return m.hexdigest()[:10]"
   ]
  },
  {
   "cell_type": "code",
   "execution_count": 2,
   "id": "7199daa1-7d2b-4e7d-88c0-d9ea9bce4c7e",
   "metadata": {},
   "outputs": [
    {
     "data": {
      "text/plain": [
       "2"
      ]
     },
     "execution_count": 2,
     "metadata": {},
     "output_type": "execute_result"
    }
   ],
   "source": [
    "1+1"
   ]
  },
  {
   "cell_type": "markdown",
   "id": "a6af9f42-8ca0-4558-b460-ec8715fcff84",
   "metadata": {
    "deletable": false,
    "editable": false,
    "nbgrader": {
     "checksum": "51cc69d6d2fddc46d05b647a6495c04e",
     "grade": false,
     "grade_id": "cell-baa4262800bb344e",
     "locked": true,
     "schema_version": 3,
     "solution": false,
     "task": false
    },
    "tags": []
   },
   "source": [
    "# Q1 first question\n",
    "\n",
    "Assign to the variable `x` the result of `1 + 1`."
   ]
  },
  {
   "cell_type": "code",
   "execution_count": 3,
   "id": "3e169c3a-17b9-47e9-ac2e-46a11cad6789",
   "metadata": {
    "deletable": false,
    "nbgrader": {
     "checksum": "60bc8a6f57ba1e15d2a0a0ad06fbe2ea",
     "grade": false,
     "grade_id": "cell-ffc933aca86d4cfd",
     "locked": false,
     "schema_version": 3,
     "solution": true,
     "task": false
    },
    "tags": []
   },
   "outputs": [],
   "source": [
    "x = 1 + 1"
   ]
  },
  {
   "cell_type": "code",
   "execution_count": 4,
   "id": "d60a0973-e908-44cb-a90a-0d14fe2c5c64",
   "metadata": {
    "deletable": false,
    "editable": false,
    "nbgrader": {
     "checksum": "bff497cf88cfa9c8625a4c95a0c27740",
     "grade": false,
     "grade_id": "cell-0fa2b63c2b84b817",
     "locked": true,
     "schema_version": 3,
     "solution": false,
     "task": false
    },
    "tags": []
   },
   "outputs": [],
   "source": [
    "assert x == 2"
   ]
  },
  {
   "cell_type": "code",
   "execution_count": 5,
   "id": "a9fe6d8c-3647-436b-bcbe-6aa3e1a99879",
   "metadata": {
    "deletable": false,
    "editable": false,
    "nbgrader": {
     "checksum": "9a9b2f1f2da790f8b20845f83551ae8c",
     "grade": true,
     "grade_id": "cell-086097d6cabebf8c",
     "locked": true,
     "points": 1,
     "schema_version": 3,
     "solution": false,
     "task": false
    },
    "tags": []
   },
   "outputs": [],
   "source": [
    "assert ads_hash(x) == 'd4735e3a26'"
   ]
  },
  {
   "cell_type": "code",
   "execution_count": 6,
   "id": "e1bbe2eb-f280-4451-99b2-590256e4dd9f",
   "metadata": {},
   "outputs": [],
   "source": [
    "x = 10"
   ]
  }
 ],
 "metadata": {
  "kernelspec": {
   "display_name": "Python 3 (ipykernel)",
   "language": "python",
   "name": "python3"
  },
  "language_info": {
   "codemirror_mode": {
    "name": "ipython",
    "version": 3
   },
   "file_extension": ".py",
   "mimetype": "text/x-python",
   "name": "python",
   "nbconvert_exporter": "python",
   "pygments_lexer": "ipython3",
   "version": "3.11.7"
  }
 },
 "nbformat": 4,
 "nbformat_minor": 5
}
